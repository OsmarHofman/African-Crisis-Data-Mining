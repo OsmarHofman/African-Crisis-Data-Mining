{
  "nbformat": 4,
  "nbformat_minor": 0,
  "metadata": {
    "colab": {
      "name": "Pre_Processamento.ipynb",
      "provenance": [],
      "collapsed_sections": [],
      "toc_visible": true,
      "include_colab_link": true
    },
    "kernelspec": {
      "name": "python3",
      "display_name": "Python 3"
    }
  },
  "cells": [
    {
      "cell_type": "markdown",
      "metadata": {
        "id": "view-in-github",
        "colab_type": "text"
      },
      "source": [
        "<a href=\"https://colab.research.google.com/github/OsmarHofman/African-Crisis-Data-Mining/blob/master/Pre_Processamento.ipynb\" target=\"_parent\"><img src=\"https://colab.research.google.com/assets/colab-badge.svg\" alt=\"Open In Colab\"/></a>"
      ]
    },
    {
      "cell_type": "code",
      "metadata": {
        "id": "EeySPNeOI5mb",
        "colab_type": "code",
        "outputId": "c19449c3-d525-49b9-bdef-679ada497d6e",
        "colab": {
          "base_uri": "https://localhost:8080/",
          "height": 439
        }
      },
      "source": [
        "import pandas as pd \n",
        "url = 'https://raw.githubusercontent.com/OsmarHofman/African-Crisis-Data-Mining/master/african_crises.csv?token=AKECPJHSFJDJ77WCEIYKBNC53ZSJ2'\n",
        "df = pd.read_csv(url,header=0, sep=',')\n",
        "df"
      ],
      "execution_count": 3,
      "outputs": [
        {
          "output_type": "execute_result",
          "data": {
            "text/html": [
              "<div>\n",
              "<style scoped>\n",
              "    .dataframe tbody tr th:only-of-type {\n",
              "        vertical-align: middle;\n",
              "    }\n",
              "\n",
              "    .dataframe tbody tr th {\n",
              "        vertical-align: top;\n",
              "    }\n",
              "\n",
              "    .dataframe thead th {\n",
              "        text-align: right;\n",
              "    }\n",
              "</style>\n",
              "<table border=\"1\" class=\"dataframe\">\n",
              "  <thead>\n",
              "    <tr style=\"text-align: right;\">\n",
              "      <th></th>\n",
              "      <th>case</th>\n",
              "      <th>cc3</th>\n",
              "      <th>country</th>\n",
              "      <th>year</th>\n",
              "      <th>systemic_crisis</th>\n",
              "      <th>exch_usd</th>\n",
              "      <th>domestic_debt_in_default</th>\n",
              "      <th>sovereign_external_debt_default</th>\n",
              "      <th>gdp_weighted_default</th>\n",
              "      <th>inflation_annual_cpi</th>\n",
              "      <th>independence</th>\n",
              "      <th>currency_crises</th>\n",
              "      <th>inflation_crises</th>\n",
              "      <th>banking_crisis</th>\n",
              "    </tr>\n",
              "  </thead>\n",
              "  <tbody>\n",
              "    <tr>\n",
              "      <th>0</th>\n",
              "      <td>1</td>\n",
              "      <td>DZA</td>\n",
              "      <td>Algeria</td>\n",
              "      <td>1870</td>\n",
              "      <td>1</td>\n",
              "      <td>0.052264</td>\n",
              "      <td>0</td>\n",
              "      <td>0</td>\n",
              "      <td>0.0</td>\n",
              "      <td>3.441456</td>\n",
              "      <td>0</td>\n",
              "      <td>0</td>\n",
              "      <td>0</td>\n",
              "      <td>crisis</td>\n",
              "    </tr>\n",
              "    <tr>\n",
              "      <th>1</th>\n",
              "      <td>1</td>\n",
              "      <td>DZA</td>\n",
              "      <td>Algeria</td>\n",
              "      <td>1871</td>\n",
              "      <td>0</td>\n",
              "      <td>0.052798</td>\n",
              "      <td>0</td>\n",
              "      <td>0</td>\n",
              "      <td>0.0</td>\n",
              "      <td>14.149140</td>\n",
              "      <td>0</td>\n",
              "      <td>0</td>\n",
              "      <td>0</td>\n",
              "      <td>no_crisis</td>\n",
              "    </tr>\n",
              "    <tr>\n",
              "      <th>2</th>\n",
              "      <td>1</td>\n",
              "      <td>DZA</td>\n",
              "      <td>Algeria</td>\n",
              "      <td>1872</td>\n",
              "      <td>0</td>\n",
              "      <td>0.052274</td>\n",
              "      <td>0</td>\n",
              "      <td>0</td>\n",
              "      <td>0.0</td>\n",
              "      <td>-3.718593</td>\n",
              "      <td>0</td>\n",
              "      <td>0</td>\n",
              "      <td>0</td>\n",
              "      <td>no_crisis</td>\n",
              "    </tr>\n",
              "    <tr>\n",
              "      <th>3</th>\n",
              "      <td>1</td>\n",
              "      <td>DZA</td>\n",
              "      <td>Algeria</td>\n",
              "      <td>1873</td>\n",
              "      <td>0</td>\n",
              "      <td>0.051680</td>\n",
              "      <td>0</td>\n",
              "      <td>0</td>\n",
              "      <td>0.0</td>\n",
              "      <td>11.203897</td>\n",
              "      <td>0</td>\n",
              "      <td>0</td>\n",
              "      <td>0</td>\n",
              "      <td>no_crisis</td>\n",
              "    </tr>\n",
              "    <tr>\n",
              "      <th>4</th>\n",
              "      <td>1</td>\n",
              "      <td>DZA</td>\n",
              "      <td>Algeria</td>\n",
              "      <td>1874</td>\n",
              "      <td>0</td>\n",
              "      <td>0.051308</td>\n",
              "      <td>0</td>\n",
              "      <td>0</td>\n",
              "      <td>0.0</td>\n",
              "      <td>-3.848561</td>\n",
              "      <td>0</td>\n",
              "      <td>0</td>\n",
              "      <td>0</td>\n",
              "      <td>no_crisis</td>\n",
              "    </tr>\n",
              "    <tr>\n",
              "      <th>...</th>\n",
              "      <td>...</td>\n",
              "      <td>...</td>\n",
              "      <td>...</td>\n",
              "      <td>...</td>\n",
              "      <td>...</td>\n",
              "      <td>...</td>\n",
              "      <td>...</td>\n",
              "      <td>...</td>\n",
              "      <td>...</td>\n",
              "      <td>...</td>\n",
              "      <td>...</td>\n",
              "      <td>...</td>\n",
              "      <td>...</td>\n",
              "      <td>...</td>\n",
              "    </tr>\n",
              "    <tr>\n",
              "      <th>1054</th>\n",
              "      <td>70</td>\n",
              "      <td>ZWE</td>\n",
              "      <td>Zimbabwe</td>\n",
              "      <td>2009</td>\n",
              "      <td>1</td>\n",
              "      <td>354.800000</td>\n",
              "      <td>1</td>\n",
              "      <td>1</td>\n",
              "      <td>0.0</td>\n",
              "      <td>-7.670000</td>\n",
              "      <td>1</td>\n",
              "      <td>1</td>\n",
              "      <td>0</td>\n",
              "      <td>crisis</td>\n",
              "    </tr>\n",
              "    <tr>\n",
              "      <th>1055</th>\n",
              "      <td>70</td>\n",
              "      <td>ZWE</td>\n",
              "      <td>Zimbabwe</td>\n",
              "      <td>2010</td>\n",
              "      <td>0</td>\n",
              "      <td>378.200000</td>\n",
              "      <td>1</td>\n",
              "      <td>1</td>\n",
              "      <td>0.0</td>\n",
              "      <td>3.217000</td>\n",
              "      <td>1</td>\n",
              "      <td>0</td>\n",
              "      <td>0</td>\n",
              "      <td>no_crisis</td>\n",
              "    </tr>\n",
              "    <tr>\n",
              "      <th>1056</th>\n",
              "      <td>70</td>\n",
              "      <td>ZWE</td>\n",
              "      <td>Zimbabwe</td>\n",
              "      <td>2011</td>\n",
              "      <td>0</td>\n",
              "      <td>361.900000</td>\n",
              "      <td>1</td>\n",
              "      <td>1</td>\n",
              "      <td>0.0</td>\n",
              "      <td>4.920000</td>\n",
              "      <td>1</td>\n",
              "      <td>0</td>\n",
              "      <td>0</td>\n",
              "      <td>no_crisis</td>\n",
              "    </tr>\n",
              "    <tr>\n",
              "      <th>1057</th>\n",
              "      <td>70</td>\n",
              "      <td>ZWE</td>\n",
              "      <td>Zimbabwe</td>\n",
              "      <td>2012</td>\n",
              "      <td>0</td>\n",
              "      <td>361.900000</td>\n",
              "      <td>1</td>\n",
              "      <td>1</td>\n",
              "      <td>0.0</td>\n",
              "      <td>3.720000</td>\n",
              "      <td>1</td>\n",
              "      <td>0</td>\n",
              "      <td>0</td>\n",
              "      <td>no_crisis</td>\n",
              "    </tr>\n",
              "    <tr>\n",
              "      <th>1058</th>\n",
              "      <td>70</td>\n",
              "      <td>ZWE</td>\n",
              "      <td>Zimbabwe</td>\n",
              "      <td>2013</td>\n",
              "      <td>0</td>\n",
              "      <td>361.900000</td>\n",
              "      <td>1</td>\n",
              "      <td>1</td>\n",
              "      <td>0.0</td>\n",
              "      <td>1.632000</td>\n",
              "      <td>1</td>\n",
              "      <td>0</td>\n",
              "      <td>0</td>\n",
              "      <td>no_crisis</td>\n",
              "    </tr>\n",
              "  </tbody>\n",
              "</table>\n",
              "<p>1059 rows × 14 columns</p>\n",
              "</div>"
            ],
            "text/plain": [
              "      case  cc3   country  ...  currency_crises  inflation_crises  banking_crisis\n",
              "0        1  DZA   Algeria  ...                0                 0          crisis\n",
              "1        1  DZA   Algeria  ...                0                 0       no_crisis\n",
              "2        1  DZA   Algeria  ...                0                 0       no_crisis\n",
              "3        1  DZA   Algeria  ...                0                 0       no_crisis\n",
              "4        1  DZA   Algeria  ...                0                 0       no_crisis\n",
              "...    ...  ...       ...  ...              ...               ...             ...\n",
              "1054    70  ZWE  Zimbabwe  ...                1                 0          crisis\n",
              "1055    70  ZWE  Zimbabwe  ...                0                 0       no_crisis\n",
              "1056    70  ZWE  Zimbabwe  ...                0                 0       no_crisis\n",
              "1057    70  ZWE  Zimbabwe  ...                0                 0       no_crisis\n",
              "1058    70  ZWE  Zimbabwe  ...                0                 0       no_crisis\n",
              "\n",
              "[1059 rows x 14 columns]"
            ]
          },
          "metadata": {
            "tags": []
          },
          "execution_count": 3
        }
      ]
    },
    {
      "cell_type": "markdown",
      "metadata": {
        "id": "L8kzrPxbMwDS",
        "colab_type": "text"
      },
      "source": [
        "# Pré-Processamento:\n",
        "&nbsp; Antes de qualquer tipo de transformação nos dados, serão removidas os atributos `case` e `cc3`, já que representam atributos que não serão úteis para os demais processos da mineração de dados."
      ]
    },
    {
      "cell_type": "code",
      "metadata": {
        "id": "wW-bUQQ7vvsJ",
        "colab_type": "code",
        "outputId": "87a9f442-8753-43d9-d25c-e64074b89c36",
        "colab": {
          "base_uri": "https://localhost:8080/",
          "height": 439
        }
      },
      "source": [
        "df.drop(columns=['case','cc3'])"
      ],
      "execution_count": 4,
      "outputs": [
        {
          "output_type": "execute_result",
          "data": {
            "text/html": [
              "<div>\n",
              "<style scoped>\n",
              "    .dataframe tbody tr th:only-of-type {\n",
              "        vertical-align: middle;\n",
              "    }\n",
              "\n",
              "    .dataframe tbody tr th {\n",
              "        vertical-align: top;\n",
              "    }\n",
              "\n",
              "    .dataframe thead th {\n",
              "        text-align: right;\n",
              "    }\n",
              "</style>\n",
              "<table border=\"1\" class=\"dataframe\">\n",
              "  <thead>\n",
              "    <tr style=\"text-align: right;\">\n",
              "      <th></th>\n",
              "      <th>country</th>\n",
              "      <th>year</th>\n",
              "      <th>systemic_crisis</th>\n",
              "      <th>exch_usd</th>\n",
              "      <th>domestic_debt_in_default</th>\n",
              "      <th>sovereign_external_debt_default</th>\n",
              "      <th>gdp_weighted_default</th>\n",
              "      <th>inflation_annual_cpi</th>\n",
              "      <th>independence</th>\n",
              "      <th>currency_crises</th>\n",
              "      <th>inflation_crises</th>\n",
              "      <th>banking_crisis</th>\n",
              "    </tr>\n",
              "  </thead>\n",
              "  <tbody>\n",
              "    <tr>\n",
              "      <th>0</th>\n",
              "      <td>Algeria</td>\n",
              "      <td>1870</td>\n",
              "      <td>1</td>\n",
              "      <td>0.052264</td>\n",
              "      <td>0</td>\n",
              "      <td>0</td>\n",
              "      <td>0.0</td>\n",
              "      <td>3.441456</td>\n",
              "      <td>0</td>\n",
              "      <td>0</td>\n",
              "      <td>0</td>\n",
              "      <td>crisis</td>\n",
              "    </tr>\n",
              "    <tr>\n",
              "      <th>1</th>\n",
              "      <td>Algeria</td>\n",
              "      <td>1871</td>\n",
              "      <td>0</td>\n",
              "      <td>0.052798</td>\n",
              "      <td>0</td>\n",
              "      <td>0</td>\n",
              "      <td>0.0</td>\n",
              "      <td>14.149140</td>\n",
              "      <td>0</td>\n",
              "      <td>0</td>\n",
              "      <td>0</td>\n",
              "      <td>no_crisis</td>\n",
              "    </tr>\n",
              "    <tr>\n",
              "      <th>2</th>\n",
              "      <td>Algeria</td>\n",
              "      <td>1872</td>\n",
              "      <td>0</td>\n",
              "      <td>0.052274</td>\n",
              "      <td>0</td>\n",
              "      <td>0</td>\n",
              "      <td>0.0</td>\n",
              "      <td>-3.718593</td>\n",
              "      <td>0</td>\n",
              "      <td>0</td>\n",
              "      <td>0</td>\n",
              "      <td>no_crisis</td>\n",
              "    </tr>\n",
              "    <tr>\n",
              "      <th>3</th>\n",
              "      <td>Algeria</td>\n",
              "      <td>1873</td>\n",
              "      <td>0</td>\n",
              "      <td>0.051680</td>\n",
              "      <td>0</td>\n",
              "      <td>0</td>\n",
              "      <td>0.0</td>\n",
              "      <td>11.203897</td>\n",
              "      <td>0</td>\n",
              "      <td>0</td>\n",
              "      <td>0</td>\n",
              "      <td>no_crisis</td>\n",
              "    </tr>\n",
              "    <tr>\n",
              "      <th>4</th>\n",
              "      <td>Algeria</td>\n",
              "      <td>1874</td>\n",
              "      <td>0</td>\n",
              "      <td>0.051308</td>\n",
              "      <td>0</td>\n",
              "      <td>0</td>\n",
              "      <td>0.0</td>\n",
              "      <td>-3.848561</td>\n",
              "      <td>0</td>\n",
              "      <td>0</td>\n",
              "      <td>0</td>\n",
              "      <td>no_crisis</td>\n",
              "    </tr>\n",
              "    <tr>\n",
              "      <th>...</th>\n",
              "      <td>...</td>\n",
              "      <td>...</td>\n",
              "      <td>...</td>\n",
              "      <td>...</td>\n",
              "      <td>...</td>\n",
              "      <td>...</td>\n",
              "      <td>...</td>\n",
              "      <td>...</td>\n",
              "      <td>...</td>\n",
              "      <td>...</td>\n",
              "      <td>...</td>\n",
              "      <td>...</td>\n",
              "    </tr>\n",
              "    <tr>\n",
              "      <th>1054</th>\n",
              "      <td>Zimbabwe</td>\n",
              "      <td>2009</td>\n",
              "      <td>1</td>\n",
              "      <td>354.800000</td>\n",
              "      <td>1</td>\n",
              "      <td>1</td>\n",
              "      <td>0.0</td>\n",
              "      <td>-7.670000</td>\n",
              "      <td>1</td>\n",
              "      <td>1</td>\n",
              "      <td>0</td>\n",
              "      <td>crisis</td>\n",
              "    </tr>\n",
              "    <tr>\n",
              "      <th>1055</th>\n",
              "      <td>Zimbabwe</td>\n",
              "      <td>2010</td>\n",
              "      <td>0</td>\n",
              "      <td>378.200000</td>\n",
              "      <td>1</td>\n",
              "      <td>1</td>\n",
              "      <td>0.0</td>\n",
              "      <td>3.217000</td>\n",
              "      <td>1</td>\n",
              "      <td>0</td>\n",
              "      <td>0</td>\n",
              "      <td>no_crisis</td>\n",
              "    </tr>\n",
              "    <tr>\n",
              "      <th>1056</th>\n",
              "      <td>Zimbabwe</td>\n",
              "      <td>2011</td>\n",
              "      <td>0</td>\n",
              "      <td>361.900000</td>\n",
              "      <td>1</td>\n",
              "      <td>1</td>\n",
              "      <td>0.0</td>\n",
              "      <td>4.920000</td>\n",
              "      <td>1</td>\n",
              "      <td>0</td>\n",
              "      <td>0</td>\n",
              "      <td>no_crisis</td>\n",
              "    </tr>\n",
              "    <tr>\n",
              "      <th>1057</th>\n",
              "      <td>Zimbabwe</td>\n",
              "      <td>2012</td>\n",
              "      <td>0</td>\n",
              "      <td>361.900000</td>\n",
              "      <td>1</td>\n",
              "      <td>1</td>\n",
              "      <td>0.0</td>\n",
              "      <td>3.720000</td>\n",
              "      <td>1</td>\n",
              "      <td>0</td>\n",
              "      <td>0</td>\n",
              "      <td>no_crisis</td>\n",
              "    </tr>\n",
              "    <tr>\n",
              "      <th>1058</th>\n",
              "      <td>Zimbabwe</td>\n",
              "      <td>2013</td>\n",
              "      <td>0</td>\n",
              "      <td>361.900000</td>\n",
              "      <td>1</td>\n",
              "      <td>1</td>\n",
              "      <td>0.0</td>\n",
              "      <td>1.632000</td>\n",
              "      <td>1</td>\n",
              "      <td>0</td>\n",
              "      <td>0</td>\n",
              "      <td>no_crisis</td>\n",
              "    </tr>\n",
              "  </tbody>\n",
              "</table>\n",
              "<p>1059 rows × 12 columns</p>\n",
              "</div>"
            ],
            "text/plain": [
              "       country  year  ...  inflation_crises  banking_crisis\n",
              "0      Algeria  1870  ...                 0          crisis\n",
              "1      Algeria  1871  ...                 0       no_crisis\n",
              "2      Algeria  1872  ...                 0       no_crisis\n",
              "3      Algeria  1873  ...                 0       no_crisis\n",
              "4      Algeria  1874  ...                 0       no_crisis\n",
              "...        ...   ...  ...               ...             ...\n",
              "1054  Zimbabwe  2009  ...                 0          crisis\n",
              "1055  Zimbabwe  2010  ...                 0       no_crisis\n",
              "1056  Zimbabwe  2011  ...                 0       no_crisis\n",
              "1057  Zimbabwe  2012  ...                 0       no_crisis\n",
              "1058  Zimbabwe  2013  ...                 0       no_crisis\n",
              "\n",
              "[1059 rows x 12 columns]"
            ]
          },
          "metadata": {
            "tags": []
          },
          "execution_count": 4
        }
      ]
    },
    {
      "cell_type": "markdown",
      "metadata": {
        "id": "iNVzRsRiupXE",
        "colab_type": "text"
      },
      "source": [
        "## **Limpeza de dados** \n",
        "\n",
        "&nbsp; Primeiramente, será trocado os nomes do atributos, visto que alguns estão nominados como \"crisis\" e outros como \"crises\", assim unificando para \"crisis\". Assim como, padronizar o sufixo \"in_default\" para \"default\".\n"
      ]
    },
    {
      "cell_type": "code",
      "metadata": {
        "id": "G6HqOu3qFeGG",
        "colab_type": "code",
        "outputId": "dc470bc9-384c-4173-9fce-117933aebb8a",
        "colab": {
          "base_uri": "https://localhost:8080/",
          "height": 439
        }
      },
      "source": [
        "df.rename(columns={'domestic_debt_in_default' :'domestic_debt_default','inflation_crises' : 'inflation_crisis','currency_crises' : 'currency_crisis' },inplace =True)\n",
        "df"
      ],
      "execution_count": 5,
      "outputs": [
        {
          "output_type": "execute_result",
          "data": {
            "text/html": [
              "<div>\n",
              "<style scoped>\n",
              "    .dataframe tbody tr th:only-of-type {\n",
              "        vertical-align: middle;\n",
              "    }\n",
              "\n",
              "    .dataframe tbody tr th {\n",
              "        vertical-align: top;\n",
              "    }\n",
              "\n",
              "    .dataframe thead th {\n",
              "        text-align: right;\n",
              "    }\n",
              "</style>\n",
              "<table border=\"1\" class=\"dataframe\">\n",
              "  <thead>\n",
              "    <tr style=\"text-align: right;\">\n",
              "      <th></th>\n",
              "      <th>case</th>\n",
              "      <th>cc3</th>\n",
              "      <th>country</th>\n",
              "      <th>year</th>\n",
              "      <th>systemic_crisis</th>\n",
              "      <th>exch_usd</th>\n",
              "      <th>domestic_debt_default</th>\n",
              "      <th>sovereign_external_debt_default</th>\n",
              "      <th>gdp_weighted_default</th>\n",
              "      <th>inflation_annual_cpi</th>\n",
              "      <th>independence</th>\n",
              "      <th>currency_crisis</th>\n",
              "      <th>inflation_crisis</th>\n",
              "      <th>banking_crisis</th>\n",
              "    </tr>\n",
              "  </thead>\n",
              "  <tbody>\n",
              "    <tr>\n",
              "      <th>0</th>\n",
              "      <td>1</td>\n",
              "      <td>DZA</td>\n",
              "      <td>Algeria</td>\n",
              "      <td>1870</td>\n",
              "      <td>1</td>\n",
              "      <td>0.052264</td>\n",
              "      <td>0</td>\n",
              "      <td>0</td>\n",
              "      <td>0.0</td>\n",
              "      <td>3.441456</td>\n",
              "      <td>0</td>\n",
              "      <td>0</td>\n",
              "      <td>0</td>\n",
              "      <td>crisis</td>\n",
              "    </tr>\n",
              "    <tr>\n",
              "      <th>1</th>\n",
              "      <td>1</td>\n",
              "      <td>DZA</td>\n",
              "      <td>Algeria</td>\n",
              "      <td>1871</td>\n",
              "      <td>0</td>\n",
              "      <td>0.052798</td>\n",
              "      <td>0</td>\n",
              "      <td>0</td>\n",
              "      <td>0.0</td>\n",
              "      <td>14.149140</td>\n",
              "      <td>0</td>\n",
              "      <td>0</td>\n",
              "      <td>0</td>\n",
              "      <td>no_crisis</td>\n",
              "    </tr>\n",
              "    <tr>\n",
              "      <th>2</th>\n",
              "      <td>1</td>\n",
              "      <td>DZA</td>\n",
              "      <td>Algeria</td>\n",
              "      <td>1872</td>\n",
              "      <td>0</td>\n",
              "      <td>0.052274</td>\n",
              "      <td>0</td>\n",
              "      <td>0</td>\n",
              "      <td>0.0</td>\n",
              "      <td>-3.718593</td>\n",
              "      <td>0</td>\n",
              "      <td>0</td>\n",
              "      <td>0</td>\n",
              "      <td>no_crisis</td>\n",
              "    </tr>\n",
              "    <tr>\n",
              "      <th>3</th>\n",
              "      <td>1</td>\n",
              "      <td>DZA</td>\n",
              "      <td>Algeria</td>\n",
              "      <td>1873</td>\n",
              "      <td>0</td>\n",
              "      <td>0.051680</td>\n",
              "      <td>0</td>\n",
              "      <td>0</td>\n",
              "      <td>0.0</td>\n",
              "      <td>11.203897</td>\n",
              "      <td>0</td>\n",
              "      <td>0</td>\n",
              "      <td>0</td>\n",
              "      <td>no_crisis</td>\n",
              "    </tr>\n",
              "    <tr>\n",
              "      <th>4</th>\n",
              "      <td>1</td>\n",
              "      <td>DZA</td>\n",
              "      <td>Algeria</td>\n",
              "      <td>1874</td>\n",
              "      <td>0</td>\n",
              "      <td>0.051308</td>\n",
              "      <td>0</td>\n",
              "      <td>0</td>\n",
              "      <td>0.0</td>\n",
              "      <td>-3.848561</td>\n",
              "      <td>0</td>\n",
              "      <td>0</td>\n",
              "      <td>0</td>\n",
              "      <td>no_crisis</td>\n",
              "    </tr>\n",
              "    <tr>\n",
              "      <th>...</th>\n",
              "      <td>...</td>\n",
              "      <td>...</td>\n",
              "      <td>...</td>\n",
              "      <td>...</td>\n",
              "      <td>...</td>\n",
              "      <td>...</td>\n",
              "      <td>...</td>\n",
              "      <td>...</td>\n",
              "      <td>...</td>\n",
              "      <td>...</td>\n",
              "      <td>...</td>\n",
              "      <td>...</td>\n",
              "      <td>...</td>\n",
              "      <td>...</td>\n",
              "    </tr>\n",
              "    <tr>\n",
              "      <th>1054</th>\n",
              "      <td>70</td>\n",
              "      <td>ZWE</td>\n",
              "      <td>Zimbabwe</td>\n",
              "      <td>2009</td>\n",
              "      <td>1</td>\n",
              "      <td>354.800000</td>\n",
              "      <td>1</td>\n",
              "      <td>1</td>\n",
              "      <td>0.0</td>\n",
              "      <td>-7.670000</td>\n",
              "      <td>1</td>\n",
              "      <td>1</td>\n",
              "      <td>0</td>\n",
              "      <td>crisis</td>\n",
              "    </tr>\n",
              "    <tr>\n",
              "      <th>1055</th>\n",
              "      <td>70</td>\n",
              "      <td>ZWE</td>\n",
              "      <td>Zimbabwe</td>\n",
              "      <td>2010</td>\n",
              "      <td>0</td>\n",
              "      <td>378.200000</td>\n",
              "      <td>1</td>\n",
              "      <td>1</td>\n",
              "      <td>0.0</td>\n",
              "      <td>3.217000</td>\n",
              "      <td>1</td>\n",
              "      <td>0</td>\n",
              "      <td>0</td>\n",
              "      <td>no_crisis</td>\n",
              "    </tr>\n",
              "    <tr>\n",
              "      <th>1056</th>\n",
              "      <td>70</td>\n",
              "      <td>ZWE</td>\n",
              "      <td>Zimbabwe</td>\n",
              "      <td>2011</td>\n",
              "      <td>0</td>\n",
              "      <td>361.900000</td>\n",
              "      <td>1</td>\n",
              "      <td>1</td>\n",
              "      <td>0.0</td>\n",
              "      <td>4.920000</td>\n",
              "      <td>1</td>\n",
              "      <td>0</td>\n",
              "      <td>0</td>\n",
              "      <td>no_crisis</td>\n",
              "    </tr>\n",
              "    <tr>\n",
              "      <th>1057</th>\n",
              "      <td>70</td>\n",
              "      <td>ZWE</td>\n",
              "      <td>Zimbabwe</td>\n",
              "      <td>2012</td>\n",
              "      <td>0</td>\n",
              "      <td>361.900000</td>\n",
              "      <td>1</td>\n",
              "      <td>1</td>\n",
              "      <td>0.0</td>\n",
              "      <td>3.720000</td>\n",
              "      <td>1</td>\n",
              "      <td>0</td>\n",
              "      <td>0</td>\n",
              "      <td>no_crisis</td>\n",
              "    </tr>\n",
              "    <tr>\n",
              "      <th>1058</th>\n",
              "      <td>70</td>\n",
              "      <td>ZWE</td>\n",
              "      <td>Zimbabwe</td>\n",
              "      <td>2013</td>\n",
              "      <td>0</td>\n",
              "      <td>361.900000</td>\n",
              "      <td>1</td>\n",
              "      <td>1</td>\n",
              "      <td>0.0</td>\n",
              "      <td>1.632000</td>\n",
              "      <td>1</td>\n",
              "      <td>0</td>\n",
              "      <td>0</td>\n",
              "      <td>no_crisis</td>\n",
              "    </tr>\n",
              "  </tbody>\n",
              "</table>\n",
              "<p>1059 rows × 14 columns</p>\n",
              "</div>"
            ],
            "text/plain": [
              "      case  cc3   country  ...  currency_crisis  inflation_crisis  banking_crisis\n",
              "0        1  DZA   Algeria  ...                0                 0          crisis\n",
              "1        1  DZA   Algeria  ...                0                 0       no_crisis\n",
              "2        1  DZA   Algeria  ...                0                 0       no_crisis\n",
              "3        1  DZA   Algeria  ...                0                 0       no_crisis\n",
              "4        1  DZA   Algeria  ...                0                 0       no_crisis\n",
              "...    ...  ...       ...  ...              ...               ...             ...\n",
              "1054    70  ZWE  Zimbabwe  ...                1                 0          crisis\n",
              "1055    70  ZWE  Zimbabwe  ...                0                 0       no_crisis\n",
              "1056    70  ZWE  Zimbabwe  ...                0                 0       no_crisis\n",
              "1057    70  ZWE  Zimbabwe  ...                0                 0       no_crisis\n",
              "1058    70  ZWE  Zimbabwe  ...                0                 0       no_crisis\n",
              "\n",
              "[1059 rows x 14 columns]"
            ]
          },
          "metadata": {
            "tags": []
          },
          "execution_count": 5
        }
      ]
    },
    {
      "cell_type": "markdown",
      "metadata": {
        "id": "PegawsEi8YNz",
        "colab_type": "text"
      },
      "source": [
        "&nbsp; Sobre o atributo `currency_crisis`, seus valores deveriam ser somente 0 e 1, porém há algumas instâncias como 2, o qual serão retirados do conjunto."
      ]
    },
    {
      "cell_type": "code",
      "metadata": {
        "id": "g_gvRiDW5NzB",
        "colab_type": "code",
        "outputId": "3e7d60e5-2775-4b1b-e607-81c251deeb72",
        "colab": {
          "base_uri": "https://localhost:8080/",
          "height": 34
        }
      },
      "source": [
        "from collections import Counter\n",
        "Counter(df['currency_crisis'])"
      ],
      "execution_count": 6,
      "outputs": [
        {
          "output_type": "execute_result",
          "data": {
            "text/plain": [
              "Counter({0: 923, 1: 132, 2: 4})"
            ]
          },
          "metadata": {
            "tags": []
          },
          "execution_count": 6
        }
      ]
    },
    {
      "cell_type": "code",
      "metadata": {
        "id": "WA4BaCmS_EY5",
        "colab_type": "code",
        "outputId": "8141577c-b041-4157-eedd-c303ada4e923",
        "colab": {
          "base_uri": "https://localhost:8080/",
          "height": 439
        }
      },
      "source": [
        "df = df[df.currency_crisis != 2]\n",
        "df"
      ],
      "execution_count": 7,
      "outputs": [
        {
          "output_type": "execute_result",
          "data": {
            "text/html": [
              "<div>\n",
              "<style scoped>\n",
              "    .dataframe tbody tr th:only-of-type {\n",
              "        vertical-align: middle;\n",
              "    }\n",
              "\n",
              "    .dataframe tbody tr th {\n",
              "        vertical-align: top;\n",
              "    }\n",
              "\n",
              "    .dataframe thead th {\n",
              "        text-align: right;\n",
              "    }\n",
              "</style>\n",
              "<table border=\"1\" class=\"dataframe\">\n",
              "  <thead>\n",
              "    <tr style=\"text-align: right;\">\n",
              "      <th></th>\n",
              "      <th>case</th>\n",
              "      <th>cc3</th>\n",
              "      <th>country</th>\n",
              "      <th>year</th>\n",
              "      <th>systemic_crisis</th>\n",
              "      <th>exch_usd</th>\n",
              "      <th>domestic_debt_default</th>\n",
              "      <th>sovereign_external_debt_default</th>\n",
              "      <th>gdp_weighted_default</th>\n",
              "      <th>inflation_annual_cpi</th>\n",
              "      <th>independence</th>\n",
              "      <th>currency_crisis</th>\n",
              "      <th>inflation_crisis</th>\n",
              "      <th>banking_crisis</th>\n",
              "    </tr>\n",
              "  </thead>\n",
              "  <tbody>\n",
              "    <tr>\n",
              "      <th>0</th>\n",
              "      <td>1</td>\n",
              "      <td>DZA</td>\n",
              "      <td>Algeria</td>\n",
              "      <td>1870</td>\n",
              "      <td>1</td>\n",
              "      <td>0.052264</td>\n",
              "      <td>0</td>\n",
              "      <td>0</td>\n",
              "      <td>0.0</td>\n",
              "      <td>3.441456</td>\n",
              "      <td>0</td>\n",
              "      <td>0</td>\n",
              "      <td>0</td>\n",
              "      <td>crisis</td>\n",
              "    </tr>\n",
              "    <tr>\n",
              "      <th>1</th>\n",
              "      <td>1</td>\n",
              "      <td>DZA</td>\n",
              "      <td>Algeria</td>\n",
              "      <td>1871</td>\n",
              "      <td>0</td>\n",
              "      <td>0.052798</td>\n",
              "      <td>0</td>\n",
              "      <td>0</td>\n",
              "      <td>0.0</td>\n",
              "      <td>14.149140</td>\n",
              "      <td>0</td>\n",
              "      <td>0</td>\n",
              "      <td>0</td>\n",
              "      <td>no_crisis</td>\n",
              "    </tr>\n",
              "    <tr>\n",
              "      <th>2</th>\n",
              "      <td>1</td>\n",
              "      <td>DZA</td>\n",
              "      <td>Algeria</td>\n",
              "      <td>1872</td>\n",
              "      <td>0</td>\n",
              "      <td>0.052274</td>\n",
              "      <td>0</td>\n",
              "      <td>0</td>\n",
              "      <td>0.0</td>\n",
              "      <td>-3.718593</td>\n",
              "      <td>0</td>\n",
              "      <td>0</td>\n",
              "      <td>0</td>\n",
              "      <td>no_crisis</td>\n",
              "    </tr>\n",
              "    <tr>\n",
              "      <th>3</th>\n",
              "      <td>1</td>\n",
              "      <td>DZA</td>\n",
              "      <td>Algeria</td>\n",
              "      <td>1873</td>\n",
              "      <td>0</td>\n",
              "      <td>0.051680</td>\n",
              "      <td>0</td>\n",
              "      <td>0</td>\n",
              "      <td>0.0</td>\n",
              "      <td>11.203897</td>\n",
              "      <td>0</td>\n",
              "      <td>0</td>\n",
              "      <td>0</td>\n",
              "      <td>no_crisis</td>\n",
              "    </tr>\n",
              "    <tr>\n",
              "      <th>4</th>\n",
              "      <td>1</td>\n",
              "      <td>DZA</td>\n",
              "      <td>Algeria</td>\n",
              "      <td>1874</td>\n",
              "      <td>0</td>\n",
              "      <td>0.051308</td>\n",
              "      <td>0</td>\n",
              "      <td>0</td>\n",
              "      <td>0.0</td>\n",
              "      <td>-3.848561</td>\n",
              "      <td>0</td>\n",
              "      <td>0</td>\n",
              "      <td>0</td>\n",
              "      <td>no_crisis</td>\n",
              "    </tr>\n",
              "    <tr>\n",
              "      <th>...</th>\n",
              "      <td>...</td>\n",
              "      <td>...</td>\n",
              "      <td>...</td>\n",
              "      <td>...</td>\n",
              "      <td>...</td>\n",
              "      <td>...</td>\n",
              "      <td>...</td>\n",
              "      <td>...</td>\n",
              "      <td>...</td>\n",
              "      <td>...</td>\n",
              "      <td>...</td>\n",
              "      <td>...</td>\n",
              "      <td>...</td>\n",
              "      <td>...</td>\n",
              "    </tr>\n",
              "    <tr>\n",
              "      <th>1054</th>\n",
              "      <td>70</td>\n",
              "      <td>ZWE</td>\n",
              "      <td>Zimbabwe</td>\n",
              "      <td>2009</td>\n",
              "      <td>1</td>\n",
              "      <td>354.800000</td>\n",
              "      <td>1</td>\n",
              "      <td>1</td>\n",
              "      <td>0.0</td>\n",
              "      <td>-7.670000</td>\n",
              "      <td>1</td>\n",
              "      <td>1</td>\n",
              "      <td>0</td>\n",
              "      <td>crisis</td>\n",
              "    </tr>\n",
              "    <tr>\n",
              "      <th>1055</th>\n",
              "      <td>70</td>\n",
              "      <td>ZWE</td>\n",
              "      <td>Zimbabwe</td>\n",
              "      <td>2010</td>\n",
              "      <td>0</td>\n",
              "      <td>378.200000</td>\n",
              "      <td>1</td>\n",
              "      <td>1</td>\n",
              "      <td>0.0</td>\n",
              "      <td>3.217000</td>\n",
              "      <td>1</td>\n",
              "      <td>0</td>\n",
              "      <td>0</td>\n",
              "      <td>no_crisis</td>\n",
              "    </tr>\n",
              "    <tr>\n",
              "      <th>1056</th>\n",
              "      <td>70</td>\n",
              "      <td>ZWE</td>\n",
              "      <td>Zimbabwe</td>\n",
              "      <td>2011</td>\n",
              "      <td>0</td>\n",
              "      <td>361.900000</td>\n",
              "      <td>1</td>\n",
              "      <td>1</td>\n",
              "      <td>0.0</td>\n",
              "      <td>4.920000</td>\n",
              "      <td>1</td>\n",
              "      <td>0</td>\n",
              "      <td>0</td>\n",
              "      <td>no_crisis</td>\n",
              "    </tr>\n",
              "    <tr>\n",
              "      <th>1057</th>\n",
              "      <td>70</td>\n",
              "      <td>ZWE</td>\n",
              "      <td>Zimbabwe</td>\n",
              "      <td>2012</td>\n",
              "      <td>0</td>\n",
              "      <td>361.900000</td>\n",
              "      <td>1</td>\n",
              "      <td>1</td>\n",
              "      <td>0.0</td>\n",
              "      <td>3.720000</td>\n",
              "      <td>1</td>\n",
              "      <td>0</td>\n",
              "      <td>0</td>\n",
              "      <td>no_crisis</td>\n",
              "    </tr>\n",
              "    <tr>\n",
              "      <th>1058</th>\n",
              "      <td>70</td>\n",
              "      <td>ZWE</td>\n",
              "      <td>Zimbabwe</td>\n",
              "      <td>2013</td>\n",
              "      <td>0</td>\n",
              "      <td>361.900000</td>\n",
              "      <td>1</td>\n",
              "      <td>1</td>\n",
              "      <td>0.0</td>\n",
              "      <td>1.632000</td>\n",
              "      <td>1</td>\n",
              "      <td>0</td>\n",
              "      <td>0</td>\n",
              "      <td>no_crisis</td>\n",
              "    </tr>\n",
              "  </tbody>\n",
              "</table>\n",
              "<p>1055 rows × 14 columns</p>\n",
              "</div>"
            ],
            "text/plain": [
              "      case  cc3   country  ...  currency_crisis  inflation_crisis  banking_crisis\n",
              "0        1  DZA   Algeria  ...                0                 0          crisis\n",
              "1        1  DZA   Algeria  ...                0                 0       no_crisis\n",
              "2        1  DZA   Algeria  ...                0                 0       no_crisis\n",
              "3        1  DZA   Algeria  ...                0                 0       no_crisis\n",
              "4        1  DZA   Algeria  ...                0                 0       no_crisis\n",
              "...    ...  ...       ...  ...              ...               ...             ...\n",
              "1054    70  ZWE  Zimbabwe  ...                1                 0          crisis\n",
              "1055    70  ZWE  Zimbabwe  ...                0                 0       no_crisis\n",
              "1056    70  ZWE  Zimbabwe  ...                0                 0       no_crisis\n",
              "1057    70  ZWE  Zimbabwe  ...                0                 0       no_crisis\n",
              "1058    70  ZWE  Zimbabwe  ...                0                 0       no_crisis\n",
              "\n",
              "[1055 rows x 14 columns]"
            ]
          },
          "metadata": {
            "tags": []
          },
          "execution_count": 7
        }
      ]
    },
    {
      "cell_type": "markdown",
      "metadata": {
        "id": "Peuo4DiUusX0",
        "colab_type": "text"
      },
      "source": [
        "---\n",
        "## **Transformação de Dados**"
      ]
    },
    {
      "cell_type": "markdown",
      "metadata": {
        "id": "XSU96MzFBggx",
        "colab_type": "text"
      },
      "source": [
        "---\n",
        "## *Discretização de dados numéricos*:\n",
        "&nbsp; A discretização utilização será de mapeamento direto, nos atributos que apresentam 0 e 1, para representar false e true, respectivamente. Nos quais, os atributos são: `domestic_debt_in_default`, `sovereign_external_debt_default`, `independence`, `currency_crises`,`inflation_crises` e `systemic_crisis`."
      ]
    },
    {
      "cell_type": "code",
      "metadata": {
        "id": "p2RFtVHKDEsk",
        "colab_type": "code",
        "outputId": "eb78435e-f4ad-4b11-d77d-7ecffb7717a6",
        "colab": {
          "base_uri": "https://localhost:8080/",
          "height": 541
        }
      },
      "source": [
        "to_replace = {\n",
        "    0 : 'False',\n",
        "    1 : 'True',\n",
        "}\n",
        " \n",
        "cols = ['domestic_debt_default','sovereign_external_debt_default', 'independence','systemic_crisis','inflation_crisis','currency_crisis']\n",
        "df[cols] = df[cols].replace(to_replace = to_replace) \n",
        "df"
      ],
      "execution_count": 8,
      "outputs": [
        {
          "output_type": "stream",
          "text": [
            "/usr/local/lib/python3.6/dist-packages/pandas/core/frame.py:3509: SettingWithCopyWarning: \n",
            "A value is trying to be set on a copy of a slice from a DataFrame.\n",
            "Try using .loc[row_indexer,col_indexer] = value instead\n",
            "\n",
            "See the caveats in the documentation: http://pandas.pydata.org/pandas-docs/stable/user_guide/indexing.html#returning-a-view-versus-a-copy\n",
            "  self[k1] = value[k2]\n"
          ],
          "name": "stderr"
        },
        {
          "output_type": "execute_result",
          "data": {
            "text/html": [
              "<div>\n",
              "<style scoped>\n",
              "    .dataframe tbody tr th:only-of-type {\n",
              "        vertical-align: middle;\n",
              "    }\n",
              "\n",
              "    .dataframe tbody tr th {\n",
              "        vertical-align: top;\n",
              "    }\n",
              "\n",
              "    .dataframe thead th {\n",
              "        text-align: right;\n",
              "    }\n",
              "</style>\n",
              "<table border=\"1\" class=\"dataframe\">\n",
              "  <thead>\n",
              "    <tr style=\"text-align: right;\">\n",
              "      <th></th>\n",
              "      <th>case</th>\n",
              "      <th>cc3</th>\n",
              "      <th>country</th>\n",
              "      <th>year</th>\n",
              "      <th>systemic_crisis</th>\n",
              "      <th>exch_usd</th>\n",
              "      <th>domestic_debt_default</th>\n",
              "      <th>sovereign_external_debt_default</th>\n",
              "      <th>gdp_weighted_default</th>\n",
              "      <th>inflation_annual_cpi</th>\n",
              "      <th>independence</th>\n",
              "      <th>currency_crisis</th>\n",
              "      <th>inflation_crisis</th>\n",
              "      <th>banking_crisis</th>\n",
              "    </tr>\n",
              "  </thead>\n",
              "  <tbody>\n",
              "    <tr>\n",
              "      <th>0</th>\n",
              "      <td>1</td>\n",
              "      <td>DZA</td>\n",
              "      <td>Algeria</td>\n",
              "      <td>1870</td>\n",
              "      <td>True</td>\n",
              "      <td>0.052264</td>\n",
              "      <td>False</td>\n",
              "      <td>False</td>\n",
              "      <td>0.0</td>\n",
              "      <td>3.441456</td>\n",
              "      <td>False</td>\n",
              "      <td>False</td>\n",
              "      <td>False</td>\n",
              "      <td>crisis</td>\n",
              "    </tr>\n",
              "    <tr>\n",
              "      <th>1</th>\n",
              "      <td>1</td>\n",
              "      <td>DZA</td>\n",
              "      <td>Algeria</td>\n",
              "      <td>1871</td>\n",
              "      <td>False</td>\n",
              "      <td>0.052798</td>\n",
              "      <td>False</td>\n",
              "      <td>False</td>\n",
              "      <td>0.0</td>\n",
              "      <td>14.149140</td>\n",
              "      <td>False</td>\n",
              "      <td>False</td>\n",
              "      <td>False</td>\n",
              "      <td>no_crisis</td>\n",
              "    </tr>\n",
              "    <tr>\n",
              "      <th>2</th>\n",
              "      <td>1</td>\n",
              "      <td>DZA</td>\n",
              "      <td>Algeria</td>\n",
              "      <td>1872</td>\n",
              "      <td>False</td>\n",
              "      <td>0.052274</td>\n",
              "      <td>False</td>\n",
              "      <td>False</td>\n",
              "      <td>0.0</td>\n",
              "      <td>-3.718593</td>\n",
              "      <td>False</td>\n",
              "      <td>False</td>\n",
              "      <td>False</td>\n",
              "      <td>no_crisis</td>\n",
              "    </tr>\n",
              "    <tr>\n",
              "      <th>3</th>\n",
              "      <td>1</td>\n",
              "      <td>DZA</td>\n",
              "      <td>Algeria</td>\n",
              "      <td>1873</td>\n",
              "      <td>False</td>\n",
              "      <td>0.051680</td>\n",
              "      <td>False</td>\n",
              "      <td>False</td>\n",
              "      <td>0.0</td>\n",
              "      <td>11.203897</td>\n",
              "      <td>False</td>\n",
              "      <td>False</td>\n",
              "      <td>False</td>\n",
              "      <td>no_crisis</td>\n",
              "    </tr>\n",
              "    <tr>\n",
              "      <th>4</th>\n",
              "      <td>1</td>\n",
              "      <td>DZA</td>\n",
              "      <td>Algeria</td>\n",
              "      <td>1874</td>\n",
              "      <td>False</td>\n",
              "      <td>0.051308</td>\n",
              "      <td>False</td>\n",
              "      <td>False</td>\n",
              "      <td>0.0</td>\n",
              "      <td>-3.848561</td>\n",
              "      <td>False</td>\n",
              "      <td>False</td>\n",
              "      <td>False</td>\n",
              "      <td>no_crisis</td>\n",
              "    </tr>\n",
              "    <tr>\n",
              "      <th>...</th>\n",
              "      <td>...</td>\n",
              "      <td>...</td>\n",
              "      <td>...</td>\n",
              "      <td>...</td>\n",
              "      <td>...</td>\n",
              "      <td>...</td>\n",
              "      <td>...</td>\n",
              "      <td>...</td>\n",
              "      <td>...</td>\n",
              "      <td>...</td>\n",
              "      <td>...</td>\n",
              "      <td>...</td>\n",
              "      <td>...</td>\n",
              "      <td>...</td>\n",
              "    </tr>\n",
              "    <tr>\n",
              "      <th>1054</th>\n",
              "      <td>70</td>\n",
              "      <td>ZWE</td>\n",
              "      <td>Zimbabwe</td>\n",
              "      <td>2009</td>\n",
              "      <td>True</td>\n",
              "      <td>354.800000</td>\n",
              "      <td>True</td>\n",
              "      <td>True</td>\n",
              "      <td>0.0</td>\n",
              "      <td>-7.670000</td>\n",
              "      <td>True</td>\n",
              "      <td>True</td>\n",
              "      <td>False</td>\n",
              "      <td>crisis</td>\n",
              "    </tr>\n",
              "    <tr>\n",
              "      <th>1055</th>\n",
              "      <td>70</td>\n",
              "      <td>ZWE</td>\n",
              "      <td>Zimbabwe</td>\n",
              "      <td>2010</td>\n",
              "      <td>False</td>\n",
              "      <td>378.200000</td>\n",
              "      <td>True</td>\n",
              "      <td>True</td>\n",
              "      <td>0.0</td>\n",
              "      <td>3.217000</td>\n",
              "      <td>True</td>\n",
              "      <td>False</td>\n",
              "      <td>False</td>\n",
              "      <td>no_crisis</td>\n",
              "    </tr>\n",
              "    <tr>\n",
              "      <th>1056</th>\n",
              "      <td>70</td>\n",
              "      <td>ZWE</td>\n",
              "      <td>Zimbabwe</td>\n",
              "      <td>2011</td>\n",
              "      <td>False</td>\n",
              "      <td>361.900000</td>\n",
              "      <td>True</td>\n",
              "      <td>True</td>\n",
              "      <td>0.0</td>\n",
              "      <td>4.920000</td>\n",
              "      <td>True</td>\n",
              "      <td>False</td>\n",
              "      <td>False</td>\n",
              "      <td>no_crisis</td>\n",
              "    </tr>\n",
              "    <tr>\n",
              "      <th>1057</th>\n",
              "      <td>70</td>\n",
              "      <td>ZWE</td>\n",
              "      <td>Zimbabwe</td>\n",
              "      <td>2012</td>\n",
              "      <td>False</td>\n",
              "      <td>361.900000</td>\n",
              "      <td>True</td>\n",
              "      <td>True</td>\n",
              "      <td>0.0</td>\n",
              "      <td>3.720000</td>\n",
              "      <td>True</td>\n",
              "      <td>False</td>\n",
              "      <td>False</td>\n",
              "      <td>no_crisis</td>\n",
              "    </tr>\n",
              "    <tr>\n",
              "      <th>1058</th>\n",
              "      <td>70</td>\n",
              "      <td>ZWE</td>\n",
              "      <td>Zimbabwe</td>\n",
              "      <td>2013</td>\n",
              "      <td>False</td>\n",
              "      <td>361.900000</td>\n",
              "      <td>True</td>\n",
              "      <td>True</td>\n",
              "      <td>0.0</td>\n",
              "      <td>1.632000</td>\n",
              "      <td>True</td>\n",
              "      <td>False</td>\n",
              "      <td>False</td>\n",
              "      <td>no_crisis</td>\n",
              "    </tr>\n",
              "  </tbody>\n",
              "</table>\n",
              "<p>1055 rows × 14 columns</p>\n",
              "</div>"
            ],
            "text/plain": [
              "      case  cc3   country  ...  currency_crisis inflation_crisis  banking_crisis\n",
              "0        1  DZA   Algeria  ...            False            False          crisis\n",
              "1        1  DZA   Algeria  ...            False            False       no_crisis\n",
              "2        1  DZA   Algeria  ...            False            False       no_crisis\n",
              "3        1  DZA   Algeria  ...            False            False       no_crisis\n",
              "4        1  DZA   Algeria  ...            False            False       no_crisis\n",
              "...    ...  ...       ...  ...              ...              ...             ...\n",
              "1054    70  ZWE  Zimbabwe  ...             True            False          crisis\n",
              "1055    70  ZWE  Zimbabwe  ...            False            False       no_crisis\n",
              "1056    70  ZWE  Zimbabwe  ...            False            False       no_crisis\n",
              "1057    70  ZWE  Zimbabwe  ...            False            False       no_crisis\n",
              "1058    70  ZWE  Zimbabwe  ...            False            False       no_crisis\n",
              "\n",
              "[1055 rows x 14 columns]"
            ]
          },
          "metadata": {
            "tags": []
          },
          "execution_count": 8
        }
      ]
    },
    {
      "cell_type": "markdown",
      "metadata": {
        "id": "kUicNVKEHwqn",
        "colab_type": "text"
      },
      "source": [
        "&nbsp; Assim, para padronizar, também troca-se os valores do atributo `banking_crisis` para True e False."
      ]
    },
    {
      "cell_type": "code",
      "metadata": {
        "id": "92bCtOomIDdp",
        "colab_type": "code",
        "outputId": "03510fe6-7843-414b-b8d9-569aa95ad5c2",
        "colab": {
          "base_uri": "https://localhost:8080/",
          "height": 541
        }
      },
      "source": [
        "to_replace = {\n",
        "    'no_crisis' : 'False',\n",
        "    'crisis' : 'True',\n",
        "}\n",
        "df['banking_crisis'] = df.banking_crisis.replace(to_replace = to_replace) \n",
        "df"
      ],
      "execution_count": 9,
      "outputs": [
        {
          "output_type": "stream",
          "text": [
            "/usr/local/lib/python3.6/dist-packages/ipykernel_launcher.py:5: SettingWithCopyWarning: \n",
            "A value is trying to be set on a copy of a slice from a DataFrame.\n",
            "Try using .loc[row_indexer,col_indexer] = value instead\n",
            "\n",
            "See the caveats in the documentation: http://pandas.pydata.org/pandas-docs/stable/user_guide/indexing.html#returning-a-view-versus-a-copy\n",
            "  \"\"\"\n"
          ],
          "name": "stderr"
        },
        {
          "output_type": "execute_result",
          "data": {
            "text/html": [
              "<div>\n",
              "<style scoped>\n",
              "    .dataframe tbody tr th:only-of-type {\n",
              "        vertical-align: middle;\n",
              "    }\n",
              "\n",
              "    .dataframe tbody tr th {\n",
              "        vertical-align: top;\n",
              "    }\n",
              "\n",
              "    .dataframe thead th {\n",
              "        text-align: right;\n",
              "    }\n",
              "</style>\n",
              "<table border=\"1\" class=\"dataframe\">\n",
              "  <thead>\n",
              "    <tr style=\"text-align: right;\">\n",
              "      <th></th>\n",
              "      <th>case</th>\n",
              "      <th>cc3</th>\n",
              "      <th>country</th>\n",
              "      <th>year</th>\n",
              "      <th>systemic_crisis</th>\n",
              "      <th>exch_usd</th>\n",
              "      <th>domestic_debt_default</th>\n",
              "      <th>sovereign_external_debt_default</th>\n",
              "      <th>gdp_weighted_default</th>\n",
              "      <th>inflation_annual_cpi</th>\n",
              "      <th>independence</th>\n",
              "      <th>currency_crisis</th>\n",
              "      <th>inflation_crisis</th>\n",
              "      <th>banking_crisis</th>\n",
              "    </tr>\n",
              "  </thead>\n",
              "  <tbody>\n",
              "    <tr>\n",
              "      <th>0</th>\n",
              "      <td>1</td>\n",
              "      <td>DZA</td>\n",
              "      <td>Algeria</td>\n",
              "      <td>1870</td>\n",
              "      <td>True</td>\n",
              "      <td>0.052264</td>\n",
              "      <td>False</td>\n",
              "      <td>False</td>\n",
              "      <td>0.0</td>\n",
              "      <td>3.441456</td>\n",
              "      <td>False</td>\n",
              "      <td>False</td>\n",
              "      <td>False</td>\n",
              "      <td>True</td>\n",
              "    </tr>\n",
              "    <tr>\n",
              "      <th>1</th>\n",
              "      <td>1</td>\n",
              "      <td>DZA</td>\n",
              "      <td>Algeria</td>\n",
              "      <td>1871</td>\n",
              "      <td>False</td>\n",
              "      <td>0.052798</td>\n",
              "      <td>False</td>\n",
              "      <td>False</td>\n",
              "      <td>0.0</td>\n",
              "      <td>14.149140</td>\n",
              "      <td>False</td>\n",
              "      <td>False</td>\n",
              "      <td>False</td>\n",
              "      <td>False</td>\n",
              "    </tr>\n",
              "    <tr>\n",
              "      <th>2</th>\n",
              "      <td>1</td>\n",
              "      <td>DZA</td>\n",
              "      <td>Algeria</td>\n",
              "      <td>1872</td>\n",
              "      <td>False</td>\n",
              "      <td>0.052274</td>\n",
              "      <td>False</td>\n",
              "      <td>False</td>\n",
              "      <td>0.0</td>\n",
              "      <td>-3.718593</td>\n",
              "      <td>False</td>\n",
              "      <td>False</td>\n",
              "      <td>False</td>\n",
              "      <td>False</td>\n",
              "    </tr>\n",
              "    <tr>\n",
              "      <th>3</th>\n",
              "      <td>1</td>\n",
              "      <td>DZA</td>\n",
              "      <td>Algeria</td>\n",
              "      <td>1873</td>\n",
              "      <td>False</td>\n",
              "      <td>0.051680</td>\n",
              "      <td>False</td>\n",
              "      <td>False</td>\n",
              "      <td>0.0</td>\n",
              "      <td>11.203897</td>\n",
              "      <td>False</td>\n",
              "      <td>False</td>\n",
              "      <td>False</td>\n",
              "      <td>False</td>\n",
              "    </tr>\n",
              "    <tr>\n",
              "      <th>4</th>\n",
              "      <td>1</td>\n",
              "      <td>DZA</td>\n",
              "      <td>Algeria</td>\n",
              "      <td>1874</td>\n",
              "      <td>False</td>\n",
              "      <td>0.051308</td>\n",
              "      <td>False</td>\n",
              "      <td>False</td>\n",
              "      <td>0.0</td>\n",
              "      <td>-3.848561</td>\n",
              "      <td>False</td>\n",
              "      <td>False</td>\n",
              "      <td>False</td>\n",
              "      <td>False</td>\n",
              "    </tr>\n",
              "    <tr>\n",
              "      <th>...</th>\n",
              "      <td>...</td>\n",
              "      <td>...</td>\n",
              "      <td>...</td>\n",
              "      <td>...</td>\n",
              "      <td>...</td>\n",
              "      <td>...</td>\n",
              "      <td>...</td>\n",
              "      <td>...</td>\n",
              "      <td>...</td>\n",
              "      <td>...</td>\n",
              "      <td>...</td>\n",
              "      <td>...</td>\n",
              "      <td>...</td>\n",
              "      <td>...</td>\n",
              "    </tr>\n",
              "    <tr>\n",
              "      <th>1054</th>\n",
              "      <td>70</td>\n",
              "      <td>ZWE</td>\n",
              "      <td>Zimbabwe</td>\n",
              "      <td>2009</td>\n",
              "      <td>True</td>\n",
              "      <td>354.800000</td>\n",
              "      <td>True</td>\n",
              "      <td>True</td>\n",
              "      <td>0.0</td>\n",
              "      <td>-7.670000</td>\n",
              "      <td>True</td>\n",
              "      <td>True</td>\n",
              "      <td>False</td>\n",
              "      <td>True</td>\n",
              "    </tr>\n",
              "    <tr>\n",
              "      <th>1055</th>\n",
              "      <td>70</td>\n",
              "      <td>ZWE</td>\n",
              "      <td>Zimbabwe</td>\n",
              "      <td>2010</td>\n",
              "      <td>False</td>\n",
              "      <td>378.200000</td>\n",
              "      <td>True</td>\n",
              "      <td>True</td>\n",
              "      <td>0.0</td>\n",
              "      <td>3.217000</td>\n",
              "      <td>True</td>\n",
              "      <td>False</td>\n",
              "      <td>False</td>\n",
              "      <td>False</td>\n",
              "    </tr>\n",
              "    <tr>\n",
              "      <th>1056</th>\n",
              "      <td>70</td>\n",
              "      <td>ZWE</td>\n",
              "      <td>Zimbabwe</td>\n",
              "      <td>2011</td>\n",
              "      <td>False</td>\n",
              "      <td>361.900000</td>\n",
              "      <td>True</td>\n",
              "      <td>True</td>\n",
              "      <td>0.0</td>\n",
              "      <td>4.920000</td>\n",
              "      <td>True</td>\n",
              "      <td>False</td>\n",
              "      <td>False</td>\n",
              "      <td>False</td>\n",
              "    </tr>\n",
              "    <tr>\n",
              "      <th>1057</th>\n",
              "      <td>70</td>\n",
              "      <td>ZWE</td>\n",
              "      <td>Zimbabwe</td>\n",
              "      <td>2012</td>\n",
              "      <td>False</td>\n",
              "      <td>361.900000</td>\n",
              "      <td>True</td>\n",
              "      <td>True</td>\n",
              "      <td>0.0</td>\n",
              "      <td>3.720000</td>\n",
              "      <td>True</td>\n",
              "      <td>False</td>\n",
              "      <td>False</td>\n",
              "      <td>False</td>\n",
              "    </tr>\n",
              "    <tr>\n",
              "      <th>1058</th>\n",
              "      <td>70</td>\n",
              "      <td>ZWE</td>\n",
              "      <td>Zimbabwe</td>\n",
              "      <td>2013</td>\n",
              "      <td>False</td>\n",
              "      <td>361.900000</td>\n",
              "      <td>True</td>\n",
              "      <td>True</td>\n",
              "      <td>0.0</td>\n",
              "      <td>1.632000</td>\n",
              "      <td>True</td>\n",
              "      <td>False</td>\n",
              "      <td>False</td>\n",
              "      <td>False</td>\n",
              "    </tr>\n",
              "  </tbody>\n",
              "</table>\n",
              "<p>1055 rows × 14 columns</p>\n",
              "</div>"
            ],
            "text/plain": [
              "      case  cc3   country  ...  currency_crisis inflation_crisis  banking_crisis\n",
              "0        1  DZA   Algeria  ...            False            False            True\n",
              "1        1  DZA   Algeria  ...            False            False           False\n",
              "2        1  DZA   Algeria  ...            False            False           False\n",
              "3        1  DZA   Algeria  ...            False            False           False\n",
              "4        1  DZA   Algeria  ...            False            False           False\n",
              "...    ...  ...       ...  ...              ...              ...             ...\n",
              "1054    70  ZWE  Zimbabwe  ...             True            False            True\n",
              "1055    70  ZWE  Zimbabwe  ...            False            False           False\n",
              "1056    70  ZWE  Zimbabwe  ...            False            False           False\n",
              "1057    70  ZWE  Zimbabwe  ...            False            False           False\n",
              "1058    70  ZWE  Zimbabwe  ...            False            False           False\n",
              "\n",
              "[1055 rows x 14 columns]"
            ]
          },
          "metadata": {
            "tags": []
          },
          "execution_count": 9
        }
      ]
    },
    {
      "cell_type": "markdown",
      "metadata": {
        "id": "2UxRAJKjd_Ze",
        "colab_type": "text"
      },
      "source": [
        "&nbsp; Agora utilizando mapeamento com intervalos pré-definidos para o atributo `exch_usd`, no qual terá a seguinte verificação:\n",
        "- Caso o valor seja menor que 0.19535, será do tipo 0;\n",
        "- Caso seja menor que 0.8684, será do tipo 1;\n",
        "- Caso seja menor que 8.46275, será do tipo 2;\n",
        "- Caso seja maior ou igual a 8.46275, será do tipo 3."
      ]
    },
    {
      "cell_type": "code",
      "metadata": {
        "id": "vzGYdq3tJePT",
        "colab_type": "code",
        "colab": {}
      },
      "source": [
        "def get_discretized_exch_usd (x) :\n",
        "    if (x < 0.19535) :\n",
        "        return 0\n",
        "    elif (x < 0.8684) :\n",
        "        return 1\n",
        "    elif (x <  8.46275) :\n",
        "        return 2\n",
        "    else :\n",
        "        return 3"
      ],
      "execution_count": 0,
      "outputs": []
    },
    {
      "cell_type": "code",
      "metadata": {
        "id": "AO4--iPtiFIw",
        "colab_type": "code",
        "outputId": "6bcbfabf-374f-42df-b8fb-3eaf3463bb79",
        "colab": {
          "base_uri": "https://localhost:8080/",
          "height": 643
        }
      },
      "source": [
        "df.loc[:,('exch_usd_discretized')] = df.exch_usd.apply(get_discretized_exch_usd).values\n",
        "df "
      ],
      "execution_count": 11,
      "outputs": [
        {
          "output_type": "stream",
          "text": [
            "/usr/local/lib/python3.6/dist-packages/pandas/core/indexing.py:376: SettingWithCopyWarning: \n",
            "A value is trying to be set on a copy of a slice from a DataFrame.\n",
            "Try using .loc[row_indexer,col_indexer] = value instead\n",
            "\n",
            "See the caveats in the documentation: http://pandas.pydata.org/pandas-docs/stable/user_guide/indexing.html#returning-a-view-versus-a-copy\n",
            "  self.obj[key] = _infer_fill_value(value)\n",
            "/usr/local/lib/python3.6/dist-packages/pandas/core/indexing.py:494: SettingWithCopyWarning: \n",
            "A value is trying to be set on a copy of a slice from a DataFrame.\n",
            "Try using .loc[row_indexer,col_indexer] = value instead\n",
            "\n",
            "See the caveats in the documentation: http://pandas.pydata.org/pandas-docs/stable/user_guide/indexing.html#returning-a-view-versus-a-copy\n",
            "  self.obj[item] = s\n"
          ],
          "name": "stderr"
        },
        {
          "output_type": "execute_result",
          "data": {
            "text/html": [
              "<div>\n",
              "<style scoped>\n",
              "    .dataframe tbody tr th:only-of-type {\n",
              "        vertical-align: middle;\n",
              "    }\n",
              "\n",
              "    .dataframe tbody tr th {\n",
              "        vertical-align: top;\n",
              "    }\n",
              "\n",
              "    .dataframe thead th {\n",
              "        text-align: right;\n",
              "    }\n",
              "</style>\n",
              "<table border=\"1\" class=\"dataframe\">\n",
              "  <thead>\n",
              "    <tr style=\"text-align: right;\">\n",
              "      <th></th>\n",
              "      <th>case</th>\n",
              "      <th>cc3</th>\n",
              "      <th>country</th>\n",
              "      <th>year</th>\n",
              "      <th>systemic_crisis</th>\n",
              "      <th>exch_usd</th>\n",
              "      <th>domestic_debt_default</th>\n",
              "      <th>sovereign_external_debt_default</th>\n",
              "      <th>gdp_weighted_default</th>\n",
              "      <th>inflation_annual_cpi</th>\n",
              "      <th>independence</th>\n",
              "      <th>currency_crisis</th>\n",
              "      <th>inflation_crisis</th>\n",
              "      <th>banking_crisis</th>\n",
              "      <th>exch_usd_discretized</th>\n",
              "    </tr>\n",
              "  </thead>\n",
              "  <tbody>\n",
              "    <tr>\n",
              "      <th>0</th>\n",
              "      <td>1</td>\n",
              "      <td>DZA</td>\n",
              "      <td>Algeria</td>\n",
              "      <td>1870</td>\n",
              "      <td>True</td>\n",
              "      <td>0.052264</td>\n",
              "      <td>False</td>\n",
              "      <td>False</td>\n",
              "      <td>0.0</td>\n",
              "      <td>3.441456</td>\n",
              "      <td>False</td>\n",
              "      <td>False</td>\n",
              "      <td>False</td>\n",
              "      <td>True</td>\n",
              "      <td>0</td>\n",
              "    </tr>\n",
              "    <tr>\n",
              "      <th>1</th>\n",
              "      <td>1</td>\n",
              "      <td>DZA</td>\n",
              "      <td>Algeria</td>\n",
              "      <td>1871</td>\n",
              "      <td>False</td>\n",
              "      <td>0.052798</td>\n",
              "      <td>False</td>\n",
              "      <td>False</td>\n",
              "      <td>0.0</td>\n",
              "      <td>14.149140</td>\n",
              "      <td>False</td>\n",
              "      <td>False</td>\n",
              "      <td>False</td>\n",
              "      <td>False</td>\n",
              "      <td>0</td>\n",
              "    </tr>\n",
              "    <tr>\n",
              "      <th>2</th>\n",
              "      <td>1</td>\n",
              "      <td>DZA</td>\n",
              "      <td>Algeria</td>\n",
              "      <td>1872</td>\n",
              "      <td>False</td>\n",
              "      <td>0.052274</td>\n",
              "      <td>False</td>\n",
              "      <td>False</td>\n",
              "      <td>0.0</td>\n",
              "      <td>-3.718593</td>\n",
              "      <td>False</td>\n",
              "      <td>False</td>\n",
              "      <td>False</td>\n",
              "      <td>False</td>\n",
              "      <td>0</td>\n",
              "    </tr>\n",
              "    <tr>\n",
              "      <th>3</th>\n",
              "      <td>1</td>\n",
              "      <td>DZA</td>\n",
              "      <td>Algeria</td>\n",
              "      <td>1873</td>\n",
              "      <td>False</td>\n",
              "      <td>0.051680</td>\n",
              "      <td>False</td>\n",
              "      <td>False</td>\n",
              "      <td>0.0</td>\n",
              "      <td>11.203897</td>\n",
              "      <td>False</td>\n",
              "      <td>False</td>\n",
              "      <td>False</td>\n",
              "      <td>False</td>\n",
              "      <td>0</td>\n",
              "    </tr>\n",
              "    <tr>\n",
              "      <th>4</th>\n",
              "      <td>1</td>\n",
              "      <td>DZA</td>\n",
              "      <td>Algeria</td>\n",
              "      <td>1874</td>\n",
              "      <td>False</td>\n",
              "      <td>0.051308</td>\n",
              "      <td>False</td>\n",
              "      <td>False</td>\n",
              "      <td>0.0</td>\n",
              "      <td>-3.848561</td>\n",
              "      <td>False</td>\n",
              "      <td>False</td>\n",
              "      <td>False</td>\n",
              "      <td>False</td>\n",
              "      <td>0</td>\n",
              "    </tr>\n",
              "    <tr>\n",
              "      <th>...</th>\n",
              "      <td>...</td>\n",
              "      <td>...</td>\n",
              "      <td>...</td>\n",
              "      <td>...</td>\n",
              "      <td>...</td>\n",
              "      <td>...</td>\n",
              "      <td>...</td>\n",
              "      <td>...</td>\n",
              "      <td>...</td>\n",
              "      <td>...</td>\n",
              "      <td>...</td>\n",
              "      <td>...</td>\n",
              "      <td>...</td>\n",
              "      <td>...</td>\n",
              "      <td>...</td>\n",
              "    </tr>\n",
              "    <tr>\n",
              "      <th>1054</th>\n",
              "      <td>70</td>\n",
              "      <td>ZWE</td>\n",
              "      <td>Zimbabwe</td>\n",
              "      <td>2009</td>\n",
              "      <td>True</td>\n",
              "      <td>354.800000</td>\n",
              "      <td>True</td>\n",
              "      <td>True</td>\n",
              "      <td>0.0</td>\n",
              "      <td>-7.670000</td>\n",
              "      <td>True</td>\n",
              "      <td>True</td>\n",
              "      <td>False</td>\n",
              "      <td>True</td>\n",
              "      <td>3</td>\n",
              "    </tr>\n",
              "    <tr>\n",
              "      <th>1055</th>\n",
              "      <td>70</td>\n",
              "      <td>ZWE</td>\n",
              "      <td>Zimbabwe</td>\n",
              "      <td>2010</td>\n",
              "      <td>False</td>\n",
              "      <td>378.200000</td>\n",
              "      <td>True</td>\n",
              "      <td>True</td>\n",
              "      <td>0.0</td>\n",
              "      <td>3.217000</td>\n",
              "      <td>True</td>\n",
              "      <td>False</td>\n",
              "      <td>False</td>\n",
              "      <td>False</td>\n",
              "      <td>3</td>\n",
              "    </tr>\n",
              "    <tr>\n",
              "      <th>1056</th>\n",
              "      <td>70</td>\n",
              "      <td>ZWE</td>\n",
              "      <td>Zimbabwe</td>\n",
              "      <td>2011</td>\n",
              "      <td>False</td>\n",
              "      <td>361.900000</td>\n",
              "      <td>True</td>\n",
              "      <td>True</td>\n",
              "      <td>0.0</td>\n",
              "      <td>4.920000</td>\n",
              "      <td>True</td>\n",
              "      <td>False</td>\n",
              "      <td>False</td>\n",
              "      <td>False</td>\n",
              "      <td>3</td>\n",
              "    </tr>\n",
              "    <tr>\n",
              "      <th>1057</th>\n",
              "      <td>70</td>\n",
              "      <td>ZWE</td>\n",
              "      <td>Zimbabwe</td>\n",
              "      <td>2012</td>\n",
              "      <td>False</td>\n",
              "      <td>361.900000</td>\n",
              "      <td>True</td>\n",
              "      <td>True</td>\n",
              "      <td>0.0</td>\n",
              "      <td>3.720000</td>\n",
              "      <td>True</td>\n",
              "      <td>False</td>\n",
              "      <td>False</td>\n",
              "      <td>False</td>\n",
              "      <td>3</td>\n",
              "    </tr>\n",
              "    <tr>\n",
              "      <th>1058</th>\n",
              "      <td>70</td>\n",
              "      <td>ZWE</td>\n",
              "      <td>Zimbabwe</td>\n",
              "      <td>2013</td>\n",
              "      <td>False</td>\n",
              "      <td>361.900000</td>\n",
              "      <td>True</td>\n",
              "      <td>True</td>\n",
              "      <td>0.0</td>\n",
              "      <td>1.632000</td>\n",
              "      <td>True</td>\n",
              "      <td>False</td>\n",
              "      <td>False</td>\n",
              "      <td>False</td>\n",
              "      <td>3</td>\n",
              "    </tr>\n",
              "  </tbody>\n",
              "</table>\n",
              "<p>1055 rows × 15 columns</p>\n",
              "</div>"
            ],
            "text/plain": [
              "      case  cc3   country  ...  inflation_crisis banking_crisis  exch_usd_discretized\n",
              "0        1  DZA   Algeria  ...             False           True                     0\n",
              "1        1  DZA   Algeria  ...             False          False                     0\n",
              "2        1  DZA   Algeria  ...             False          False                     0\n",
              "3        1  DZA   Algeria  ...             False          False                     0\n",
              "4        1  DZA   Algeria  ...             False          False                     0\n",
              "...    ...  ...       ...  ...               ...            ...                   ...\n",
              "1054    70  ZWE  Zimbabwe  ...             False           True                     3\n",
              "1055    70  ZWE  Zimbabwe  ...             False          False                     3\n",
              "1056    70  ZWE  Zimbabwe  ...             False          False                     3\n",
              "1057    70  ZWE  Zimbabwe  ...             False          False                     3\n",
              "1058    70  ZWE  Zimbabwe  ...             False          False                     3\n",
              "\n",
              "[1055 rows x 15 columns]"
            ]
          },
          "metadata": {
            "tags": []
          },
          "execution_count": 11
        }
      ]
    },
    {
      "cell_type": "markdown",
      "metadata": {
        "id": "IT8lRt2huVV0",
        "colab_type": "text"
      },
      "source": [
        "&nbsp; Também utilizando mapeamento com intervalos pré-definidos para o atributo `inflation_annual_cpi`, no qual terá a seguinte verificação:\n",
        "- Caso o valor seja menor que 2.086162, será do tipo 0;\n",
        "- Caso seja menor que 5.76233, será do tipo 1;\n",
        "- Caso seja menor que 11.64405, será do tipo 2;\n",
        "- Caso seja maior ou igual a 11.64405, será do tipo 3."
      ]
    },
    {
      "cell_type": "code",
      "metadata": {
        "id": "s8lghuqHu7Zz",
        "colab_type": "code",
        "colab": {}
      },
      "source": [
        "def get_discretized_inflation (x) :\n",
        "    if (x < 2.086162) :\n",
        "        return 0\n",
        "    elif (x < 5.76233) :\n",
        "        return 1\n",
        "    elif (x <  11.64405) :\n",
        "        return 2\n",
        "    else :\n",
        "        return 3"
      ],
      "execution_count": 0,
      "outputs": []
    },
    {
      "cell_type": "code",
      "metadata": {
        "id": "r6J8ku5_vGth",
        "colab_type": "code",
        "outputId": "da4272d2-44b7-4971-db88-4abd3155dd3b",
        "colab": {
          "base_uri": "https://localhost:8080/",
          "height": 643
        }
      },
      "source": [
        "df.loc[:,('inflation_discretized')] = df.exch_usd.apply(get_discretized_inflation).values\n",
        "df "
      ],
      "execution_count": 13,
      "outputs": [
        {
          "output_type": "stream",
          "text": [
            "/usr/local/lib/python3.6/dist-packages/pandas/core/indexing.py:376: SettingWithCopyWarning: \n",
            "A value is trying to be set on a copy of a slice from a DataFrame.\n",
            "Try using .loc[row_indexer,col_indexer] = value instead\n",
            "\n",
            "See the caveats in the documentation: http://pandas.pydata.org/pandas-docs/stable/user_guide/indexing.html#returning-a-view-versus-a-copy\n",
            "  self.obj[key] = _infer_fill_value(value)\n",
            "/usr/local/lib/python3.6/dist-packages/pandas/core/indexing.py:494: SettingWithCopyWarning: \n",
            "A value is trying to be set on a copy of a slice from a DataFrame.\n",
            "Try using .loc[row_indexer,col_indexer] = value instead\n",
            "\n",
            "See the caveats in the documentation: http://pandas.pydata.org/pandas-docs/stable/user_guide/indexing.html#returning-a-view-versus-a-copy\n",
            "  self.obj[item] = s\n"
          ],
          "name": "stderr"
        },
        {
          "output_type": "execute_result",
          "data": {
            "text/html": [
              "<div>\n",
              "<style scoped>\n",
              "    .dataframe tbody tr th:only-of-type {\n",
              "        vertical-align: middle;\n",
              "    }\n",
              "\n",
              "    .dataframe tbody tr th {\n",
              "        vertical-align: top;\n",
              "    }\n",
              "\n",
              "    .dataframe thead th {\n",
              "        text-align: right;\n",
              "    }\n",
              "</style>\n",
              "<table border=\"1\" class=\"dataframe\">\n",
              "  <thead>\n",
              "    <tr style=\"text-align: right;\">\n",
              "      <th></th>\n",
              "      <th>case</th>\n",
              "      <th>cc3</th>\n",
              "      <th>country</th>\n",
              "      <th>year</th>\n",
              "      <th>systemic_crisis</th>\n",
              "      <th>exch_usd</th>\n",
              "      <th>domestic_debt_default</th>\n",
              "      <th>sovereign_external_debt_default</th>\n",
              "      <th>gdp_weighted_default</th>\n",
              "      <th>inflation_annual_cpi</th>\n",
              "      <th>independence</th>\n",
              "      <th>currency_crisis</th>\n",
              "      <th>inflation_crisis</th>\n",
              "      <th>banking_crisis</th>\n",
              "      <th>exch_usd_discretized</th>\n",
              "      <th>inflation_discretized</th>\n",
              "    </tr>\n",
              "  </thead>\n",
              "  <tbody>\n",
              "    <tr>\n",
              "      <th>0</th>\n",
              "      <td>1</td>\n",
              "      <td>DZA</td>\n",
              "      <td>Algeria</td>\n",
              "      <td>1870</td>\n",
              "      <td>True</td>\n",
              "      <td>0.052264</td>\n",
              "      <td>False</td>\n",
              "      <td>False</td>\n",
              "      <td>0.0</td>\n",
              "      <td>3.441456</td>\n",
              "      <td>False</td>\n",
              "      <td>False</td>\n",
              "      <td>False</td>\n",
              "      <td>True</td>\n",
              "      <td>0</td>\n",
              "      <td>0</td>\n",
              "    </tr>\n",
              "    <tr>\n",
              "      <th>1</th>\n",
              "      <td>1</td>\n",
              "      <td>DZA</td>\n",
              "      <td>Algeria</td>\n",
              "      <td>1871</td>\n",
              "      <td>False</td>\n",
              "      <td>0.052798</td>\n",
              "      <td>False</td>\n",
              "      <td>False</td>\n",
              "      <td>0.0</td>\n",
              "      <td>14.149140</td>\n",
              "      <td>False</td>\n",
              "      <td>False</td>\n",
              "      <td>False</td>\n",
              "      <td>False</td>\n",
              "      <td>0</td>\n",
              "      <td>0</td>\n",
              "    </tr>\n",
              "    <tr>\n",
              "      <th>2</th>\n",
              "      <td>1</td>\n",
              "      <td>DZA</td>\n",
              "      <td>Algeria</td>\n",
              "      <td>1872</td>\n",
              "      <td>False</td>\n",
              "      <td>0.052274</td>\n",
              "      <td>False</td>\n",
              "      <td>False</td>\n",
              "      <td>0.0</td>\n",
              "      <td>-3.718593</td>\n",
              "      <td>False</td>\n",
              "      <td>False</td>\n",
              "      <td>False</td>\n",
              "      <td>False</td>\n",
              "      <td>0</td>\n",
              "      <td>0</td>\n",
              "    </tr>\n",
              "    <tr>\n",
              "      <th>3</th>\n",
              "      <td>1</td>\n",
              "      <td>DZA</td>\n",
              "      <td>Algeria</td>\n",
              "      <td>1873</td>\n",
              "      <td>False</td>\n",
              "      <td>0.051680</td>\n",
              "      <td>False</td>\n",
              "      <td>False</td>\n",
              "      <td>0.0</td>\n",
              "      <td>11.203897</td>\n",
              "      <td>False</td>\n",
              "      <td>False</td>\n",
              "      <td>False</td>\n",
              "      <td>False</td>\n",
              "      <td>0</td>\n",
              "      <td>0</td>\n",
              "    </tr>\n",
              "    <tr>\n",
              "      <th>4</th>\n",
              "      <td>1</td>\n",
              "      <td>DZA</td>\n",
              "      <td>Algeria</td>\n",
              "      <td>1874</td>\n",
              "      <td>False</td>\n",
              "      <td>0.051308</td>\n",
              "      <td>False</td>\n",
              "      <td>False</td>\n",
              "      <td>0.0</td>\n",
              "      <td>-3.848561</td>\n",
              "      <td>False</td>\n",
              "      <td>False</td>\n",
              "      <td>False</td>\n",
              "      <td>False</td>\n",
              "      <td>0</td>\n",
              "      <td>0</td>\n",
              "    </tr>\n",
              "    <tr>\n",
              "      <th>...</th>\n",
              "      <td>...</td>\n",
              "      <td>...</td>\n",
              "      <td>...</td>\n",
              "      <td>...</td>\n",
              "      <td>...</td>\n",
              "      <td>...</td>\n",
              "      <td>...</td>\n",
              "      <td>...</td>\n",
              "      <td>...</td>\n",
              "      <td>...</td>\n",
              "      <td>...</td>\n",
              "      <td>...</td>\n",
              "      <td>...</td>\n",
              "      <td>...</td>\n",
              "      <td>...</td>\n",
              "      <td>...</td>\n",
              "    </tr>\n",
              "    <tr>\n",
              "      <th>1054</th>\n",
              "      <td>70</td>\n",
              "      <td>ZWE</td>\n",
              "      <td>Zimbabwe</td>\n",
              "      <td>2009</td>\n",
              "      <td>True</td>\n",
              "      <td>354.800000</td>\n",
              "      <td>True</td>\n",
              "      <td>True</td>\n",
              "      <td>0.0</td>\n",
              "      <td>-7.670000</td>\n",
              "      <td>True</td>\n",
              "      <td>True</td>\n",
              "      <td>False</td>\n",
              "      <td>True</td>\n",
              "      <td>3</td>\n",
              "      <td>3</td>\n",
              "    </tr>\n",
              "    <tr>\n",
              "      <th>1055</th>\n",
              "      <td>70</td>\n",
              "      <td>ZWE</td>\n",
              "      <td>Zimbabwe</td>\n",
              "      <td>2010</td>\n",
              "      <td>False</td>\n",
              "      <td>378.200000</td>\n",
              "      <td>True</td>\n",
              "      <td>True</td>\n",
              "      <td>0.0</td>\n",
              "      <td>3.217000</td>\n",
              "      <td>True</td>\n",
              "      <td>False</td>\n",
              "      <td>False</td>\n",
              "      <td>False</td>\n",
              "      <td>3</td>\n",
              "      <td>3</td>\n",
              "    </tr>\n",
              "    <tr>\n",
              "      <th>1056</th>\n",
              "      <td>70</td>\n",
              "      <td>ZWE</td>\n",
              "      <td>Zimbabwe</td>\n",
              "      <td>2011</td>\n",
              "      <td>False</td>\n",
              "      <td>361.900000</td>\n",
              "      <td>True</td>\n",
              "      <td>True</td>\n",
              "      <td>0.0</td>\n",
              "      <td>4.920000</td>\n",
              "      <td>True</td>\n",
              "      <td>False</td>\n",
              "      <td>False</td>\n",
              "      <td>False</td>\n",
              "      <td>3</td>\n",
              "      <td>3</td>\n",
              "    </tr>\n",
              "    <tr>\n",
              "      <th>1057</th>\n",
              "      <td>70</td>\n",
              "      <td>ZWE</td>\n",
              "      <td>Zimbabwe</td>\n",
              "      <td>2012</td>\n",
              "      <td>False</td>\n",
              "      <td>361.900000</td>\n",
              "      <td>True</td>\n",
              "      <td>True</td>\n",
              "      <td>0.0</td>\n",
              "      <td>3.720000</td>\n",
              "      <td>True</td>\n",
              "      <td>False</td>\n",
              "      <td>False</td>\n",
              "      <td>False</td>\n",
              "      <td>3</td>\n",
              "      <td>3</td>\n",
              "    </tr>\n",
              "    <tr>\n",
              "      <th>1058</th>\n",
              "      <td>70</td>\n",
              "      <td>ZWE</td>\n",
              "      <td>Zimbabwe</td>\n",
              "      <td>2013</td>\n",
              "      <td>False</td>\n",
              "      <td>361.900000</td>\n",
              "      <td>True</td>\n",
              "      <td>True</td>\n",
              "      <td>0.0</td>\n",
              "      <td>1.632000</td>\n",
              "      <td>True</td>\n",
              "      <td>False</td>\n",
              "      <td>False</td>\n",
              "      <td>False</td>\n",
              "      <td>3</td>\n",
              "      <td>3</td>\n",
              "    </tr>\n",
              "  </tbody>\n",
              "</table>\n",
              "<p>1055 rows × 16 columns</p>\n",
              "</div>"
            ],
            "text/plain": [
              "      case  cc3  ... exch_usd_discretized  inflation_discretized\n",
              "0        1  DZA  ...                    0                      0\n",
              "1        1  DZA  ...                    0                      0\n",
              "2        1  DZA  ...                    0                      0\n",
              "3        1  DZA  ...                    0                      0\n",
              "4        1  DZA  ...                    0                      0\n",
              "...    ...  ...  ...                  ...                    ...\n",
              "1054    70  ZWE  ...                    3                      3\n",
              "1055    70  ZWE  ...                    3                      3\n",
              "1056    70  ZWE  ...                    3                      3\n",
              "1057    70  ZWE  ...                    3                      3\n",
              "1058    70  ZWE  ...                    3                      3\n",
              "\n",
              "[1055 rows x 16 columns]"
            ]
          },
          "metadata": {
            "tags": []
          },
          "execution_count": 13
        }
      ]
    },
    {
      "cell_type": "markdown",
      "metadata": {
        "id": "IwkAmhOHFUjH",
        "colab_type": "text"
      },
      "source": [
        "&nbsp; Também para auxiliar na visualização, será movido o atributo `currency_crisis` para a ultima posição, visto que é o atributo classe do conjunto."
      ]
    },
    {
      "cell_type": "code",
      "metadata": {
        "id": "OwKCO7JlFpi1",
        "colab_type": "code",
        "outputId": "68fae1de-724f-488f-9ec6-45ccb64c2e56",
        "colab": {
          "base_uri": "https://localhost:8080/",
          "height": 439
        }
      },
      "source": [
        "df = df[['country','year','exch_usd','exch_usd_discretized','domestic_debt_default','sovereign_external_debt_default','gdp_weighted_default','inflation_annual_cpi','inflation_discretized','independence','systemic_crisis','inflation_crisis','banking_crisis','currency_crisis']]\n",
        "df"
      ],
      "execution_count": 14,
      "outputs": [
        {
          "output_type": "execute_result",
          "data": {
            "text/html": [
              "<div>\n",
              "<style scoped>\n",
              "    .dataframe tbody tr th:only-of-type {\n",
              "        vertical-align: middle;\n",
              "    }\n",
              "\n",
              "    .dataframe tbody tr th {\n",
              "        vertical-align: top;\n",
              "    }\n",
              "\n",
              "    .dataframe thead th {\n",
              "        text-align: right;\n",
              "    }\n",
              "</style>\n",
              "<table border=\"1\" class=\"dataframe\">\n",
              "  <thead>\n",
              "    <tr style=\"text-align: right;\">\n",
              "      <th></th>\n",
              "      <th>country</th>\n",
              "      <th>year</th>\n",
              "      <th>exch_usd</th>\n",
              "      <th>exch_usd_discretized</th>\n",
              "      <th>domestic_debt_default</th>\n",
              "      <th>sovereign_external_debt_default</th>\n",
              "      <th>gdp_weighted_default</th>\n",
              "      <th>inflation_annual_cpi</th>\n",
              "      <th>inflation_discretized</th>\n",
              "      <th>independence</th>\n",
              "      <th>systemic_crisis</th>\n",
              "      <th>inflation_crisis</th>\n",
              "      <th>banking_crisis</th>\n",
              "      <th>currency_crisis</th>\n",
              "    </tr>\n",
              "  </thead>\n",
              "  <tbody>\n",
              "    <tr>\n",
              "      <th>0</th>\n",
              "      <td>Algeria</td>\n",
              "      <td>1870</td>\n",
              "      <td>0.052264</td>\n",
              "      <td>0</td>\n",
              "      <td>False</td>\n",
              "      <td>False</td>\n",
              "      <td>0.0</td>\n",
              "      <td>3.441456</td>\n",
              "      <td>0</td>\n",
              "      <td>False</td>\n",
              "      <td>True</td>\n",
              "      <td>False</td>\n",
              "      <td>True</td>\n",
              "      <td>False</td>\n",
              "    </tr>\n",
              "    <tr>\n",
              "      <th>1</th>\n",
              "      <td>Algeria</td>\n",
              "      <td>1871</td>\n",
              "      <td>0.052798</td>\n",
              "      <td>0</td>\n",
              "      <td>False</td>\n",
              "      <td>False</td>\n",
              "      <td>0.0</td>\n",
              "      <td>14.149140</td>\n",
              "      <td>0</td>\n",
              "      <td>False</td>\n",
              "      <td>False</td>\n",
              "      <td>False</td>\n",
              "      <td>False</td>\n",
              "      <td>False</td>\n",
              "    </tr>\n",
              "    <tr>\n",
              "      <th>2</th>\n",
              "      <td>Algeria</td>\n",
              "      <td>1872</td>\n",
              "      <td>0.052274</td>\n",
              "      <td>0</td>\n",
              "      <td>False</td>\n",
              "      <td>False</td>\n",
              "      <td>0.0</td>\n",
              "      <td>-3.718593</td>\n",
              "      <td>0</td>\n",
              "      <td>False</td>\n",
              "      <td>False</td>\n",
              "      <td>False</td>\n",
              "      <td>False</td>\n",
              "      <td>False</td>\n",
              "    </tr>\n",
              "    <tr>\n",
              "      <th>3</th>\n",
              "      <td>Algeria</td>\n",
              "      <td>1873</td>\n",
              "      <td>0.051680</td>\n",
              "      <td>0</td>\n",
              "      <td>False</td>\n",
              "      <td>False</td>\n",
              "      <td>0.0</td>\n",
              "      <td>11.203897</td>\n",
              "      <td>0</td>\n",
              "      <td>False</td>\n",
              "      <td>False</td>\n",
              "      <td>False</td>\n",
              "      <td>False</td>\n",
              "      <td>False</td>\n",
              "    </tr>\n",
              "    <tr>\n",
              "      <th>4</th>\n",
              "      <td>Algeria</td>\n",
              "      <td>1874</td>\n",
              "      <td>0.051308</td>\n",
              "      <td>0</td>\n",
              "      <td>False</td>\n",
              "      <td>False</td>\n",
              "      <td>0.0</td>\n",
              "      <td>-3.848561</td>\n",
              "      <td>0</td>\n",
              "      <td>False</td>\n",
              "      <td>False</td>\n",
              "      <td>False</td>\n",
              "      <td>False</td>\n",
              "      <td>False</td>\n",
              "    </tr>\n",
              "    <tr>\n",
              "      <th>...</th>\n",
              "      <td>...</td>\n",
              "      <td>...</td>\n",
              "      <td>...</td>\n",
              "      <td>...</td>\n",
              "      <td>...</td>\n",
              "      <td>...</td>\n",
              "      <td>...</td>\n",
              "      <td>...</td>\n",
              "      <td>...</td>\n",
              "      <td>...</td>\n",
              "      <td>...</td>\n",
              "      <td>...</td>\n",
              "      <td>...</td>\n",
              "      <td>...</td>\n",
              "    </tr>\n",
              "    <tr>\n",
              "      <th>1054</th>\n",
              "      <td>Zimbabwe</td>\n",
              "      <td>2009</td>\n",
              "      <td>354.800000</td>\n",
              "      <td>3</td>\n",
              "      <td>True</td>\n",
              "      <td>True</td>\n",
              "      <td>0.0</td>\n",
              "      <td>-7.670000</td>\n",
              "      <td>3</td>\n",
              "      <td>True</td>\n",
              "      <td>True</td>\n",
              "      <td>False</td>\n",
              "      <td>True</td>\n",
              "      <td>True</td>\n",
              "    </tr>\n",
              "    <tr>\n",
              "      <th>1055</th>\n",
              "      <td>Zimbabwe</td>\n",
              "      <td>2010</td>\n",
              "      <td>378.200000</td>\n",
              "      <td>3</td>\n",
              "      <td>True</td>\n",
              "      <td>True</td>\n",
              "      <td>0.0</td>\n",
              "      <td>3.217000</td>\n",
              "      <td>3</td>\n",
              "      <td>True</td>\n",
              "      <td>False</td>\n",
              "      <td>False</td>\n",
              "      <td>False</td>\n",
              "      <td>False</td>\n",
              "    </tr>\n",
              "    <tr>\n",
              "      <th>1056</th>\n",
              "      <td>Zimbabwe</td>\n",
              "      <td>2011</td>\n",
              "      <td>361.900000</td>\n",
              "      <td>3</td>\n",
              "      <td>True</td>\n",
              "      <td>True</td>\n",
              "      <td>0.0</td>\n",
              "      <td>4.920000</td>\n",
              "      <td>3</td>\n",
              "      <td>True</td>\n",
              "      <td>False</td>\n",
              "      <td>False</td>\n",
              "      <td>False</td>\n",
              "      <td>False</td>\n",
              "    </tr>\n",
              "    <tr>\n",
              "      <th>1057</th>\n",
              "      <td>Zimbabwe</td>\n",
              "      <td>2012</td>\n",
              "      <td>361.900000</td>\n",
              "      <td>3</td>\n",
              "      <td>True</td>\n",
              "      <td>True</td>\n",
              "      <td>0.0</td>\n",
              "      <td>3.720000</td>\n",
              "      <td>3</td>\n",
              "      <td>True</td>\n",
              "      <td>False</td>\n",
              "      <td>False</td>\n",
              "      <td>False</td>\n",
              "      <td>False</td>\n",
              "    </tr>\n",
              "    <tr>\n",
              "      <th>1058</th>\n",
              "      <td>Zimbabwe</td>\n",
              "      <td>2013</td>\n",
              "      <td>361.900000</td>\n",
              "      <td>3</td>\n",
              "      <td>True</td>\n",
              "      <td>True</td>\n",
              "      <td>0.0</td>\n",
              "      <td>1.632000</td>\n",
              "      <td>3</td>\n",
              "      <td>True</td>\n",
              "      <td>False</td>\n",
              "      <td>False</td>\n",
              "      <td>False</td>\n",
              "      <td>False</td>\n",
              "    </tr>\n",
              "  </tbody>\n",
              "</table>\n",
              "<p>1055 rows × 14 columns</p>\n",
              "</div>"
            ],
            "text/plain": [
              "       country  year  ...  banking_crisis  currency_crisis\n",
              "0      Algeria  1870  ...            True            False\n",
              "1      Algeria  1871  ...           False            False\n",
              "2      Algeria  1872  ...           False            False\n",
              "3      Algeria  1873  ...           False            False\n",
              "4      Algeria  1874  ...           False            False\n",
              "...        ...   ...  ...             ...              ...\n",
              "1054  Zimbabwe  2009  ...            True             True\n",
              "1055  Zimbabwe  2010  ...           False            False\n",
              "1056  Zimbabwe  2011  ...           False            False\n",
              "1057  Zimbabwe  2012  ...           False            False\n",
              "1058  Zimbabwe  2013  ...           False            False\n",
              "\n",
              "[1055 rows x 14 columns]"
            ]
          },
          "metadata": {
            "tags": []
          },
          "execution_count": 14
        }
      ]
    },
    {
      "cell_type": "markdown",
      "metadata": {
        "id": "ER6LAAabB3C2",
        "colab_type": "text"
      },
      "source": [
        "### *Normalização de dados numéricos*:\n",
        "&nbsp; A normalização será realizada nos atributos: **`exch_usd`** e **`inflation_annual_cpi`**. No qual será realizada uma normalização por valor máximo, pois há valores negativos em um dos atributos. E além disso, será normalizado o atributo `gdp_weighted_default`, para manter a padronização"
      ]
    },
    {
      "cell_type": "markdown",
      "metadata": {
        "id": "uMDyeRwK_QZx",
        "colab_type": "text"
      },
      "source": [
        "### Função de Normalização por Valor Máximo"
      ]
    },
    {
      "cell_type": "code",
      "metadata": {
        "id": "_EYxOaE09qhj",
        "colab_type": "code",
        "colab": {}
      },
      "source": [
        "import numpy as np\n",
        "def normalizacao_max(x):\n",
        "  return x / np.max(np.abs(x))"
      ],
      "execution_count": 0,
      "outputs": []
    },
    {
      "cell_type": "code",
      "metadata": {
        "id": "skXK2ZG7_hQj",
        "colab_type": "code",
        "colab": {
          "base_uri": "https://localhost:8080/",
          "height": 541
        },
        "outputId": "7de4e65a-e7d9-419f-e297-2487870a5da2"
      },
      "source": [
        "df.loc[:,'exch_usd'] = normalizacao_max(df['exch_usd'])\n",
        "df.loc[:,'gdp_weighted_default'] = normalizacao_max(df['gdp_weighted_default'])\n",
        "df.loc[:,'inflation_annual_cpi'] = normalizacao_max(df['inflation_annual_cpi'])\n",
        "df\n"
      ],
      "execution_count": 34,
      "outputs": [
        {
          "output_type": "stream",
          "text": [
            "/usr/local/lib/python3.6/dist-packages/pandas/core/indexing.py:494: SettingWithCopyWarning: \n",
            "A value is trying to be set on a copy of a slice from a DataFrame.\n",
            "Try using .loc[row_indexer,col_indexer] = value instead\n",
            "\n",
            "See the caveats in the documentation: http://pandas.pydata.org/pandas-docs/stable/user_guide/indexing.html#returning-a-view-versus-a-copy\n",
            "  self.obj[item] = s\n"
          ],
          "name": "stderr"
        },
        {
          "output_type": "execute_result",
          "data": {
            "text/html": [
              "<div>\n",
              "<style scoped>\n",
              "    .dataframe tbody tr th:only-of-type {\n",
              "        vertical-align: middle;\n",
              "    }\n",
              "\n",
              "    .dataframe tbody tr th {\n",
              "        vertical-align: top;\n",
              "    }\n",
              "\n",
              "    .dataframe thead th {\n",
              "        text-align: right;\n",
              "    }\n",
              "</style>\n",
              "<table border=\"1\" class=\"dataframe\">\n",
              "  <thead>\n",
              "    <tr style=\"text-align: right;\">\n",
              "      <th></th>\n",
              "      <th>country</th>\n",
              "      <th>year</th>\n",
              "      <th>exch_usd</th>\n",
              "      <th>exch_usd_discretized</th>\n",
              "      <th>domestic_debt_default</th>\n",
              "      <th>sovereign_external_debt_default</th>\n",
              "      <th>gdp_weighted_default</th>\n",
              "      <th>inflation_annual_cpi</th>\n",
              "      <th>inflation_discretized</th>\n",
              "      <th>independence</th>\n",
              "      <th>systemic_crisis</th>\n",
              "      <th>inflation_crisis</th>\n",
              "      <th>banking_crisis</th>\n",
              "      <th>currency_crisis</th>\n",
              "    </tr>\n",
              "  </thead>\n",
              "  <tbody>\n",
              "    <tr>\n",
              "      <th>0</th>\n",
              "      <td>Algeria</td>\n",
              "      <td>1870</td>\n",
              "      <td>0.000070</td>\n",
              "      <td>0</td>\n",
              "      <td>False</td>\n",
              "      <td>False</td>\n",
              "      <td>0.0</td>\n",
              "      <td>1.565031e-07</td>\n",
              "      <td>0</td>\n",
              "      <td>False</td>\n",
              "      <td>True</td>\n",
              "      <td>False</td>\n",
              "      <td>True</td>\n",
              "      <td>False</td>\n",
              "    </tr>\n",
              "    <tr>\n",
              "      <th>1</th>\n",
              "      <td>Algeria</td>\n",
              "      <td>1871</td>\n",
              "      <td>0.000071</td>\n",
              "      <td>0</td>\n",
              "      <td>False</td>\n",
              "      <td>False</td>\n",
              "      <td>0.0</td>\n",
              "      <td>6.434441e-07</td>\n",
              "      <td>0</td>\n",
              "      <td>False</td>\n",
              "      <td>False</td>\n",
              "      <td>False</td>\n",
              "      <td>False</td>\n",
              "      <td>False</td>\n",
              "    </tr>\n",
              "    <tr>\n",
              "      <th>2</th>\n",
              "      <td>Algeria</td>\n",
              "      <td>1872</td>\n",
              "      <td>0.000070</td>\n",
              "      <td>0</td>\n",
              "      <td>False</td>\n",
              "      <td>False</td>\n",
              "      <td>0.0</td>\n",
              "      <td>-1.691062e-07</td>\n",
              "      <td>0</td>\n",
              "      <td>False</td>\n",
              "      <td>False</td>\n",
              "      <td>False</td>\n",
              "      <td>False</td>\n",
              "      <td>False</td>\n",
              "    </tr>\n",
              "    <tr>\n",
              "      <th>3</th>\n",
              "      <td>Algeria</td>\n",
              "      <td>1873</td>\n",
              "      <td>0.000069</td>\n",
              "      <td>0</td>\n",
              "      <td>False</td>\n",
              "      <td>False</td>\n",
              "      <td>0.0</td>\n",
              "      <td>5.095067e-07</td>\n",
              "      <td>0</td>\n",
              "      <td>False</td>\n",
              "      <td>False</td>\n",
              "      <td>False</td>\n",
              "      <td>False</td>\n",
              "      <td>False</td>\n",
              "    </tr>\n",
              "    <tr>\n",
              "      <th>4</th>\n",
              "      <td>Algeria</td>\n",
              "      <td>1874</td>\n",
              "      <td>0.000069</td>\n",
              "      <td>0</td>\n",
              "      <td>False</td>\n",
              "      <td>False</td>\n",
              "      <td>0.0</td>\n",
              "      <td>-1.750166e-07</td>\n",
              "      <td>0</td>\n",
              "      <td>False</td>\n",
              "      <td>False</td>\n",
              "      <td>False</td>\n",
              "      <td>False</td>\n",
              "      <td>False</td>\n",
              "    </tr>\n",
              "    <tr>\n",
              "      <th>...</th>\n",
              "      <td>...</td>\n",
              "      <td>...</td>\n",
              "      <td>...</td>\n",
              "      <td>...</td>\n",
              "      <td>...</td>\n",
              "      <td>...</td>\n",
              "      <td>...</td>\n",
              "      <td>...</td>\n",
              "      <td>...</td>\n",
              "      <td>...</td>\n",
              "      <td>...</td>\n",
              "      <td>...</td>\n",
              "      <td>...</td>\n",
              "      <td>...</td>\n",
              "    </tr>\n",
              "    <tr>\n",
              "      <th>1054</th>\n",
              "      <td>Zimbabwe</td>\n",
              "      <td>2009</td>\n",
              "      <td>0.476686</td>\n",
              "      <td>3</td>\n",
              "      <td>True</td>\n",
              "      <td>True</td>\n",
              "      <td>0.0</td>\n",
              "      <td>-3.487997e-07</td>\n",
              "      <td>3</td>\n",
              "      <td>True</td>\n",
              "      <td>True</td>\n",
              "      <td>False</td>\n",
              "      <td>True</td>\n",
              "      <td>True</td>\n",
              "    </tr>\n",
              "    <tr>\n",
              "      <th>1055</th>\n",
              "      <td>Zimbabwe</td>\n",
              "      <td>2010</td>\n",
              "      <td>0.508124</td>\n",
              "      <td>3</td>\n",
              "      <td>True</td>\n",
              "      <td>True</td>\n",
              "      <td>0.0</td>\n",
              "      <td>1.462958e-07</td>\n",
              "      <td>3</td>\n",
              "      <td>True</td>\n",
              "      <td>False</td>\n",
              "      <td>False</td>\n",
              "      <td>False</td>\n",
              "      <td>False</td>\n",
              "    </tr>\n",
              "    <tr>\n",
              "      <th>1056</th>\n",
              "      <td>Zimbabwe</td>\n",
              "      <td>2011</td>\n",
              "      <td>0.486225</td>\n",
              "      <td>3</td>\n",
              "      <td>True</td>\n",
              "      <td>True</td>\n",
              "      <td>0.0</td>\n",
              "      <td>2.237412e-07</td>\n",
              "      <td>3</td>\n",
              "      <td>True</td>\n",
              "      <td>False</td>\n",
              "      <td>False</td>\n",
              "      <td>False</td>\n",
              "      <td>False</td>\n",
              "    </tr>\n",
              "    <tr>\n",
              "      <th>1057</th>\n",
              "      <td>Zimbabwe</td>\n",
              "      <td>2012</td>\n",
              "      <td>0.486225</td>\n",
              "      <td>3</td>\n",
              "      <td>True</td>\n",
              "      <td>True</td>\n",
              "      <td>0.0</td>\n",
              "      <td>1.691701e-07</td>\n",
              "      <td>3</td>\n",
              "      <td>True</td>\n",
              "      <td>False</td>\n",
              "      <td>False</td>\n",
              "      <td>False</td>\n",
              "      <td>False</td>\n",
              "    </tr>\n",
              "    <tr>\n",
              "      <th>1058</th>\n",
              "      <td>Zimbabwe</td>\n",
              "      <td>2013</td>\n",
              "      <td>0.486225</td>\n",
              "      <td>3</td>\n",
              "      <td>True</td>\n",
              "      <td>True</td>\n",
              "      <td>0.0</td>\n",
              "      <td>7.421658e-08</td>\n",
              "      <td>3</td>\n",
              "      <td>True</td>\n",
              "      <td>False</td>\n",
              "      <td>False</td>\n",
              "      <td>False</td>\n",
              "      <td>False</td>\n",
              "    </tr>\n",
              "  </tbody>\n",
              "</table>\n",
              "<p>1055 rows × 14 columns</p>\n",
              "</div>"
            ],
            "text/plain": [
              "       country  year  exch_usd  ...  inflation_crisis banking_crisis currency_crisis\n",
              "0      Algeria  1870  0.000070  ...             False           True           False\n",
              "1      Algeria  1871  0.000071  ...             False          False           False\n",
              "2      Algeria  1872  0.000070  ...             False          False           False\n",
              "3      Algeria  1873  0.000069  ...             False          False           False\n",
              "4      Algeria  1874  0.000069  ...             False          False           False\n",
              "...        ...   ...       ...  ...               ...            ...             ...\n",
              "1054  Zimbabwe  2009  0.476686  ...             False           True            True\n",
              "1055  Zimbabwe  2010  0.508124  ...             False          False           False\n",
              "1056  Zimbabwe  2011  0.486225  ...             False          False           False\n",
              "1057  Zimbabwe  2012  0.486225  ...             False          False           False\n",
              "1058  Zimbabwe  2013  0.486225  ...             False          False           False\n",
              "\n",
              "[1055 rows x 14 columns]"
            ]
          },
          "metadata": {
            "tags": []
          },
          "execution_count": 34
        }
      ]
    },
    {
      "cell_type": "markdown",
      "metadata": {
        "id": "C_nzNn0p5ZKL",
        "colab_type": "text"
      },
      "source": [
        "---\n",
        "# Valores que os atributos podem assumir"
      ]
    },
    {
      "cell_type": "markdown",
      "metadata": {
        "id": "2E6Dh15o5yQ2",
        "colab_type": "text"
      },
      "source": [
        "### country: String com os países da África"
      ]
    },
    {
      "cell_type": "code",
      "metadata": {
        "id": "EVhoON-z5lG7",
        "colab_type": "code",
        "outputId": "e7ff5c7a-8366-4f9e-c349-7c194eb6f222",
        "colab": {
          "base_uri": "https://localhost:8080/",
          "height": 68
        }
      },
      "source": [
        "df['country'].unique()"
      ],
      "execution_count": 35,
      "outputs": [
        {
          "output_type": "execute_result",
          "data": {
            "text/plain": [
              "array(['Algeria', 'Angola', 'Central African Republic', 'Ivory Coast',\n",
              "       'Egypt', 'Kenya', 'Mauritius', 'Morocco', 'Nigeria',\n",
              "       'South Africa', 'Tunisia', 'Zambia', 'Zimbabwe'], dtype=object)"
            ]
          },
          "metadata": {
            "tags": []
          },
          "execution_count": 35
        }
      ]
    },
    {
      "cell_type": "markdown",
      "metadata": {
        "id": "Yg79wsil6Oeb",
        "colab_type": "text"
      },
      "source": [
        "### year: Inteiros de 1870 à 1920 "
      ]
    },
    {
      "cell_type": "code",
      "metadata": {
        "id": "aXNytgCw6I3y",
        "colab_type": "code",
        "outputId": "03337520-3ba3-4c7e-e9e0-7855cc87739d",
        "colab": {
          "base_uri": "https://localhost:8080/",
          "height": 272
        }
      },
      "source": [
        "df['year'].unique()"
      ],
      "execution_count": 36,
      "outputs": [
        {
          "output_type": "execute_result",
          "data": {
            "text/plain": [
              "array([1870, 1871, 1872, 1873, 1874, 1875, 1876, 1877, 1878, 1879, 1880,\n",
              "       1881, 1882, 1883, 1884, 1939, 1940, 1941, 1942, 1943, 1944, 1945,\n",
              "       1946, 1947, 1948, 1949, 1950, 1951, 1952, 1953, 1954, 1955, 1956,\n",
              "       1957, 1958, 1959, 1960, 1961, 1968, 1969, 1970, 1971, 1972, 1973,\n",
              "       1974, 1975, 1976, 1977, 1978, 1979, 1980, 1981, 1982, 1983, 1984,\n",
              "       1985, 1986, 1987, 1988, 1989, 1990, 1991, 1992, 1993, 1994, 1995,\n",
              "       1996, 1997, 1998, 1999, 2000, 2001, 2002, 2003, 2004, 2005, 2006,\n",
              "       2007, 2008, 2009, 2010, 2011, 2012, 2013, 2014, 1921, 1922, 1923,\n",
              "       1924, 1925, 1926, 1927, 1928, 1929, 1930, 1931, 1932, 1933, 1934,\n",
              "       1935, 1936, 1937, 1938, 1962, 1963, 1964, 1965, 1966, 1967, 1860,\n",
              "       1861, 1862, 1863, 1864, 1865, 1866, 1867, 1868, 1869, 1885, 1886,\n",
              "       1887, 1888, 1889, 1890, 1891, 1892, 1893, 1894, 1895, 1896, 1897,\n",
              "       1898, 1899, 1900, 1901, 1902, 1903, 1904, 1905, 1906, 1907, 1908,\n",
              "       1909, 1910, 1911, 1912, 1913, 1914, 1915, 1916, 1917, 1918, 1919,\n",
              "       1920])"
            ]
          },
          "metadata": {
            "tags": []
          },
          "execution_count": 36
        }
      ]
    },
    {
      "cell_type": "markdown",
      "metadata": {
        "colab_type": "text",
        "id": "ggclpYes6dpY"
      },
      "source": [
        "### exch_usd: Reais de 0 à 1"
      ]
    },
    {
      "cell_type": "code",
      "metadata": {
        "id": "InZbAcyi6hun",
        "colab_type": "code",
        "outputId": "20321e89-734f-494b-c190-d4f4fdbd212e",
        "colab": {
          "base_uri": "https://localhost:8080/",
          "height": 1000
        }
      },
      "source": [
        "df['exch_usd'].unique()"
      ],
      "execution_count": 37,
      "outputs": [
        {
          "output_type": "execute_result",
          "data": {
            "text/plain": [
              "array([7.02184186e-05, 7.09358653e-05, 7.02318539e-05, 6.94337952e-05,\n",
              "       6.89340009e-05, 6.92537618e-05, 6.96850359e-05, 6.97938621e-05,\n",
              "       6.99026883e-05, 7.03420236e-05, 6.81990882e-05, 6.98664129e-05,\n",
              "       7.00854088e-05, 6.03286708e-04, 6.60870540e-04, 6.03743509e-04,\n",
              "       1.00764989e-03, 6.71766594e-04, 1.60014803e-03, 1.60283509e-03,\n",
              "       3.57648535e-03, 4.68893083e-03, 4.70102263e-03, 4.70236616e-03,\n",
              "       5.64149586e-03, 6.59137382e-03, 6.59540442e-03, 6.63310397e-03,\n",
              "       6.23936813e-03, 6.12113721e-03, 5.62268640e-03, 5.37010216e-03,\n",
              "       5.54207440e-03, 5.85646117e-03, 5.42115642e-03, 5.15177801e-03,\n",
              "       5.04563889e-03, 5.33584206e-03, 5.88198830e-03, 6.22794810e-03,\n",
              "       6.60548092e-03, 6.88251747e-03, 6.41241520e-03, 6.48053234e-03,\n",
              "       6.63208288e-03, 9.04305319e-03, 1.07917960e-02, 1.63787444e-02,\n",
              "       2.87407276e-02, 3.06075670e-02, 3.24100511e-02, 5.76274973e-02,\n",
              "       7.00988441e-02, 7.54876214e-02, 7.84810133e-02, 8.10863929e-02,\n",
              "       9.31260625e-02, 1.01225552e-01, 1.04553215e-01, 1.07111034e-01,\n",
              "       9.75577067e-02, 9.75589159e-02, 9.85883310e-02, 9.56034034e-02,\n",
              "       8.97881887e-02, 9.56361856e-02, 9.77163780e-02, 1.00689348e-01,\n",
              "       1.02184163e-01, 1.04933301e-01, 1.04995374e-01, 1.18191553e-01,\n",
              "       1.67941649e-11, 2.96920835e-11, 3.77532826e-11, 2.79454903e-11,\n",
              "       2.61988972e-11, 2.71393704e-11, 3.04982034e-11, 2.98264368e-11,\n",
              "       2.99607901e-11, 4.16495289e-11, 4.44709486e-11, 2.86172569e-11,\n",
              "       3.02294967e-11, 3.17073833e-11, 3.72158693e-11, 3.37226830e-11,\n",
              "       3.35883297e-11, 3.53349229e-11, 3.46631563e-11, 3.84250492e-11,\n",
              "       3.90968158e-11, 3.89624625e-11, 3.86937558e-11, 3.88281092e-11,\n",
              "       3.70815160e-11, 3.62753961e-11, 3.30509164e-11, 3.69471627e-11,\n",
              "       4.01716423e-11, 2.41835974e-10, 7.38943254e-10, 8.73296573e-09,\n",
              "       6.84210399e-07, 2.71385643e-04, 3.52510864e-04, 9.35770866e-04,\n",
              "       2.25953262e-02, 4.29250255e-02, 7.88202152e-02, 1.06248606e-01,\n",
              "       1.15527450e-01, 1.08529953e-01, 1.07837912e-01, 1.00795890e-01,\n",
              "       1.00992046e-01, 1.20109180e-01, 1.24468945e-01, 1.28001094e-01,\n",
              "       1.28745257e-01, 1.31075098e-01, 1.36355183e-01, 2.82074593e-01,\n",
              "       3.29568458e-01, 3.29769988e-01, 3.29340058e-01, 3.29252728e-01,\n",
              "       3.29172116e-01, 3.29299752e-01, 3.29266163e-01, 3.32645147e-01,\n",
              "       3.29736400e-01, 3.32396593e-01, 3.73387762e-01, 3.70848486e-01,\n",
              "       3.50964209e-01, 3.44011430e-01, 3.16301077e-01, 2.98566452e-01,\n",
              "       3.01320693e-01, 3.33850967e-01, 3.16065959e-01, 2.80798238e-01,\n",
              "       2.70049980e-01, 3.03369579e-01, 3.86131165e-01, 4.51762715e-01,\n",
              "       5.60756768e-01, 6.44358062e-01, 5.07922363e-01, 4.33625030e-01,\n",
              "       3.58723108e-01, 4.07023092e-01, 3.88818230e-01, 3.44548843e-01,\n",
              "       3.47974850e-01, 3.69908013e-01, 3.96039716e-01, 7.18252335e-01,\n",
              "       6.58330797e-01, 7.03607833e-01, 8.04520540e-01, 7.55347260e-01,\n",
              "       8.77264583e-01, 9.47125202e-01, 1.00000000e+00, 8.40373796e-01,\n",
              "       6.97783056e-01, 6.47015638e-01, 7.47054336e-01, 6.69172361e-01,\n",
              "       5.98668569e-01, 6.33254293e-01, 6.11758989e-01, 6.59556953e-01,\n",
              "       6.81119097e-01, 6.67955131e-01, 6.39039954e-01, 7.25887489e-01,\n",
              "       0.00000000e+00, 3.73502226e-01, 3.54692762e-01, 3.43272730e-01,\n",
              "       3.19760899e-01, 2.98264368e-01, 2.95577302e-01, 3.31852698e-01,\n",
              "       3.17073833e-01, 3.27150331e-01, 2.75424304e-01, 2.96920835e-01,\n",
              "       3.89624625e-01, 4.72923682e-01, 6.04589935e-01, 6.53628896e-01,\n",
              "       5.10542612e-01, 4.28587087e-01, 3.72158693e-01, 4.16495289e-01,\n",
              "       4.09777623e-01, 3.58723361e-01, 3.56036295e-01, 3.99029357e-01,\n",
              "       7.25507922e-01, 6.65048928e-01, 7.06295397e-01, 8.27616444e-01,\n",
              "       7.73875117e-01, 2.77589501e-04, 2.64272978e-04, 2.63332505e-04,\n",
              "       2.65750865e-04, 2.66556985e-04, 2.64676038e-04, 2.66019571e-04,\n",
              "       2.60779792e-04, 2.66422631e-04, 2.62660738e-04, 2.66153925e-04,\n",
              "       2.70050171e-04, 2.68706638e-04, 2.68437931e-04, 2.69109698e-04,\n",
              "       2.67497458e-04, 2.69647111e-04, 2.68572284e-04, 2.66960045e-04,\n",
              "       2.69378404e-04, 2.67766165e-04, 2.67363105e-04, 2.64810392e-04,\n",
              "       2.65482158e-04, 2.66825691e-04, 2.66691338e-04, 2.62123325e-04,\n",
              "       2.65347805e-04, 2.67094398e-04, 2.69915818e-04, 2.67900518e-04,\n",
              "       2.69512758e-04, 2.68034871e-04, 2.68169224e-04, 2.76767837e-04,\n",
              "       2.75289950e-04, 2.74349477e-04, 3.43138376e-04, 3.74442700e-04,\n",
              "       3.14789826e-04, 2.83754209e-04, 3.01488848e-04, 2.78648783e-04,\n",
              "       2.69781464e-04, 2.70184524e-04, 3.88281092e-04, 3.99701124e-04,\n",
              "       2.56077426e-04, 2.65885218e-04, 2.62257678e-04, 2.80529730e-04,\n",
              "       3.33330584e-04, 3.24597618e-04, 4.68086963e-04, 4.71445796e-04,\n",
              "       5.84168231e-04, 5.25724537e-04, 9.40473232e-04, 9.40473231e-04,\n",
              "       1.47788651e-03, 2.68706638e-03, 4.47693473e-03, 4.48553334e-03,\n",
              "       4.53012521e-03, 4.55592104e-03, 4.55457751e-03, 4.55189044e-03,\n",
              "       4.57473051e-03, 4.95763747e-03, 6.03246402e-03, 6.04589935e-03,\n",
              "       8.26702842e-03, 8.23773939e-03, 7.70140095e-03, 7.66297590e-03,\n",
              "       7.39453796e-03, 7.39494102e-03, 7.35638162e-03, 7.78255035e-03,\n",
              "       8.08390484e-03, 8.47191723e-03, 9.32412033e-03, 9.60626230e-03,\n",
              "       6.66150626e-03, 9.59658886e-03, 9.59672321e-03, 9.27037900e-03,\n",
              "       1.11110195e-02, 1.06771926e-02, 9.61808539e-03, 9.84487379e-03,\n",
              "       1.01685309e-02, 1.38198511e-02, 1.70963255e-02, 1.85352495e-02,\n",
              "       2.12027003e-02, 2.18784975e-02, 2.15532281e-02, 2.21883163e-02,\n",
              "       2.49889112e-02, 2.90216604e-02, 3.23577877e-02, 3.77184851e-02,\n",
              "       4.86578010e-02, 9.15793871e-02, 6.02425503e-02, 7.51557687e-02,\n",
              "       7.39226739e-02, 8.42097045e-02, 8.31722282e-02, 9.79846816e-02,\n",
              "       1.04844090e-01, 1.05601709e-01, 1.03549059e-01, 1.02295139e-01,\n",
              "       1.03914768e-01, 9.72270632e-02, 9.32367696e-02, 8.42059426e-02,\n",
              "       1.04407457e-01, 1.01866686e-01, 1.08492917e-01, 1.14291816e-01,\n",
              "       1.15544929e-01, 1.15960350e-01, 1.20044690e-01, 4.44507956e-03,\n",
              "       6.39777069e-03, 6.43822448e-03, 6.37499780e-03, 6.37227043e-03,\n",
              "       6.43221888e-03, 6.38909147e-03, 6.43083504e-03, 6.26485495e-03,\n",
              "       6.39204724e-03, 6.39775726e-03, 6.37931055e-03, 6.40553631e-03,\n",
              "       6.42046297e-03, 6.39137547e-03, 6.42023457e-03, 7.44451740e-03,\n",
              "       7.51288980e-03, 7.46187585e-03, 7.48369483e-03, 7.01810684e-03,\n",
              "       7.62898451e-03, 7.71080568e-03, 7.62777533e-03, 8.85280889e-03,\n",
              "       8.91971684e-03, 8.53183881e-03, 7.95506001e-03, 1.01913710e-02,\n",
              "       1.05264482e-02, 1.38777574e-02, 1.45914422e-02, 1.70941758e-02,\n",
              "       2.09635514e-02, 1.92259599e-02, 1.76495924e-02, 1.63577853e-02,\n",
              "       1.85860351e-02, 2.01476237e-02, 1.92420823e-02, 1.98760956e-02,\n",
              "       2.28373771e-02, 2.50646865e-02, 2.39989959e-02, 2.37323046e-02,\n",
              "       2.41453067e-02, 2.99137664e-02, 3.32974548e-02, 3.42171033e-02,\n",
              "       3.74599893e-02, 4.08356164e-02, 3.92268698e-02, 3.50496908e-02,\n",
              "       3.78935475e-02, 4.12015949e-02, 4.61326304e-02, 3.79094012e-02,\n",
              "       4.26645682e-02, 4.06962921e-02, 4.08299736e-02, 3.94058284e-02,\n",
              "       4.10046329e-02, 4.04741118e-02, 4.26403287e-02, 1.23201993e-03,\n",
              "       7.62320731e-04, 7.60036725e-04, 1.64287238e-03, 2.95174242e-03,\n",
              "       4.81307330e-03, 4.81992531e-03, 5.77154987e-03, 6.59406089e-03,\n",
              "       6.79894970e-03, 6.75004509e-03, 6.74802979e-03, 6.74923897e-03,\n",
              "       6.75326957e-03, 6.75474746e-03, 6.77261645e-03, 6.78390213e-03,\n",
              "       6.75380699e-03, 6.39521798e-03, 6.12234639e-03, 5.21976079e-03,\n",
              "       5.58211169e-03, 5.15634603e-03, 5.64834788e-03, 5.80406338e-03,\n",
              "       5.22157456e-03, 5.02320189e-03, 5.82307437e-03, 7.16553273e-03,\n",
              "       8.42066144e-03, 1.08302210e-02, 1.28323542e-02, 1.29265359e-02,\n",
              "       1.17044581e-02, 1.04799619e-02, 1.10312136e-02, 1.09119079e-02,\n",
              "       1.08059031e-02, 1.09496611e-02, 1.21572288e-02, 1.29667075e-02,\n",
              "       1.20375200e-02, 1.13782482e-02, 1.18224203e-02, 1.30512157e-02,\n",
              "       1.24345340e-02, 1.35522193e-02, 1.42669789e-02, 1.55312437e-02,\n",
              "       1.36597019e-02, 1.17557810e-02, 1.10407527e-02, 1.24268759e-02,\n",
              "       1.13617228e-02, 1.03629402e-02, 1.08802005e-02, 1.05603052e-02,\n",
              "       1.12277725e-02, 1.15237529e-02, 1.13306871e-02, 1.09497955e-02,\n",
              "       1.18499627e-02, 8.83903766e-04, 8.27910518e-04, 8.25824076e-04,\n",
              "       8.47868982e-04, 8.75151895e-04, 8.70727925e-04, 7.66638053e-04,\n",
              "       7.31492998e-04, 8.55699121e-04, 9.00491414e-04, 1.00571389e-03,\n",
              "       1.08594664e-03, 1.34299599e-03, 4.45616315e-03, 5.56328443e-03,\n",
              "       7.19236182e-03, 1.02795194e-02, 1.20930080e-02, 2.63955440e-02,\n",
              "       2.93989757e-02, 2.95541837e-02, 2.94054101e-02, 2.94047017e-02,\n",
              "       2.94045674e-02, 1.31599076e-01, 1.47184061e-01, 1.51752074e-01,\n",
              "       1.69822595e-01, 1.83392280e-01, 1.77816618e-01, 1.73315781e-01,\n",
              "       1.72335002e-01, 1.58493923e-01, 1.78102118e-01, 2.00967038e-01,\n",
              "       2.02418994e-01, 2.12636967e-01, 2.08610398e-01, 2.08516351e-01,\n",
              "       2.08583528e-01, 2.76902190e-04, 2.74752537e-04, 2.75021244e-04,\n",
              "       2.74819714e-04, 2.75222774e-04, 2.75827364e-04, 2.74147947e-04,\n",
              "       2.75693010e-04, 2.75155597e-04, 2.75558657e-04, 2.54263656e-04,\n",
              "       2.77170897e-04, 2.81671733e-04, 2.81940440e-04, 2.81873263e-04,\n",
              "       3.40182603e-04, 3.23254085e-04, 2.91479525e-04, 2.86105393e-04,\n",
              "       2.76431954e-04, 2.76230424e-04, 2.77439603e-04, 2.79992317e-04,\n",
              "       2.63802742e-04, 2.63735565e-04, 2.73879241e-04, 2.71393704e-04,\n",
              "       2.70318878e-04, 2.89732932e-04, 3.37562714e-04, 3.35480237e-04,\n",
              "       4.13405162e-04, 3.89423095e-04, 4.26504611e-04, 4.79842878e-04,\n",
              "       4.79372642e-04, 4.77491695e-04, 4.77693225e-04, 4.77894755e-04,\n",
              "       4.80044408e-04, 4.80447468e-04, 4.79775702e-04, 9.56461277e-04,\n",
              "       9.60491877e-04, 9.58073517e-04, 9.35099099e-04, 9.93408440e-04,\n",
              "       8.95733577e-04, 8.97211464e-04, 9.03526069e-04, 1.16524633e-03,\n",
              "       1.16632116e-03, 1.16672422e-03, 1.10760876e-03, 1.00144096e-03,\n",
              "       1.28518576e-03, 1.44605875e-03, 1.64165834e-03, 2.66679871e-03,\n",
              "       3.43614627e-03, 2.93347858e-03, 2.59294256e-03, 3.19455308e-03,\n",
              "       3.40721543e-03, 3.44283822e-03, 3.68535547e-03, 4.10180683e-03,\n",
              "       4.56465401e-03, 4.76080985e-03, 4.90053731e-03, 6.29109416e-03,\n",
              "       6.53964780e-03, 7.87310449e-03, 8.26877501e-03, 1.01685309e-02,\n",
              "       1.62923552e-02, 1.16081268e-02, 8.92106037e-03, 7.56409185e-03,\n",
              "       8.49784742e-03, 9.36442633e-03, 9.14946102e-03, 1.25015763e-02,\n",
              "       9.91527493e-03, 8.90977470e-03, 1.09402564e-02, 1.14215772e-02,\n",
              "       1.40934616e-02, 6.60870540e-02, 6.03743509e-02, 1.74432257e-01,\n",
              "       6.71766594e-02, 7.43712797e-02, 7.41509402e-02, 1.60283509e-01,\n",
              "       2.87972904e-01, 4.69564849e-01, 4.70236616e-01, 5.64283939e-04,\n",
              "       6.98637258e-04, 6.44895931e-04, 6.38178265e-04, 5.19275577e-04,\n",
              "       5.71001605e-04, 6.33072839e-04, 7.50631993e-04, 5.74360438e-04,\n",
              "       6.18025267e-04, 5.44130941e-04, 5.62537345e-04, 6.92792887e-04,\n",
              "       8.27280560e-04, 9.76882982e-04, 1.16430586e-03, 1.01698745e-03,\n",
              "       1.12883659e-03, 1.04506729e-03, 1.20709739e-03, 1.21536012e-03,\n",
              "       1.12420140e-03, 1.16148444e-03, 1.27722983e-03, 1.40614184e-03,\n",
              "       1.33171010e-03, 1.27743136e-03, 1.34151789e-03, 1.54170433e-03,\n",
              "       1.47923004e-03, 1.68277532e-03, 1.86119653e-03, 1.97270978e-03,\n",
              "       1.79240763e-03, 1.62339115e-03, 1.61143371e-03, 1.83177315e-03,\n",
              "       1.74269690e-03, 1.64005096e-03, 1.75989412e-03, 1.76983627e-03,\n",
              "       1.93186637e-03, 2.01435931e-03, 2.08328256e-03, 2.22098893e-03,\n",
              "       2.50221206e-03, 6.68542115e-07, 6.67467288e-07, 6.66123755e-07,\n",
              "       6.66392462e-07, 9.59551403e-07, 9.59282697e-07, 9.66000363e-07,\n",
              "       9.56326924e-07, 9.56058217e-07, 9.64656830e-07, 9.58745284e-07,\n",
              "       9.56595630e-07, 9.59013990e-07, 9.59820110e-07, 9.58476577e-07,\n",
              "       9.56864337e-07, 9.60626230e-07, 9.63044590e-07, 9.54445977e-07,\n",
              "       9.57401750e-07, 9.59417050e-07, 9.59685757e-07, 8.63757487e-07,\n",
              "       1.06595923e-06, 1.01960734e-06, 1.05628579e-06, 1.04459705e-06,\n",
              "       1.07899150e-06, 1.18230921e-06, 1.24747057e-06, 1.66060702e-06,\n",
              "       2.82813736e-06, 7.56409185e-06, 1.94543606e-05, 1.03452056e-05,\n",
              "       1.27635653e-05, 2.47344460e-05, 6.16681734e-05, 1.17330753e-04,\n",
              "       4.23159213e-04, 7.53722119e-04, 9.39129699e-04, 1.31397546e-03,\n",
              "       1.72912721e-03, 1.93468779e-03, 3.25806798e-03, 3.70815160e-03,\n",
              "       5.97872269e-03, 5.01809646e-03, 5.91154603e-03, 6.18025267e-03,\n",
              "       4.48740085e-03, 5.93468167e-03, 5.14573211e-03, 6.49230169e-03,\n",
              "       6.22190220e-03, 6.43538962e-03, 6.87080186e-03, 6.91464578e-03,\n",
              "       7.41630320e-03, 8.57926553e-03, 6.46239464e-30, 5.83093404e-30,\n",
              "       6.16681734e-30, 5.50848607e-30, 5.53535674e-30, 7.96715181e-30,\n",
              "       8.19555245e-30, 5.25321477e-30, 5.42787408e-30, 5.45474475e-30,\n",
              "       5.48161541e-30, 5.37413276e-30, 5.75032205e-30, 6.83858393e-30,\n",
              "       6.66392462e-30, 9.59282697e-30, 9.64656830e-30, 9.53908564e-30,\n",
              "       9.56595630e-30, 9.60626230e-30, 9.55252097e-30, 9.61969763e-30,\n",
              "       9.01510770e-30, 8.75983639e-30, 8.14181112e-30, 7.37599721e-30,\n",
              "       8.39708243e-30, 8.31647044e-30, 8.69265973e-30, 9.06884902e-30,\n",
              "       9.05541369e-30, 8.47769442e-30, 9.71374496e-30, 9.92871027e-30,\n",
              "       1.49132184e-29, 1.94812312e-29, 2.18995910e-29, 2.25713576e-29,\n",
              "       2.14965310e-29, 2.59301905e-29, 2.98264368e-29, 3.50662162e-29,\n",
              "       6.77140727e-29, 7.21477322e-29, 9.14946102e-29, 1.12588081e-28,\n",
              "       1.25082940e-28, 1.45101584e-28, 2.45866574e-28, 4.98450813e-28,\n",
              "       4.99794346e-28, 7.38943254e-28, 7.40286787e-28, 1.06810889e-26,\n",
              "       7.52378586e-26, 1.13662908e-24, 4.03059957e-22, 2.55271306e-19,\n",
              "       2.68706638e-06, 4.76685575e-01, 5.08124252e-01, 4.86224661e-01])"
            ]
          },
          "metadata": {
            "tags": []
          },
          "execution_count": 37
        }
      ]
    },
    {
      "cell_type": "markdown",
      "metadata": {
        "id": "V8H6Gl7oWrp4",
        "colab_type": "text"
      },
      "source": [
        "### exch_usd_discretized: Inteiros de 0 à 3"
      ]
    },
    {
      "cell_type": "code",
      "metadata": {
        "id": "GsGQuuW0WytJ",
        "colab_type": "code",
        "colab": {
          "base_uri": "https://localhost:8080/",
          "height": 34
        },
        "outputId": "cc06743a-6c11-427e-c3ca-cd88b98f8252"
      },
      "source": [
        "df['exch_usd_discretized'].unique()"
      ],
      "execution_count": 38,
      "outputs": [
        {
          "output_type": "execute_result",
          "data": {
            "text/plain": [
              "array([0, 1, 2, 3])"
            ]
          },
          "metadata": {
            "tags": []
          },
          "execution_count": 38
        }
      ]
    },
    {
      "cell_type": "markdown",
      "metadata": {
        "colab_type": "text",
        "id": "kaghY4eP7jk-"
      },
      "source": [
        "### domestic_debt_default: Boolean"
      ]
    },
    {
      "cell_type": "code",
      "metadata": {
        "colab_type": "code",
        "outputId": "6bb181b9-ff11-4639-806d-14be64ea24a4",
        "id": "EhZ5sRfG7jlD",
        "colab": {
          "base_uri": "https://localhost:8080/",
          "height": 34
        }
      },
      "source": [
        "df['domestic_debt_default'].unique()"
      ],
      "execution_count": 39,
      "outputs": [
        {
          "output_type": "execute_result",
          "data": {
            "text/plain": [
              "array(['False', 'True'], dtype=object)"
            ]
          },
          "metadata": {
            "tags": []
          },
          "execution_count": 39
        }
      ]
    },
    {
      "cell_type": "markdown",
      "metadata": {
        "colab_type": "text",
        "id": "Iq0ulKp6737U"
      },
      "source": [
        "### sovereign_external_debt_default: Boolean\n"
      ]
    },
    {
      "cell_type": "code",
      "metadata": {
        "colab_type": "code",
        "outputId": "bff90322-b957-437a-e80c-e2889ad53960",
        "id": "2ybBd35b737h",
        "colab": {
          "base_uri": "https://localhost:8080/",
          "height": 34
        }
      },
      "source": [
        "df['sovereign_external_debt_default'].unique()"
      ],
      "execution_count": 40,
      "outputs": [
        {
          "output_type": "execute_result",
          "data": {
            "text/plain": [
              "array(['False', 'True'], dtype=object)"
            ]
          },
          "metadata": {
            "tags": []
          },
          "execution_count": 40
        }
      ]
    },
    {
      "cell_type": "markdown",
      "metadata": {
        "colab_type": "text",
        "id": "Rm92ah0m8YOl"
      },
      "source": [
        "### gdp_weighted_default: Reais"
      ]
    },
    {
      "cell_type": "code",
      "metadata": {
        "colab_type": "code",
        "outputId": "24c86c24-6fd3-4f6f-c036-f70bb20b9169",
        "id": "Xkko_zCe8YO0",
        "colab": {
          "base_uri": "https://localhost:8080/",
          "height": 34
        }
      },
      "source": [
        "df['gdp_weighted_default'].unique()"
      ],
      "execution_count": 41,
      "outputs": [
        {
          "output_type": "execute_result",
          "data": {
            "text/plain": [
              "array([0.   , 0.575, 1.   , 0.325, 0.9  , 0.15 ])"
            ]
          },
          "metadata": {
            "tags": []
          },
          "execution_count": 41
        }
      ]
    },
    {
      "cell_type": "markdown",
      "metadata": {
        "colab_type": "text",
        "id": "btRBP_Ms8vKO"
      },
      "source": [
        "### inflation_annual_cpi: Reais de -1 à 1"
      ]
    },
    {
      "cell_type": "code",
      "metadata": {
        "colab_type": "code",
        "outputId": "0eec79d2-9adb-4cf6-8100-792e4145bde3",
        "id": "kGbhj8Qp8vKa",
        "colab": {
          "base_uri": "https://localhost:8080/",
          "height": 51
        }
      },
      "source": [
        "df['inflation_annual_cpi'].unique()"
      ],
      "execution_count": 42,
      "outputs": [
        {
          "output_type": "execute_result",
          "data": {
            "text/plain": [
              "array([ 1.56503110e-07,  6.43444097e-07, -1.69106162e-07, ...,\n",
              "        2.23741164e-07,  1.69170148e-07,  7.42165812e-08])"
            ]
          },
          "metadata": {
            "tags": []
          },
          "execution_count": 42
        }
      ]
    },
    {
      "cell_type": "markdown",
      "metadata": {
        "colab_type": "text",
        "id": "eak-SqgTYBlv"
      },
      "source": [
        "### inflation_discretized: Inteiros de 0 à 3"
      ]
    },
    {
      "cell_type": "code",
      "metadata": {
        "colab_type": "code",
        "outputId": "5c478bd0-17b3-47e7-9dd7-13bbc8364344",
        "id": "-hov9VGaYBl3",
        "colab": {
          "base_uri": "https://localhost:8080/",
          "height": 34
        }
      },
      "source": [
        "df['inflation_discretized'].unique()"
      ],
      "execution_count": 43,
      "outputs": [
        {
          "output_type": "execute_result",
          "data": {
            "text/plain": [
              "array([0, 1, 2, 3])"
            ]
          },
          "metadata": {
            "tags": []
          },
          "execution_count": 43
        }
      ]
    },
    {
      "cell_type": "markdown",
      "metadata": {
        "colab_type": "text",
        "id": "m25Vxl7A9yTs"
      },
      "source": [
        "### independence: Boolean"
      ]
    },
    {
      "cell_type": "code",
      "metadata": {
        "colab_type": "code",
        "outputId": "a668e567-e775-42f9-8097-2fc6cb7edd71",
        "id": "xck350tE9yTv",
        "colab": {
          "base_uri": "https://localhost:8080/",
          "height": 34
        }
      },
      "source": [
        "df['independence'].unique()"
      ],
      "execution_count": 44,
      "outputs": [
        {
          "output_type": "execute_result",
          "data": {
            "text/plain": [
              "array(['False', 'True'], dtype=object)"
            ]
          },
          "metadata": {
            "tags": []
          },
          "execution_count": 44
        }
      ]
    },
    {
      "cell_type": "markdown",
      "metadata": {
        "colab_type": "text",
        "id": "wpXoBHzlt7Li"
      },
      "source": [
        "### inflation_crisis: Boolean"
      ]
    },
    {
      "cell_type": "code",
      "metadata": {
        "colab_type": "code",
        "outputId": "2f01565f-4be0-4082-a356-c5ffca27161d",
        "id": "LG_rWtqXt7Lk",
        "colab": {
          "base_uri": "https://localhost:8080/",
          "height": 34
        }
      },
      "source": [
        "df['inflation_crisis'].unique()"
      ],
      "execution_count": 46,
      "outputs": [
        {
          "output_type": "execute_result",
          "data": {
            "text/plain": [
              "array(['False', 'True'], dtype=object)"
            ]
          },
          "metadata": {
            "tags": []
          },
          "execution_count": 46
        }
      ]
    },
    {
      "cell_type": "markdown",
      "metadata": {
        "colab_type": "text",
        "id": "Tg-LRFAutvkk"
      },
      "source": [
        "### banking_crisis: Boolean"
      ]
    },
    {
      "cell_type": "code",
      "metadata": {
        "colab_type": "code",
        "outputId": "8b467df8-b1a3-47c7-bf65-767e20fb65e6",
        "id": "iYw48LTXtvk3",
        "colab": {
          "base_uri": "https://localhost:8080/",
          "height": 34
        }
      },
      "source": [
        "df['banking_crisis'].unique()"
      ],
      "execution_count": 47,
      "outputs": [
        {
          "output_type": "execute_result",
          "data": {
            "text/plain": [
              "array(['True', 'False'], dtype=object)"
            ]
          },
          "metadata": {
            "tags": []
          },
          "execution_count": 47
        }
      ]
    },
    {
      "cell_type": "markdown",
      "metadata": {
        "colab_type": "text",
        "id": "TFNAqb9WuVK_"
      },
      "source": [
        "### systemic_crisis: Boolean"
      ]
    },
    {
      "cell_type": "code",
      "metadata": {
        "colab_type": "code",
        "outputId": "7d29bb03-b8ed-4ef9-d6d0-be908470b357",
        "id": "9-RebldSuVLJ",
        "colab": {
          "base_uri": "https://localhost:8080/",
          "height": 34
        }
      },
      "source": [
        "df['systemic_crisis'].unique()"
      ],
      "execution_count": 48,
      "outputs": [
        {
          "output_type": "execute_result",
          "data": {
            "text/plain": [
              "array(['True', 'False'], dtype=object)"
            ]
          },
          "metadata": {
            "tags": []
          },
          "execution_count": 48
        }
      ]
    },
    {
      "cell_type": "markdown",
      "metadata": {
        "colab_type": "text",
        "id": "LTGBBpGy9Ywu"
      },
      "source": [
        "### currency_crisis: Boolean"
      ]
    },
    {
      "cell_type": "code",
      "metadata": {
        "colab_type": "code",
        "outputId": "a2b5925c-0507-4f86-eb7e-9a17985516d1",
        "id": "0mfgFsV79Yw8",
        "colab": {
          "base_uri": "https://localhost:8080/",
          "height": 34
        }
      },
      "source": [
        "df['currency_crisis'].unique()"
      ],
      "execution_count": 49,
      "outputs": [
        {
          "output_type": "execute_result",
          "data": {
            "text/plain": [
              "array(['False', 'True'], dtype=object)"
            ]
          },
          "metadata": {
            "tags": []
          },
          "execution_count": 49
        }
      ]
    },
    {
      "cell_type": "markdown",
      "metadata": {
        "id": "QNgAt-mq0365",
        "colab_type": "text"
      },
      "source": [
        "## Baixando o novo dataset, que será usado nas próximas etapas"
      ]
    },
    {
      "cell_type": "code",
      "metadata": {
        "id": "8AXEZURGySQK",
        "colab_type": "code",
        "colab": {}
      },
      "source": [
        "from google.colab import files\n",
        "\n",
        "data = pd.DataFrame(df)\n",
        "data.to_csv('processed_african_crises.csv')\n",
        "#files.download('processed_african_crises.csv')"
      ],
      "execution_count": 0,
      "outputs": []
    },
    {
      "cell_type": "markdown",
      "metadata": {
        "id": "9GSYRvDD3WeA",
        "colab_type": "text"
      },
      "source": [
        "---\n",
        "# Gerando gráficos sobre os dados"
      ]
    },
    {
      "cell_type": "code",
      "metadata": {
        "id": "B2A63Afg3Zgv",
        "colab_type": "code",
        "colab": {}
      },
      "source": [
        "import seaborn as sns"
      ],
      "execution_count": 0,
      "outputs": []
    },
    {
      "cell_type": "code",
      "metadata": {
        "id": "PMIVPqNqetjU",
        "colab_type": "code",
        "colab": {
          "base_uri": "https://localhost:8080/",
          "height": 386
        },
        "outputId": "5dec2921-10cc-4352-dee7-5682f1177c82"
      },
      "source": [
        "sns.relplot(x=\"inflation_annual_cpi\", y=\"exch_usd\",hue=\"inflation_crisis\",data=df)"
      ],
      "execution_count": 63,
      "outputs": [
        {
          "output_type": "execute_result",
          "data": {
            "text/plain": [
              "<seaborn.axisgrid.FacetGrid at 0x7fda017ad710>"
            ]
          },
          "metadata": {
            "tags": []
          },
          "execution_count": 63
        },
        {
          "output_type": "display_data",
          "data": {
            "image/png": "[encoded data removed]",
            "text/plain": [
              "<Figure size 467.875x360 with 1 Axes>"
            ]
          },
          "metadata": {
            "tags": []
          }
        }
      ]
    },
    {
      "cell_type": "code",
      "metadata": {
        "id": "wrsjvD-oc_NK",
        "colab_type": "code",
        "colab": {
          "base_uri": "https://localhost:8080/",
          "height": 386
        },
        "outputId": "508f9ef3-39c3-4dad-eaa7-d28e1e550eae"
      },
      "source": [
        "sns.catplot(x=\"inflation_discretized\", y=\"inflation_crisis\",kind='swarm', data=df)"
      ],
      "execution_count": 56,
      "outputs": [
        {
          "output_type": "execute_result",
          "data": {
            "text/plain": [
              "<seaborn.axisgrid.FacetGrid at 0x7fda033e0c88>"
            ]
          },
          "metadata": {
            "tags": []
          },
          "execution_count": 56
        },
        {
          "output_type": "display_data",
          "data": {
            "image/png": "[encoded data removed]",
            "text/plain": [
              "<Figure size 360x360 with 1 Axes>"
            ]
          },
          "metadata": {
            "tags": []
          }
        }
      ]
    },
    {
      "cell_type": "code",
      "metadata": {
        "id": "7dI_8o_MfGj7",
        "colab_type": "code",
        "colab": {
          "base_uri": "https://localhost:8080/",
          "height": 386
        },
        "outputId": "4a492762-91ae-4ae5-b587-39091c9965e3"
      },
      "source": [
        "sns.catplot(x=\"year\", y=\"banking_crisis\",kind='swarm', data=df)"
      ],
      "execution_count": 78,
      "outputs": [
        {
          "output_type": "execute_result",
          "data": {
            "text/plain": [
              "<seaborn.axisgrid.FacetGrid at 0x7fda00533cc0>"
            ]
          },
          "metadata": {
            "tags": []
          },
          "execution_count": 78
        },
        {
          "output_type": "display_data",
          "data": {
            "image/png": "[encoded data removed]",
            "text/plain": [
              "<Figure size 360x360 with 1 Axes>"
            ]
          },
          "metadata": {
            "tags": []
          }
        }
      ]
    },
    {
      "cell_type": "code",
      "metadata": {
        "id": "NfBhvO58gj9E",
        "colab_type": "code",
        "colab": {
          "base_uri": "https://localhost:8080/",
          "height": 386
        },
        "outputId": "34fbce2d-105a-4b6b-9036-d1a87af40499"
      },
      "source": [
        "sns.catplot(x=\"domestic_debt_default\", y=\"exch_usd_discretized\",kind='bar', data=df)"
      ],
      "execution_count": 82,
      "outputs": [
        {
          "output_type": "execute_result",
          "data": {
            "text/plain": [
              "<seaborn.axisgrid.FacetGrid at 0x7fda00483be0>"
            ]
          },
          "metadata": {
            "tags": []
          },
          "execution_count": 82
        },
        {
          "output_type": "display_data",
          "data": {
            "image/png": "[encoded data removed]",
            "text/plain": [
              "<Figure size 360x360 with 1 Axes>"
            ]
          },
          "metadata": {
            "tags": []
          }
        }
      ]
    },
    {
      "cell_type": "code",
      "metadata": {
        "id": "fYHopMEJhqTZ",
        "colab_type": "code",
        "colab": {
          "base_uri": "https://localhost:8080/",
          "height": 1000
        },
        "outputId": "5becc1ad-60f3-48ab-8ec0-96e1e9c5681b"
      },
      "source": [
        "sns.pairplot(df,hue=\"currency_crisis\")"
      ],
      "execution_count": 86,
      "outputs": [
        {
          "output_type": "execute_result",
          "data": {
            "text/plain": [
              "<seaborn.axisgrid.PairGrid at 0x7fd9fdbc5390>"
            ]
          },
          "metadata": {
            "tags": []
          },
          "execution_count": 86
        },
        {
          "output_type": "display_data",
          "data": {
            "image/png": "[encoded data removed]",
            "text/plain": [
              "<Figure size 1162.88x1080 with 42 Axes>"
            ]
          },
          "metadata": {
            "tags": []
          }
        }
      ]
    },
    {
      "cell_type": "code",
      "metadata": {
        "id": "4WYlmSxGij66",
        "colab_type": "code",
        "colab": {}
      },
      "source": [
        ""
      ],
      "execution_count": 0,
      "outputs": []
    }
  ]
}