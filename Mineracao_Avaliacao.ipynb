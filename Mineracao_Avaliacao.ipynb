{
  "nbformat": 4,
  "nbformat_minor": 0,
  "metadata": {
    "colab": {
      "name": "Mineracao_Avaliacao.ipynb",
      "provenance": [],
      "collapsed_sections": [],
      "include_colab_link": true
    },
    "kernelspec": {
      "name": "python3",
      "display_name": "Python 3"
    }
  },
  "cells": [
    {
      "cell_type": "markdown",
      "metadata": {
        "id": "view-in-github",
        "colab_type": "text"
      },
      "source": [
        "<a href=\"https://colab.research.google.com/github/OsmarHofman/African-Crisis-Data-Mining/blob/master/Mineracao_Avaliacao.ipynb\" target=\"_parent\"><img src=\"https://colab.research.google.com/assets/colab-badge.svg\" alt=\"Open In Colab\"/></a>"
      ]
    },
    {
      "cell_type": "code",
      "metadata": {
        "id": "kKs465hf1xci",
        "colab_type": "code",
        "outputId": "d22c0f95-af67-4834-d034-97c74a7a15fa",
        "colab": {
          "base_uri": "https://localhost:8080/",
          "height": 224
        }
      },
      "source": [
        "import pandas as pd \n",
        "url = 'https://raw.githubusercontent.com/OsmarHofman/African-Crisis-Data-Mining/master/processed_african_crises.csv'\n",
        "df = pd.read_csv(url,header=0, sep=',')\n",
        "df.head()"
      ],
      "execution_count": 111,
      "outputs": [
        {
          "output_type": "execute_result",
          "data": {
            "text/html": [
              "<div>\n",
              "<style scoped>\n",
              "    .dataframe tbody tr th:only-of-type {\n",
              "        vertical-align: middle;\n",
              "    }\n",
              "\n",
              "    .dataframe tbody tr th {\n",
              "        vertical-align: top;\n",
              "    }\n",
              "\n",
              "    .dataframe thead th {\n",
              "        text-align: right;\n",
              "    }\n",
              "</style>\n",
              "<table border=\"1\" class=\"dataframe\">\n",
              "  <thead>\n",
              "    <tr style=\"text-align: right;\">\n",
              "      <th></th>\n",
              "      <th>country</th>\n",
              "      <th>year</th>\n",
              "      <th>exch_usd</th>\n",
              "      <th>exch_usd_discretized</th>\n",
              "      <th>domestic_debt_default</th>\n",
              "      <th>sovereign_external_debt_default</th>\n",
              "      <th>gdp_weighted_default</th>\n",
              "      <th>inflation_annual_cpi</th>\n",
              "      <th>inflation_discretized</th>\n",
              "      <th>independence</th>\n",
              "      <th>systemic_crisis</th>\n",
              "      <th>inflation_crisis</th>\n",
              "      <th>banking_crisis</th>\n",
              "      <th>exch_usd_discretized_zero</th>\n",
              "      <th>exch_usd_discretized_one</th>\n",
              "      <th>exch_usd_discretized_two</th>\n",
              "      <th>exch_usd_discretized_three</th>\n",
              "      <th>inflation_discretized_zero</th>\n",
              "      <th>inflation_discretized_one</th>\n",
              "      <th>inflation_discretized_two</th>\n",
              "      <th>inflation_discretized_three</th>\n",
              "      <th>currency_crisis</th>\n",
              "    </tr>\n",
              "  </thead>\n",
              "  <tbody>\n",
              "    <tr>\n",
              "      <th>0</th>\n",
              "      <td>Algeria</td>\n",
              "      <td>1870</td>\n",
              "      <td>0.000070</td>\n",
              "      <td>0</td>\n",
              "      <td>False</td>\n",
              "      <td>False</td>\n",
              "      <td>0.0</td>\n",
              "      <td>1.565031e-07</td>\n",
              "      <td>0</td>\n",
              "      <td>False</td>\n",
              "      <td>True</td>\n",
              "      <td>False</td>\n",
              "      <td>True</td>\n",
              "      <td>True</td>\n",
              "      <td>False</td>\n",
              "      <td>False</td>\n",
              "      <td>False</td>\n",
              "      <td>True</td>\n",
              "      <td>False</td>\n",
              "      <td>False</td>\n",
              "      <td>False</td>\n",
              "      <td>no_crisis</td>\n",
              "    </tr>\n",
              "    <tr>\n",
              "      <th>1</th>\n",
              "      <td>Algeria</td>\n",
              "      <td>1871</td>\n",
              "      <td>0.000071</td>\n",
              "      <td>0</td>\n",
              "      <td>False</td>\n",
              "      <td>False</td>\n",
              "      <td>0.0</td>\n",
              "      <td>6.434441e-07</td>\n",
              "      <td>0</td>\n",
              "      <td>False</td>\n",
              "      <td>False</td>\n",
              "      <td>False</td>\n",
              "      <td>False</td>\n",
              "      <td>True</td>\n",
              "      <td>False</td>\n",
              "      <td>False</td>\n",
              "      <td>False</td>\n",
              "      <td>True</td>\n",
              "      <td>False</td>\n",
              "      <td>False</td>\n",
              "      <td>False</td>\n",
              "      <td>no_crisis</td>\n",
              "    </tr>\n",
              "    <tr>\n",
              "      <th>2</th>\n",
              "      <td>Algeria</td>\n",
              "      <td>1872</td>\n",
              "      <td>0.000070</td>\n",
              "      <td>0</td>\n",
              "      <td>False</td>\n",
              "      <td>False</td>\n",
              "      <td>0.0</td>\n",
              "      <td>-1.691062e-07</td>\n",
              "      <td>0</td>\n",
              "      <td>False</td>\n",
              "      <td>False</td>\n",
              "      <td>False</td>\n",
              "      <td>False</td>\n",
              "      <td>True</td>\n",
              "      <td>False</td>\n",
              "      <td>False</td>\n",
              "      <td>False</td>\n",
              "      <td>True</td>\n",
              "      <td>False</td>\n",
              "      <td>False</td>\n",
              "      <td>False</td>\n",
              "      <td>no_crisis</td>\n",
              "    </tr>\n",
              "    <tr>\n",
              "      <th>3</th>\n",
              "      <td>Algeria</td>\n",
              "      <td>1873</td>\n",
              "      <td>0.000069</td>\n",
              "      <td>0</td>\n",
              "      <td>False</td>\n",
              "      <td>False</td>\n",
              "      <td>0.0</td>\n",
              "      <td>5.095067e-07</td>\n",
              "      <td>0</td>\n",
              "      <td>False</td>\n",
              "      <td>False</td>\n",
              "      <td>False</td>\n",
              "      <td>False</td>\n",
              "      <td>True</td>\n",
              "      <td>False</td>\n",
              "      <td>False</td>\n",
              "      <td>False</td>\n",
              "      <td>True</td>\n",
              "      <td>False</td>\n",
              "      <td>False</td>\n",
              "      <td>False</td>\n",
              "      <td>no_crisis</td>\n",
              "    </tr>\n",
              "    <tr>\n",
              "      <th>4</th>\n",
              "      <td>Algeria</td>\n",
              "      <td>1874</td>\n",
              "      <td>0.000069</td>\n",
              "      <td>0</td>\n",
              "      <td>False</td>\n",
              "      <td>False</td>\n",
              "      <td>0.0</td>\n",
              "      <td>-1.750166e-07</td>\n",
              "      <td>0</td>\n",
              "      <td>False</td>\n",
              "      <td>False</td>\n",
              "      <td>False</td>\n",
              "      <td>False</td>\n",
              "      <td>True</td>\n",
              "      <td>False</td>\n",
              "      <td>False</td>\n",
              "      <td>False</td>\n",
              "      <td>True</td>\n",
              "      <td>False</td>\n",
              "      <td>False</td>\n",
              "      <td>False</td>\n",
              "      <td>no_crisis</td>\n",
              "    </tr>\n",
              "  </tbody>\n",
              "</table>\n",
              "</div>"
            ],
            "text/plain": [
              "   country  year  ...  inflation_discretized_three  currency_crisis\n",
              "0  Algeria  1870  ...                        False        no_crisis\n",
              "1  Algeria  1871  ...                        False        no_crisis\n",
              "2  Algeria  1872  ...                        False        no_crisis\n",
              "3  Algeria  1873  ...                        False        no_crisis\n",
              "4  Algeria  1874  ...                        False        no_crisis\n",
              "\n",
              "[5 rows x 22 columns]"
            ]
          },
          "metadata": {
            "tags": []
          },
          "execution_count": 111
        }
      ]
    },
    {
      "cell_type": "markdown",
      "metadata": {
        "id": "iR5hoiRfn4FV",
        "colab_type": "text"
      },
      "source": [
        "# Mineração de Dados: Aplicação dos Modelos"
      ]
    },
    {
      "cell_type": "markdown",
      "metadata": {
        "id": "Gw6g2wwqp4Nk",
        "colab_type": "text"
      },
      "source": [
        "## ***Modelo 1: Árvore de Decisão***"
      ]
    },
    {
      "cell_type": "markdown",
      "metadata": {
        "id": "zCauMdIBJI7B",
        "colab_type": "text"
      },
      "source": [
        "### **1ª Configuração**: Utilizando entropia como critério do classificador  "
      ]
    },
    {
      "cell_type": "code",
      "metadata": {
        "id": "SmD6HyDKn_By",
        "colab_type": "code",
        "outputId": "3334777d-f341-48ce-9639-dd5546d012fa",
        "colab": {
          "base_uri": "https://localhost:8080/",
          "height": 119
        }
      },
      "source": [
        "import seaborn as sns\n",
        "from sklearn.tree import DecisionTreeClassifier\n",
        "from mlxtend.plotting import plot_decision_regions \n",
        "target = 'currency_crisis'\n",
        "X = df.drop([target], axis=1)\n",
        "X = pd.get_dummies(X)\n",
        "y = df[target]\n",
        "\n",
        "model_tree1 = DecisionTreeClassifier(criterion = 'entropy')\n",
        "model_tree1.fit(X,y)"
      ],
      "execution_count": 2,
      "outputs": [
        {
          "output_type": "execute_result",
          "data": {
            "text/plain": [
              "DecisionTreeClassifier(class_weight=None, criterion='entropy', max_depth=None,\n",
              "                       max_features=None, max_leaf_nodes=None,\n",
              "                       min_impurity_decrease=0.0, min_impurity_split=None,\n",
              "                       min_samples_leaf=1, min_samples_split=2,\n",
              "                       min_weight_fraction_leaf=0.0, presort=False,\n",
              "                       random_state=None, splitter='best')"
            ]
          },
          "metadata": {
            "tags": []
          },
          "execution_count": 2
        }
      ]
    },
    {
      "cell_type": "code",
      "metadata": {
        "id": "NvSZTla3ssaB",
        "colab_type": "code",
        "outputId": "cf3c6a69-1770-46fc-b00a-746d0090da60",
        "colab": {
          "base_uri": "https://localhost:8080/",
          "height": 575
        }
      },
      "source": [
        "import matplotlib.pyplot as plt\n",
        "from sklearn.tree import plot_tree\n",
        "\n",
        "#Visualização dos Nodos\n",
        "#plt.figure(figsize=(122,22))\n",
        "\n",
        "#Visualização geral\n",
        "plt.figure(figsize=(12,10))\n",
        "\n",
        "plot_tree(model_tree1, filled=True, class_names = y.unique(), feature_names=X.columns)\n",
        "plt.show()"
      ],
      "execution_count": 3,
      "outputs": [
        {
          "output_type": "display_data",
          "data": {
            "image/png": "[encoded data removed]",
            "text/plain": [
              "<Figure size 864x720 with 1 Axes>"
            ]
          },
          "metadata": {
            "tags": []
          }
        }
      ]
    },
    {
      "cell_type": "markdown",
      "metadata": {
        "id": "Nzj3Bmd0NP0h",
        "colab_type": "text"
      },
      "source": [
        "### **2ª Configuração**: Utilizando um número mínimo de instâncias para um nó folha"
      ]
    },
    {
      "cell_type": "code",
      "metadata": {
        "id": "qbXn7_WlNPDg",
        "colab_type": "code",
        "outputId": "7044e6f0-598d-40af-dcec-06222f8739ec",
        "colab": {
          "base_uri": "https://localhost:8080/",
          "height": 575
        }
      },
      "source": [
        "model_tree2 = DecisionTreeClassifier(criterion = 'entropy',min_samples_leaf=2)\n",
        "model_tree2.fit(X,y)\n",
        "\n",
        "#Visualização dos Nodos\n",
        "#plt.figure(figsize=(122,22))\n",
        "\n",
        "#Visualização geral\n",
        "plt.figure(figsize=(12,10))\n",
        "\n",
        "plot_tree(model_tree2, filled=True, class_names = y.unique(), feature_names=X.columns)\n",
        "plt.show()"
      ],
      "execution_count": 4,
      "outputs": [
        {
          "output_type": "display_data",
          "data": {
            "image/png": "[encoded data removed]",
            "text/plain": [
              "<Figure size 864x720 with 1 Axes>"
            ]
          },
          "metadata": {
            "tags": []
          }
        }
      ]
    },
    {
      "cell_type": "markdown",
      "metadata": {
        "id": "diwHe1QrTZf3",
        "colab_type": "text"
      },
      "source": [
        "### **3ª Configuração**: Mudando os pesos das classes"
      ]
    },
    {
      "cell_type": "code",
      "metadata": {
        "id": "qoRkrJu_WuJz",
        "colab_type": "code",
        "outputId": "18591bff-0d9d-44d5-cb5f-1b8e7ce09afe",
        "colab": {
          "base_uri": "https://localhost:8080/",
          "height": 575
        }
      },
      "source": [
        "model_tree3 = DecisionTreeClassifier(criterion = 'entropy',class_weight={'crisis':0.6, 'no_crisis': 0.4})\n",
        "model_tree3.fit(X,y)\n",
        "\n",
        "#Visualização dos Nodos\n",
        "#plt.figure(figsize=(122,22))\n",
        "\n",
        "#Visualização geral\n",
        "plt.figure(figsize=(12,10))\n",
        "\n",
        "plot_tree(model_tree3, filled=True, class_names = y.unique(), feature_names=X.columns)\n",
        "plt.show()"
      ],
      "execution_count": 5,
      "outputs": [
        {
          "output_type": "display_data",
          "data": {
            "image/png": "[encoded data removed]",
            "text/plain": [
              "<Figure size 864x720 with 1 Axes>"
            ]
          },
          "metadata": {
            "tags": []
          }
        }
      ]
    },
    {
      "cell_type": "markdown",
      "metadata": {
        "id": "fcgDva8iYXQl",
        "colab_type": "text"
      },
      "source": [
        "### **4ª Configuração**: Pré-ordenando os dados"
      ]
    },
    {
      "cell_type": "code",
      "metadata": {
        "id": "li_09Zf7YbVb",
        "colab_type": "code",
        "outputId": "5c12255d-5672-4b11-8a52-e9a21a13cf65",
        "colab": {
          "base_uri": "https://localhost:8080/",
          "height": 575
        }
      },
      "source": [
        "model_tree4 = DecisionTreeClassifier(criterion = 'entropy',presort=True)\n",
        "model_tree4.fit(X,y)\n",
        "\n",
        "#Visualização dos Nodos\n",
        "#plt.figure(figsize=(122,22))\n",
        "\n",
        "#Visualização geral\n",
        "plt.figure(figsize=(12,10))\n",
        "\n",
        "plot_tree(model_tree4, filled=True, class_names = y.unique(), feature_names=X.columns)\n",
        "plt.show()"
      ],
      "execution_count": 6,
      "outputs": [
        {
          "output_type": "display_data",
          "data": {
            "image/png": "[encoded data removed]",
            "text/plain": [
              "<Figure size 864x720 with 1 Axes>"
            ]
          },
          "metadata": {
            "tags": []
          }
        }
      ]
    },
    {
      "cell_type": "markdown",
      "metadata": {
        "id": "e-YH6A7_Yps5",
        "colab_type": "text"
      },
      "source": [
        "### **5ª Configuração**: Pré-ordenando os dados, número mínimo de instâncias para nó folha, e ponderando as classes"
      ]
    },
    {
      "cell_type": "code",
      "metadata": {
        "id": "gynV9jsBYihd",
        "colab_type": "code",
        "outputId": "31835abb-ed49-418e-a2b7-5cfba111a992",
        "colab": {
          "base_uri": "https://localhost:8080/",
          "height": 575
        }
      },
      "source": [
        "model_tree5 = DecisionTreeClassifier(criterion = 'entropy',presort=True,min_samples_leaf=3,class_weight={'crisis':0.44, 'no_crisis': 0.56})\n",
        "model_tree5.fit(X,y)\n",
        "\n",
        "#Visualização dos Nodos\n",
        "#plt.figure(figsize=(122,22))\n",
        "\n",
        "#Visualização geral\n",
        "plt.figure(figsize=(12,10))\n",
        "\n",
        "plot_tree(model_tree5, filled=True, class_names = y.unique(), feature_names=X.columns)\n",
        "plt.show()\n"
      ],
      "execution_count": 7,
      "outputs": [
        {
          "output_type": "display_data",
          "data": {
            "image/png": "[encoded data removed]",
            "text/plain": [
              "<Figure size 864x720 with 1 Axes>"
            ]
          },
          "metadata": {
            "tags": []
          }
        }
      ]
    },
    {
      "cell_type": "markdown",
      "metadata": {
        "id": "O7oH-YkSZFc7",
        "colab_type": "text"
      },
      "source": [
        "---\n",
        "## ***Modelo 2: KNN***"
      ]
    },
    {
      "cell_type": "markdown",
      "metadata": {
        "id": "W9_ol_ew3tuR",
        "colab_type": "text"
      },
      "source": [
        "### **1ª Configuração**: Com k=5 com distância Minkowski"
      ]
    },
    {
      "cell_type": "code",
      "metadata": {
        "colab_type": "code",
        "outputId": "a5e2f2bc-3480-4065-9611-1feb93b8a4dd",
        "id": "BkXNmLI4XM38",
        "colab": {
          "base_uri": "https://localhost:8080/",
          "height": 68
        }
      },
      "source": [
        "from sklearn.neighbors import KNeighborsClassifier\n",
        "model_knn1 = KNeighborsClassifier(n_neighbors=5, p=3)\n",
        "model_knn1.fit(X,y)"
      ],
      "execution_count": 8,
      "outputs": [
        {
          "output_type": "execute_result",
          "data": {
            "text/plain": [
              "KNeighborsClassifier(algorithm='auto', leaf_size=30, metric='minkowski',\n",
              "                     metric_params=None, n_jobs=None, n_neighbors=5, p=3,\n",
              "                     weights='uniform')"
            ]
          },
          "metadata": {
            "tags": []
          },
          "execution_count": 8
        }
      ]
    },
    {
      "cell_type": "markdown",
      "metadata": {
        "id": "9CtFk8ogu3tY",
        "colab_type": "text"
      },
      "source": [
        "### **2ª Configuração**: Com k=3 e ponderando as instâncias mais próximas"
      ]
    },
    {
      "cell_type": "code",
      "metadata": {
        "id": "g-AFvwJC4Pv5",
        "colab_type": "code",
        "outputId": "0b7f150c-cfdc-45f1-8039-e125349d5a31",
        "colab": {
          "base_uri": "https://localhost:8080/",
          "height": 68
        }
      },
      "source": [
        "model_knn2 = KNeighborsClassifier(n_neighbors=3,weights='distance')\n",
        "model_knn2.fit(X,y)"
      ],
      "execution_count": 9,
      "outputs": [
        {
          "output_type": "execute_result",
          "data": {
            "text/plain": [
              "KNeighborsClassifier(algorithm='auto', leaf_size=30, metric='minkowski',\n",
              "                     metric_params=None, n_jobs=None, n_neighbors=3, p=2,\n",
              "                     weights='distance')"
            ]
          },
          "metadata": {
            "tags": []
          },
          "execution_count": 9
        }
      ]
    },
    {
      "cell_type": "markdown",
      "metadata": {
        "colab_type": "text",
        "id": "lCVKVglrfIhq"
      },
      "source": [
        "### **3ª Configuração**: Com k=8 e calculando a distância por Manhattan"
      ]
    },
    {
      "cell_type": "code",
      "metadata": {
        "colab_type": "code",
        "outputId": "96c2f53c-2753-40f3-d8a2-09adbe569d44",
        "id": "KLeQgxZvfIhu",
        "colab": {
          "base_uri": "https://localhost:8080/",
          "height": 68
        }
      },
      "source": [
        "model_knn3 = KNeighborsClassifier(n_neighbors=5,p=1)\n",
        "model_knn3.fit(X,y) "
      ],
      "execution_count": 10,
      "outputs": [
        {
          "output_type": "execute_result",
          "data": {
            "text/plain": [
              "KNeighborsClassifier(algorithm='auto', leaf_size=30, metric='minkowski',\n",
              "                     metric_params=None, n_jobs=None, n_neighbors=5, p=1,\n",
              "                     weights='uniform')"
            ]
          },
          "metadata": {
            "tags": []
          },
          "execution_count": 10
        }
      ]
    },
    {
      "cell_type": "markdown",
      "metadata": {
        "colab_type": "text",
        "id": "MWr5Mjt2gRJb"
      },
      "source": [
        "### **4ª Configuração**: Com k=10, ponderando a distância e usando todos o processadores próximos para realizar os cálculos"
      ]
    },
    {
      "cell_type": "code",
      "metadata": {
        "colab_type": "code",
        "outputId": "aa6cee0f-af86-45a7-c98d-0fce849e5cf1",
        "id": "KfdQajoagRJc",
        "colab": {
          "base_uri": "https://localhost:8080/",
          "height": 68
        }
      },
      "source": [
        "model_knn4 = KNeighborsClassifier(n_neighbors=10,weights='distance',n_jobs=-1)\n",
        "model_knn4.fit(X,y)"
      ],
      "execution_count": 11,
      "outputs": [
        {
          "output_type": "execute_result",
          "data": {
            "text/plain": [
              "KNeighborsClassifier(algorithm='auto', leaf_size=30, metric='minkowski',\n",
              "                     metric_params=None, n_jobs=-1, n_neighbors=10, p=2,\n",
              "                     weights='distance')"
            ]
          },
          "metadata": {
            "tags": []
          },
          "execution_count": 11
        }
      ]
    },
    {
      "cell_type": "markdown",
      "metadata": {
        "colab_type": "text",
        "id": "_GbJ4NM4hM57"
      },
      "source": [
        "### **5ª Configuração**: Com k=15, ponderando a distância e utilizando distância manhattan"
      ]
    },
    {
      "cell_type": "code",
      "metadata": {
        "colab_type": "code",
        "outputId": "520408c6-f389-4b20-debe-80af78747eba",
        "id": "bqnnSVg1hM59",
        "colab": {
          "base_uri": "https://localhost:8080/",
          "height": 68
        }
      },
      "source": [
        "model_knn5 = KNeighborsClassifier(n_neighbors=15,weights='distance',p=1,n_jobs=-1)\n",
        "model_knn5.fit(X,y)"
      ],
      "execution_count": 12,
      "outputs": [
        {
          "output_type": "execute_result",
          "data": {
            "text/plain": [
              "KNeighborsClassifier(algorithm='auto', leaf_size=30, metric='minkowski',\n",
              "                     metric_params=None, n_jobs=-1, n_neighbors=15, p=1,\n",
              "                     weights='distance')"
            ]
          },
          "metadata": {
            "tags": []
          },
          "execution_count": 12
        }
      ]
    },
    {
      "cell_type": "markdown",
      "metadata": {
        "id": "1YFRbynV4yWh",
        "colab_type": "text"
      },
      "source": [
        "---\n",
        "## ***Modelo 3: SVM***"
      ]
    },
    {
      "cell_type": "markdown",
      "metadata": {
        "id": "kSaUaHvgjc9c",
        "colab_type": "text"
      },
      "source": [
        "### **1ª Configuração**: Usando kernel rbf e C=10"
      ]
    },
    {
      "cell_type": "code",
      "metadata": {
        "id": "dNUv2ZKJjk72",
        "colab_type": "code",
        "outputId": "2d8761ef-86af-4dea-d7c3-08dd07fcd638",
        "colab": {
          "base_uri": "https://localhost:8080/",
          "height": 85
        }
      },
      "source": [
        "from sklearn.svm import SVC\n",
        "model_svm1 = SVC(C=10,kernel='rbf',gamma='scale')\n",
        "model_svm1.fit(X,y)"
      ],
      "execution_count": 13,
      "outputs": [
        {
          "output_type": "execute_result",
          "data": {
            "text/plain": [
              "SVC(C=10, cache_size=200, class_weight=None, coef0=0.0,\n",
              "    decision_function_shape='ovr', degree=3, gamma='scale', kernel='rbf',\n",
              "    max_iter=-1, probability=False, random_state=None, shrinking=True,\n",
              "    tol=0.001, verbose=False)"
            ]
          },
          "metadata": {
            "tags": []
          },
          "execution_count": 13
        }
      ]
    },
    {
      "cell_type": "markdown",
      "metadata": {
        "colab_type": "text",
        "id": "NUyyoJXOjxVO"
      },
      "source": [
        "### **2ª Configuração**: Atribuindo C=3, kernel polinomial e gamma scale"
      ]
    },
    {
      "cell_type": "code",
      "metadata": {
        "colab_type": "code",
        "id": "hcApPWbcjxVS",
        "colab": {
          "base_uri": "https://localhost:8080/",
          "height": 85
        },
        "outputId": "d9ccd8a6-8e1c-44ab-ed44-5354aaa79bc1"
      },
      "source": [
        "model_svm2 = SVC(C=3,kernel='poly',gamma='scale')\n",
        "model_svm2.fit(X,y)"
      ],
      "execution_count": 87,
      "outputs": [
        {
          "output_type": "execute_result",
          "data": {
            "text/plain": [
              "SVC(C=3, cache_size=200, class_weight=None, coef0=0.0,\n",
              "    decision_function_shape='ovr', degree=3, gamma='scale', kernel='poly',\n",
              "    max_iter=-1, probability=False, random_state=None, shrinking=True,\n",
              "    tol=0.001, verbose=False)"
            ]
          },
          "metadata": {
            "tags": []
          },
          "execution_count": 87
        }
      ]
    },
    {
      "cell_type": "markdown",
      "metadata": {
        "colab_type": "text",
        "id": "4BbWNfeNmHWD"
      },
      "source": [
        "### **3ª Configuração**: Usando kernel linear"
      ]
    },
    {
      "cell_type": "code",
      "metadata": {
        "colab_type": "code",
        "id": "DYTQZb7LmHWE",
        "colab": {
          "base_uri": "https://localhost:8080/",
          "height": 85
        },
        "outputId": "0fa8680c-eed5-4080-c378-ff29b09e3fdb"
      },
      "source": [
        "model_svm3 = SVC(kernel='linear',decision_function_shape='ovo',gamma='scale')\n",
        "model_svm3.fit(X,y)"
      ],
      "execution_count": 86,
      "outputs": [
        {
          "output_type": "execute_result",
          "data": {
            "text/plain": [
              "SVC(C=1.0, cache_size=200, class_weight=None, coef0=0.0,\n",
              "    decision_function_shape='ovo', degree=3, gamma='scale', kernel='linear',\n",
              "    max_iter=-1, probability=False, random_state=None, shrinking=True,\n",
              "    tol=0.001, verbose=False)"
            ]
          },
          "metadata": {
            "tags": []
          },
          "execution_count": 86
        }
      ]
    },
    {
      "cell_type": "markdown",
      "metadata": {
        "colab_type": "text",
        "id": "xGfpBy5vmsMh"
      },
      "source": [
        "### **4ª Configuração**: Com kernel polinomial e C=8"
      ]
    },
    {
      "cell_type": "code",
      "metadata": {
        "colab_type": "code",
        "id": "AOTk_tbumsMi",
        "colab": {
          "base_uri": "https://localhost:8080/",
          "height": 85
        },
        "outputId": "fa01704c-040c-4572-ba98-4fcd892a7c53"
      },
      "source": [
        "model_svm4 = SVC(C=8,kernel='poly',gamma='scale')\n",
        "model_svm4.fit(X,y)"
      ],
      "execution_count": 85,
      "outputs": [
        {
          "output_type": "execute_result",
          "data": {
            "text/plain": [
              "SVC(C=8, cache_size=200, class_weight=None, coef0=0.0,\n",
              "    decision_function_shape='ovr', degree=3, gamma='scale', kernel='poly',\n",
              "    max_iter=-1, probability=False, random_state=None, shrinking=True,\n",
              "    tol=0.001, verbose=False)"
            ]
          },
          "metadata": {
            "tags": []
          },
          "execution_count": 85
        }
      ]
    },
    {
      "cell_type": "markdown",
      "metadata": {
        "colab_type": "text",
        "id": "yn_XPC_anMCs"
      },
      "source": [
        "### **5ª Configuração**: Com kernel rbf, C=2 e sem limite de iterações"
      ]
    },
    {
      "cell_type": "code",
      "metadata": {
        "colab_type": "code",
        "id": "Rl4Ebu9enMCu",
        "colab": {
          "base_uri": "https://localhost:8080/",
          "height": 85
        },
        "outputId": "c0f87871-0abc-417a-ce31-5473f5a4c2ad"
      },
      "source": [
        "model_svm5 = SVC(C=2,kernel='rbf',class_weight='balanced',gamma='scale',max_iter=-1)\n",
        "model_svm5.fit(X,y)"
      ],
      "execution_count": 15,
      "outputs": [
        {
          "output_type": "execute_result",
          "data": {
            "text/plain": [
              "SVC(C=2, cache_size=200, class_weight='balanced', coef0=0.0,\n",
              "    decision_function_shape='ovr', degree=3, gamma='scale', kernel='rbf',\n",
              "    max_iter=-1, probability=False, random_state=None, shrinking=True,\n",
              "    tol=0.001, verbose=False)"
            ]
          },
          "metadata": {
            "tags": []
          },
          "execution_count": 15
        }
      ]
    },
    {
      "cell_type": "markdown",
      "metadata": {
        "id": "7kaYWJSwBiEJ",
        "colab_type": "text"
      },
      "source": [
        "---\n",
        "# Avaliação dos Modelos"
      ]
    },
    {
      "cell_type": "code",
      "metadata": {
        "id": "-KBAak1tXa6D",
        "colab_type": "code",
        "colab": {}
      },
      "source": [
        "from sklearn.model_selection import train_test_split\n",
        "X_train, X_test, y_train, y_test = train_test_split(X, y, test_size=0.4, random_state=15)"
      ],
      "execution_count": 0,
      "outputs": []
    },
    {
      "cell_type": "markdown",
      "metadata": {
        "id": "mcQQpss_FpOP",
        "colab_type": "text"
      },
      "source": [
        "## *Árvore de Decisão*"
      ]
    },
    {
      "cell_type": "markdown",
      "metadata": {
        "id": "ExiAFhDmLW6G",
        "colab_type": "text"
      },
      "source": [
        "### **Avaliação por Holdout**"
      ]
    },
    {
      "cell_type": "markdown",
      "metadata": {
        "id": "kJ81YDSgNhSv",
        "colab_type": "text"
      },
      "source": [
        "**Conjunto de Treino**"
      ]
    },
    {
      "cell_type": "markdown",
      "metadata": {
        "id": "PWJHSXU1MeQq",
        "colab_type": "text"
      },
      "source": [
        "-  Configuração 1:"
      ]
    },
    {
      "cell_type": "code",
      "metadata": {
        "id": "uc8ccOTcGYRP",
        "colab_type": "code",
        "colab": {
          "base_uri": "https://localhost:8080/",
          "height": 111
        },
        "outputId": "874618a0-a327-45f6-a5b0-3f77cf12daee"
      },
      "source": [
        "from sklearn.metrics import confusion_matrix\n",
        "y_train_pred = model_tree1.predict(X_train)\n",
        "pd.DataFrame( \n",
        "    confusion_matrix(y_train, y_train_pred),\n",
        "    index = ['observed_crisis','observed_no_crisis'],\n",
        "    columns = ['predicted_crisis','predicted_no_crisis']\n",
        "    )"
      ],
      "execution_count": 21,
      "outputs": [
        {
          "output_type": "execute_result",
          "data": {
            "text/html": [
              "<div>\n",
              "<style scoped>\n",
              "    .dataframe tbody tr th:only-of-type {\n",
              "        vertical-align: middle;\n",
              "    }\n",
              "\n",
              "    .dataframe tbody tr th {\n",
              "        vertical-align: top;\n",
              "    }\n",
              "\n",
              "    .dataframe thead th {\n",
              "        text-align: right;\n",
              "    }\n",
              "</style>\n",
              "<table border=\"1\" class=\"dataframe\">\n",
              "  <thead>\n",
              "    <tr style=\"text-align: right;\">\n",
              "      <th></th>\n",
              "      <th>predicted_crisis</th>\n",
              "      <th>predicted_no_crisis</th>\n",
              "    </tr>\n",
              "  </thead>\n",
              "  <tbody>\n",
              "    <tr>\n",
              "      <th>observed_crisis</th>\n",
              "      <td>82</td>\n",
              "      <td>0</td>\n",
              "    </tr>\n",
              "    <tr>\n",
              "      <th>observed_no_crisis</th>\n",
              "      <td>0</td>\n",
              "      <td>551</td>\n",
              "    </tr>\n",
              "  </tbody>\n",
              "</table>\n",
              "</div>"
            ],
            "text/plain": [
              "                    predicted_crisis  predicted_no_crisis\n",
              "observed_crisis                   82                    0\n",
              "observed_no_crisis                 0                  551"
            ]
          },
          "metadata": {
            "tags": []
          },
          "execution_count": 21
        }
      ]
    },
    {
      "cell_type": "markdown",
      "metadata": {
        "colab_type": "text",
        "id": "d6qPMT3bMy_0"
      },
      "source": [
        "-  Configuração 2:"
      ]
    },
    {
      "cell_type": "code",
      "metadata": {
        "colab_type": "code",
        "id": "rU5b9rFoMy_2",
        "colab": {
          "base_uri": "https://localhost:8080/",
          "height": 111
        },
        "outputId": "efe20078-4b08-4733-8b79-6b986fcf6c52"
      },
      "source": [
        "y_train_pred = model_tree2.predict(X_train)\n",
        "pd.DataFrame( \n",
        "    confusion_matrix(y_train, y_train_pred),\n",
        "    index = ['observed_crisis','observed_no_crisis'],\n",
        "    columns = ['predicted_crisis','predicted_no_crisis']\n",
        "    )"
      ],
      "execution_count": 22,
      "outputs": [
        {
          "output_type": "execute_result",
          "data": {
            "text/html": [
              "<div>\n",
              "<style scoped>\n",
              "    .dataframe tbody tr th:only-of-type {\n",
              "        vertical-align: middle;\n",
              "    }\n",
              "\n",
              "    .dataframe tbody tr th {\n",
              "        vertical-align: top;\n",
              "    }\n",
              "\n",
              "    .dataframe thead th {\n",
              "        text-align: right;\n",
              "    }\n",
              "</style>\n",
              "<table border=\"1\" class=\"dataframe\">\n",
              "  <thead>\n",
              "    <tr style=\"text-align: right;\">\n",
              "      <th></th>\n",
              "      <th>predicted_crisis</th>\n",
              "      <th>predicted_no_crisis</th>\n",
              "    </tr>\n",
              "  </thead>\n",
              "  <tbody>\n",
              "    <tr>\n",
              "      <th>observed_crisis</th>\n",
              "      <td>77</td>\n",
              "      <td>5</td>\n",
              "    </tr>\n",
              "    <tr>\n",
              "      <th>observed_no_crisis</th>\n",
              "      <td>20</td>\n",
              "      <td>531</td>\n",
              "    </tr>\n",
              "  </tbody>\n",
              "</table>\n",
              "</div>"
            ],
            "text/plain": [
              "                    predicted_crisis  predicted_no_crisis\n",
              "observed_crisis                   77                    5\n",
              "observed_no_crisis                20                  531"
            ]
          },
          "metadata": {
            "tags": []
          },
          "execution_count": 22
        }
      ]
    },
    {
      "cell_type": "markdown",
      "metadata": {
        "colab_type": "text",
        "id": "0tgnEKKBM8c0"
      },
      "source": [
        "-  Configuração 3:"
      ]
    },
    {
      "cell_type": "code",
      "metadata": {
        "colab_type": "code",
        "id": "RV7TtBPvM8c1",
        "colab": {
          "base_uri": "https://localhost:8080/",
          "height": 111
        },
        "outputId": "ee03f4e4-b2ff-49a2-ea64-5f8bc6d1a758"
      },
      "source": [
        "y_train_pred = model_tree3.predict(X_train)\n",
        "pd.DataFrame( \n",
        "    confusion_matrix(y_train, y_train_pred),\n",
        "    index = ['observed_crisis','observed_no_crisis'],\n",
        "    columns = ['predicted_crisis','predicted_no_crisis']\n",
        "    )"
      ],
      "execution_count": 23,
      "outputs": [
        {
          "output_type": "execute_result",
          "data": {
            "text/html": [
              "<div>\n",
              "<style scoped>\n",
              "    .dataframe tbody tr th:only-of-type {\n",
              "        vertical-align: middle;\n",
              "    }\n",
              "\n",
              "    .dataframe tbody tr th {\n",
              "        vertical-align: top;\n",
              "    }\n",
              "\n",
              "    .dataframe thead th {\n",
              "        text-align: right;\n",
              "    }\n",
              "</style>\n",
              "<table border=\"1\" class=\"dataframe\">\n",
              "  <thead>\n",
              "    <tr style=\"text-align: right;\">\n",
              "      <th></th>\n",
              "      <th>predicted_crisis</th>\n",
              "      <th>predicted_no_crisis</th>\n",
              "    </tr>\n",
              "  </thead>\n",
              "  <tbody>\n",
              "    <tr>\n",
              "      <th>observed_crisis</th>\n",
              "      <td>82</td>\n",
              "      <td>0</td>\n",
              "    </tr>\n",
              "    <tr>\n",
              "      <th>observed_no_crisis</th>\n",
              "      <td>0</td>\n",
              "      <td>551</td>\n",
              "    </tr>\n",
              "  </tbody>\n",
              "</table>\n",
              "</div>"
            ],
            "text/plain": [
              "                    predicted_crisis  predicted_no_crisis\n",
              "observed_crisis                   82                    0\n",
              "observed_no_crisis                 0                  551"
            ]
          },
          "metadata": {
            "tags": []
          },
          "execution_count": 23
        }
      ]
    },
    {
      "cell_type": "markdown",
      "metadata": {
        "colab_type": "text",
        "id": "nYbx1RlCM_cy"
      },
      "source": [
        "-  Configuração 4:"
      ]
    },
    {
      "cell_type": "code",
      "metadata": {
        "colab_type": "code",
        "id": "71EQgSCyM_c1",
        "colab": {
          "base_uri": "https://localhost:8080/",
          "height": 111
        },
        "outputId": "f2bbbd32-a6b3-4ba2-bcc9-13071c025945"
      },
      "source": [
        "y_train_pred = model_tree4.predict(X_train)\n",
        "pd.DataFrame( \n",
        "    confusion_matrix(y_train, y_train_pred),\n",
        "    index = ['observed_crisis','observed_no_crisis'],\n",
        "    columns = ['predicted_crisis','predicted_no_crisis']\n",
        "    )"
      ],
      "execution_count": 24,
      "outputs": [
        {
          "output_type": "execute_result",
          "data": {
            "text/html": [
              "<div>\n",
              "<style scoped>\n",
              "    .dataframe tbody tr th:only-of-type {\n",
              "        vertical-align: middle;\n",
              "    }\n",
              "\n",
              "    .dataframe tbody tr th {\n",
              "        vertical-align: top;\n",
              "    }\n",
              "\n",
              "    .dataframe thead th {\n",
              "        text-align: right;\n",
              "    }\n",
              "</style>\n",
              "<table border=\"1\" class=\"dataframe\">\n",
              "  <thead>\n",
              "    <tr style=\"text-align: right;\">\n",
              "      <th></th>\n",
              "      <th>predicted_crisis</th>\n",
              "      <th>predicted_no_crisis</th>\n",
              "    </tr>\n",
              "  </thead>\n",
              "  <tbody>\n",
              "    <tr>\n",
              "      <th>observed_crisis</th>\n",
              "      <td>82</td>\n",
              "      <td>0</td>\n",
              "    </tr>\n",
              "    <tr>\n",
              "      <th>observed_no_crisis</th>\n",
              "      <td>0</td>\n",
              "      <td>551</td>\n",
              "    </tr>\n",
              "  </tbody>\n",
              "</table>\n",
              "</div>"
            ],
            "text/plain": [
              "                    predicted_crisis  predicted_no_crisis\n",
              "observed_crisis                   82                    0\n",
              "observed_no_crisis                 0                  551"
            ]
          },
          "metadata": {
            "tags": []
          },
          "execution_count": 24
        }
      ]
    },
    {
      "cell_type": "markdown",
      "metadata": {
        "colab_type": "text",
        "id": "vBPjPMvmNCOs"
      },
      "source": [
        "-  Configuração 5:"
      ]
    },
    {
      "cell_type": "code",
      "metadata": {
        "colab_type": "code",
        "id": "PRTC24RLNCOt",
        "colab": {
          "base_uri": "https://localhost:8080/",
          "height": 111
        },
        "outputId": "1bb68702-6f64-4f78-f1e4-c2a6d5f791d4"
      },
      "source": [
        "y_train_pred = model_tree5.predict(X_train)\n",
        "pd.DataFrame( \n",
        "    confusion_matrix(y_train, y_train_pred),\n",
        "    index = ['observed_crisis','observed_no_crisis'],\n",
        "    columns = ['predicted_crisis','predicted_no_crisis']\n",
        "    )"
      ],
      "execution_count": 25,
      "outputs": [
        {
          "output_type": "execute_result",
          "data": {
            "text/html": [
              "<div>\n",
              "<style scoped>\n",
              "    .dataframe tbody tr th:only-of-type {\n",
              "        vertical-align: middle;\n",
              "    }\n",
              "\n",
              "    .dataframe tbody tr th {\n",
              "        vertical-align: top;\n",
              "    }\n",
              "\n",
              "    .dataframe thead th {\n",
              "        text-align: right;\n",
              "    }\n",
              "</style>\n",
              "<table border=\"1\" class=\"dataframe\">\n",
              "  <thead>\n",
              "    <tr style=\"text-align: right;\">\n",
              "      <th></th>\n",
              "      <th>predicted_crisis</th>\n",
              "      <th>predicted_no_crisis</th>\n",
              "    </tr>\n",
              "  </thead>\n",
              "  <tbody>\n",
              "    <tr>\n",
              "      <th>observed_crisis</th>\n",
              "      <td>51</td>\n",
              "      <td>31</td>\n",
              "    </tr>\n",
              "    <tr>\n",
              "      <th>observed_no_crisis</th>\n",
              "      <td>9</td>\n",
              "      <td>542</td>\n",
              "    </tr>\n",
              "  </tbody>\n",
              "</table>\n",
              "</div>"
            ],
            "text/plain": [
              "                    predicted_crisis  predicted_no_crisis\n",
              "observed_crisis                   51                   31\n",
              "observed_no_crisis                 9                  542"
            ]
          },
          "metadata": {
            "tags": []
          },
          "execution_count": 25
        }
      ]
    },
    {
      "cell_type": "markdown",
      "metadata": {
        "id": "fwF8hlOVOJNT",
        "colab_type": "text"
      },
      "source": [
        "Acurácia:"
      ]
    },
    {
      "cell_type": "code",
      "metadata": {
        "id": "sQ6i-xVqOLfk",
        "colab_type": "code",
        "colab": {
          "base_uri": "https://localhost:8080/",
          "height": 34
        },
        "outputId": "205a1e2b-0958-4dc5-f7f7-051573f906c0"
      },
      "source": [
        "from sklearn.metrics import accuracy_score\n",
        "acuracia = accuracy_score(y_train, y_train_pred)\n",
        "acuracia"
      ],
      "execution_count": 26,
      "outputs": [
        {
          "output_type": "execute_result",
          "data": {
            "text/plain": [
              "0.9368088467614534"
            ]
          },
          "metadata": {
            "tags": []
          },
          "execution_count": 26
        }
      ]
    },
    {
      "cell_type": "markdown",
      "metadata": {
        "id": "MeB14ZBVNm2Q",
        "colab_type": "text"
      },
      "source": [
        "**Conjunto de Teste**"
      ]
    },
    {
      "cell_type": "markdown",
      "metadata": {
        "colab_type": "text",
        "id": "bJIzmoj_Oix9"
      },
      "source": [
        "-  Configuração 1:"
      ]
    },
    {
      "cell_type": "code",
      "metadata": {
        "colab_type": "code",
        "id": "UfgblTh_OiyA",
        "colab": {
          "base_uri": "https://localhost:8080/",
          "height": 111
        },
        "outputId": "78c0dc5f-9914-47b2-9288-cc16c4c1585b"
      },
      "source": [
        "y_test_pred = model_tree1.predict(X_test)\n",
        "pd.DataFrame( \n",
        "    confusion_matrix(y_test, y_test_pred),\n",
        "    index = ['observed_crisis','observed_no_crisis'],\n",
        "    columns = ['predicted_crisis','predicted_no_crisis']\n",
        "    )"
      ],
      "execution_count": 27,
      "outputs": [
        {
          "output_type": "execute_result",
          "data": {
            "text/html": [
              "<div>\n",
              "<style scoped>\n",
              "    .dataframe tbody tr th:only-of-type {\n",
              "        vertical-align: middle;\n",
              "    }\n",
              "\n",
              "    .dataframe tbody tr th {\n",
              "        vertical-align: top;\n",
              "    }\n",
              "\n",
              "    .dataframe thead th {\n",
              "        text-align: right;\n",
              "    }\n",
              "</style>\n",
              "<table border=\"1\" class=\"dataframe\">\n",
              "  <thead>\n",
              "    <tr style=\"text-align: right;\">\n",
              "      <th></th>\n",
              "      <th>predicted_crisis</th>\n",
              "      <th>predicted_no_crisis</th>\n",
              "    </tr>\n",
              "  </thead>\n",
              "  <tbody>\n",
              "    <tr>\n",
              "      <th>observed_crisis</th>\n",
              "      <td>50</td>\n",
              "      <td>0</td>\n",
              "    </tr>\n",
              "    <tr>\n",
              "      <th>observed_no_crisis</th>\n",
              "      <td>0</td>\n",
              "      <td>372</td>\n",
              "    </tr>\n",
              "  </tbody>\n",
              "</table>\n",
              "</div>"
            ],
            "text/plain": [
              "                    predicted_crisis  predicted_no_crisis\n",
              "observed_crisis                   50                    0\n",
              "observed_no_crisis                 0                  372"
            ]
          },
          "metadata": {
            "tags": []
          },
          "execution_count": 27
        }
      ]
    },
    {
      "cell_type": "markdown",
      "metadata": {
        "colab_type": "text",
        "id": "ys1hpD1tOiyG"
      },
      "source": [
        "-  Configuração 2:"
      ]
    },
    {
      "cell_type": "code",
      "metadata": {
        "colab_type": "code",
        "id": "NFiikholOiyH",
        "colab": {
          "base_uri": "https://localhost:8080/",
          "height": 111
        },
        "outputId": "df3842a4-0596-455c-a770-584720b45b8e"
      },
      "source": [
        "y_test_pred = model_tree2.predict(X_test)\n",
        "pd.DataFrame( \n",
        "    confusion_matrix(y_test, y_test_pred),\n",
        "    index = ['observed_crisis','observed_no_crisis'],\n",
        "    columns = ['predicted_crisis','predicted_no_crisis']\n",
        "    )"
      ],
      "execution_count": 28,
      "outputs": [
        {
          "output_type": "execute_result",
          "data": {
            "text/html": [
              "<div>\n",
              "<style scoped>\n",
              "    .dataframe tbody tr th:only-of-type {\n",
              "        vertical-align: middle;\n",
              "    }\n",
              "\n",
              "    .dataframe tbody tr th {\n",
              "        vertical-align: top;\n",
              "    }\n",
              "\n",
              "    .dataframe thead th {\n",
              "        text-align: right;\n",
              "    }\n",
              "</style>\n",
              "<table border=\"1\" class=\"dataframe\">\n",
              "  <thead>\n",
              "    <tr style=\"text-align: right;\">\n",
              "      <th></th>\n",
              "      <th>predicted_crisis</th>\n",
              "      <th>predicted_no_crisis</th>\n",
              "    </tr>\n",
              "  </thead>\n",
              "  <tbody>\n",
              "    <tr>\n",
              "      <th>observed_crisis</th>\n",
              "      <td>47</td>\n",
              "      <td>3</td>\n",
              "    </tr>\n",
              "    <tr>\n",
              "      <th>observed_no_crisis</th>\n",
              "      <td>10</td>\n",
              "      <td>362</td>\n",
              "    </tr>\n",
              "  </tbody>\n",
              "</table>\n",
              "</div>"
            ],
            "text/plain": [
              "                    predicted_crisis  predicted_no_crisis\n",
              "observed_crisis                   47                    3\n",
              "observed_no_crisis                10                  362"
            ]
          },
          "metadata": {
            "tags": []
          },
          "execution_count": 28
        }
      ]
    },
    {
      "cell_type": "markdown",
      "metadata": {
        "colab_type": "text",
        "id": "GxmX3s4-OiyK"
      },
      "source": [
        "-  Configuração 3:"
      ]
    },
    {
      "cell_type": "code",
      "metadata": {
        "colab_type": "code",
        "id": "djErnArfOiyL",
        "colab": {
          "base_uri": "https://localhost:8080/",
          "height": 111
        },
        "outputId": "cf9c9829-df9d-45fe-e3ea-48f8ad6f37d9"
      },
      "source": [
        "y_test_pred = model_tree3.predict(X_test)\n",
        "pd.DataFrame( \n",
        "    confusion_matrix(y_test, y_test_pred),\n",
        "    index = ['observed_crisis','observed_no_crisis'],\n",
        "    columns = ['predicted_crisis','predicted_no_crisis']\n",
        "    )"
      ],
      "execution_count": 29,
      "outputs": [
        {
          "output_type": "execute_result",
          "data": {
            "text/html": [
              "<div>\n",
              "<style scoped>\n",
              "    .dataframe tbody tr th:only-of-type {\n",
              "        vertical-align: middle;\n",
              "    }\n",
              "\n",
              "    .dataframe tbody tr th {\n",
              "        vertical-align: top;\n",
              "    }\n",
              "\n",
              "    .dataframe thead th {\n",
              "        text-align: right;\n",
              "    }\n",
              "</style>\n",
              "<table border=\"1\" class=\"dataframe\">\n",
              "  <thead>\n",
              "    <tr style=\"text-align: right;\">\n",
              "      <th></th>\n",
              "      <th>predicted_crisis</th>\n",
              "      <th>predicted_no_crisis</th>\n",
              "    </tr>\n",
              "  </thead>\n",
              "  <tbody>\n",
              "    <tr>\n",
              "      <th>observed_crisis</th>\n",
              "      <td>50</td>\n",
              "      <td>0</td>\n",
              "    </tr>\n",
              "    <tr>\n",
              "      <th>observed_no_crisis</th>\n",
              "      <td>0</td>\n",
              "      <td>372</td>\n",
              "    </tr>\n",
              "  </tbody>\n",
              "</table>\n",
              "</div>"
            ],
            "text/plain": [
              "                    predicted_crisis  predicted_no_crisis\n",
              "observed_crisis                   50                    0\n",
              "observed_no_crisis                 0                  372"
            ]
          },
          "metadata": {
            "tags": []
          },
          "execution_count": 29
        }
      ]
    },
    {
      "cell_type": "markdown",
      "metadata": {
        "colab_type": "text",
        "id": "m9janAxvOiyO"
      },
      "source": [
        "-  Configuração 4:"
      ]
    },
    {
      "cell_type": "code",
      "metadata": {
        "colab_type": "code",
        "id": "3PojfyiUOiyP",
        "colab": {
          "base_uri": "https://localhost:8080/",
          "height": 111
        },
        "outputId": "0e9092db-012c-43c8-85ab-8f417c23ef55"
      },
      "source": [
        "y_test_pred = model_tree4.predict(X_test)\n",
        "pd.DataFrame( \n",
        "    confusion_matrix(y_test, y_test_pred),\n",
        "    index = ['observed_crisis','observed_no_crisis'],\n",
        "    columns = ['predicted_crisis','predicted_no_crisis']\n",
        "    )"
      ],
      "execution_count": 30,
      "outputs": [
        {
          "output_type": "execute_result",
          "data": {
            "text/html": [
              "<div>\n",
              "<style scoped>\n",
              "    .dataframe tbody tr th:only-of-type {\n",
              "        vertical-align: middle;\n",
              "    }\n",
              "\n",
              "    .dataframe tbody tr th {\n",
              "        vertical-align: top;\n",
              "    }\n",
              "\n",
              "    .dataframe thead th {\n",
              "        text-align: right;\n",
              "    }\n",
              "</style>\n",
              "<table border=\"1\" class=\"dataframe\">\n",
              "  <thead>\n",
              "    <tr style=\"text-align: right;\">\n",
              "      <th></th>\n",
              "      <th>predicted_crisis</th>\n",
              "      <th>predicted_no_crisis</th>\n",
              "    </tr>\n",
              "  </thead>\n",
              "  <tbody>\n",
              "    <tr>\n",
              "      <th>observed_crisis</th>\n",
              "      <td>50</td>\n",
              "      <td>0</td>\n",
              "    </tr>\n",
              "    <tr>\n",
              "      <th>observed_no_crisis</th>\n",
              "      <td>0</td>\n",
              "      <td>372</td>\n",
              "    </tr>\n",
              "  </tbody>\n",
              "</table>\n",
              "</div>"
            ],
            "text/plain": [
              "                    predicted_crisis  predicted_no_crisis\n",
              "observed_crisis                   50                    0\n",
              "observed_no_crisis                 0                  372"
            ]
          },
          "metadata": {
            "tags": []
          },
          "execution_count": 30
        }
      ]
    },
    {
      "cell_type": "markdown",
      "metadata": {
        "colab_type": "text",
        "id": "m381EMYXOiyR"
      },
      "source": [
        "-  Configuração 5:"
      ]
    },
    {
      "cell_type": "code",
      "metadata": {
        "colab_type": "code",
        "id": "9jvf-xMyOiyS",
        "colab": {
          "base_uri": "https://localhost:8080/",
          "height": 111
        },
        "outputId": "fb974673-2b65-458a-abb9-cb4fa8e9d982"
      },
      "source": [
        "y_test_pred = model_tree5.predict(X_test)\n",
        "pd.DataFrame( \n",
        "    confusion_matrix(y_test, y_test_pred),\n",
        "    index = ['observed_crisis','observed_no_crisis'],\n",
        "    columns = ['predicted_crisis','predicted_no_crisis']\n",
        "    )"
      ],
      "execution_count": 31,
      "outputs": [
        {
          "output_type": "execute_result",
          "data": {
            "text/html": [
              "<div>\n",
              "<style scoped>\n",
              "    .dataframe tbody tr th:only-of-type {\n",
              "        vertical-align: middle;\n",
              "    }\n",
              "\n",
              "    .dataframe tbody tr th {\n",
              "        vertical-align: top;\n",
              "    }\n",
              "\n",
              "    .dataframe thead th {\n",
              "        text-align: right;\n",
              "    }\n",
              "</style>\n",
              "<table border=\"1\" class=\"dataframe\">\n",
              "  <thead>\n",
              "    <tr style=\"text-align: right;\">\n",
              "      <th></th>\n",
              "      <th>predicted_crisis</th>\n",
              "      <th>predicted_no_crisis</th>\n",
              "    </tr>\n",
              "  </thead>\n",
              "  <tbody>\n",
              "    <tr>\n",
              "      <th>observed_crisis</th>\n",
              "      <td>42</td>\n",
              "      <td>8</td>\n",
              "    </tr>\n",
              "    <tr>\n",
              "      <th>observed_no_crisis</th>\n",
              "      <td>6</td>\n",
              "      <td>366</td>\n",
              "    </tr>\n",
              "  </tbody>\n",
              "</table>\n",
              "</div>"
            ],
            "text/plain": [
              "                    predicted_crisis  predicted_no_crisis\n",
              "observed_crisis                   42                    8\n",
              "observed_no_crisis                 6                  366"
            ]
          },
          "metadata": {
            "tags": []
          },
          "execution_count": 31
        }
      ]
    },
    {
      "cell_type": "markdown",
      "metadata": {
        "colab_type": "text",
        "id": "BEpgAJ2HOiyb"
      },
      "source": [
        "Acurácia:"
      ]
    },
    {
      "cell_type": "code",
      "metadata": {
        "colab_type": "code",
        "id": "7o9B8SGuOiyd",
        "colab": {
          "base_uri": "https://localhost:8080/",
          "height": 34
        },
        "outputId": "d64f6ed7-7807-4870-ad65-0be48e8e3863"
      },
      "source": [
        "from sklearn.metrics import accuracy_score\n",
        "acuracia = accuracy_score(y_test, y_test_pred)\n",
        "acuracia"
      ],
      "execution_count": 32,
      "outputs": [
        {
          "output_type": "execute_result",
          "data": {
            "text/plain": [
              "0.966824644549763"
            ]
          },
          "metadata": {
            "tags": []
          },
          "execution_count": 32
        }
      ]
    },
    {
      "cell_type": "markdown",
      "metadata": {
        "id": "LadTUd8nNEj7",
        "colab_type": "text"
      },
      "source": [
        "### **Avaliação por 10-folds cross validation**"
      ]
    },
    {
      "cell_type": "markdown",
      "metadata": {
        "colab_type": "text",
        "id": "iqCpnUKMSKGP"
      },
      "source": [
        "-  Configuração 1:"
      ]
    },
    {
      "cell_type": "code",
      "metadata": {
        "colab_type": "code",
        "id": "lmVjdO-RSKGR",
        "colab": {
          "base_uri": "https://localhost:8080/",
          "height": 111
        },
        "outputId": "6d509254-2a2f-42c3-d5c4-035fe3e1148f"
      },
      "source": [
        "from sklearn.model_selection import cross_val_predict\n",
        "y_pred = cross_val_predict(model_tree1, X, y, cv=10)\n",
        "pd.DataFrame( \n",
        "    confusion_matrix(y, y_pred),\n",
        "    index = ['observed_crisis','observed_no_crisis'],\n",
        "    columns = ['predicted_crisis','predicted_no_crisis']\n",
        "    )"
      ],
      "execution_count": 33,
      "outputs": [
        {
          "output_type": "execute_result",
          "data": {
            "text/html": [
              "<div>\n",
              "<style scoped>\n",
              "    .dataframe tbody tr th:only-of-type {\n",
              "        vertical-align: middle;\n",
              "    }\n",
              "\n",
              "    .dataframe tbody tr th {\n",
              "        vertical-align: top;\n",
              "    }\n",
              "\n",
              "    .dataframe thead th {\n",
              "        text-align: right;\n",
              "    }\n",
              "</style>\n",
              "<table border=\"1\" class=\"dataframe\">\n",
              "  <thead>\n",
              "    <tr style=\"text-align: right;\">\n",
              "      <th></th>\n",
              "      <th>predicted_crisis</th>\n",
              "      <th>predicted_no_crisis</th>\n",
              "    </tr>\n",
              "  </thead>\n",
              "  <tbody>\n",
              "    <tr>\n",
              "      <th>observed_crisis</th>\n",
              "      <td>48</td>\n",
              "      <td>84</td>\n",
              "    </tr>\n",
              "    <tr>\n",
              "      <th>observed_no_crisis</th>\n",
              "      <td>595</td>\n",
              "      <td>328</td>\n",
              "    </tr>\n",
              "  </tbody>\n",
              "</table>\n",
              "</div>"
            ],
            "text/plain": [
              "                    predicted_crisis  predicted_no_crisis\n",
              "observed_crisis                   48                   84\n",
              "observed_no_crisis               595                  328"
            ]
          },
          "metadata": {
            "tags": []
          },
          "execution_count": 33
        }
      ]
    },
    {
      "cell_type": "markdown",
      "metadata": {
        "colab_type": "text",
        "id": "-jVm6YivTUPu"
      },
      "source": [
        "Acurácia:"
      ]
    },
    {
      "cell_type": "code",
      "metadata": {
        "colab_type": "code",
        "id": "vFHmguPTTUPv",
        "colab": {
          "base_uri": "https://localhost:8080/",
          "height": 34
        },
        "outputId": "30359238-939b-4fcd-ecbc-28ece1ec2993"
      },
      "source": [
        "from sklearn.metrics import accuracy_score\n",
        "acuracia = accuracy_score(y, y_pred)\n",
        "acuracia"
      ],
      "execution_count": 34,
      "outputs": [
        {
          "output_type": "execute_result",
          "data": {
            "text/plain": [
              "0.35639810426540286"
            ]
          },
          "metadata": {
            "tags": []
          },
          "execution_count": 34
        }
      ]
    },
    {
      "cell_type": "markdown",
      "metadata": {
        "colab_type": "text",
        "id": "QAHdXxa8SKGV"
      },
      "source": [
        "-  Configuração 2:"
      ]
    },
    {
      "cell_type": "code",
      "metadata": {
        "colab_type": "code",
        "id": "Ic6uAcKnSKGW",
        "colab": {
          "base_uri": "https://localhost:8080/",
          "height": 111
        },
        "outputId": "9d9c2072-8547-49b6-8911-f167f097b772"
      },
      "source": [
        "y_pred = cross_val_predict(model_tree2, X, y, cv=10)\n",
        "pd.DataFrame( \n",
        "    confusion_matrix(y, y_pred),\n",
        "    index = ['observed_crisis','observed_no_crisis'],\n",
        "    columns = ['predicted_crisis','predicted_no_crisis']\n",
        "    )"
      ],
      "execution_count": 35,
      "outputs": [
        {
          "output_type": "execute_result",
          "data": {
            "text/html": [
              "<div>\n",
              "<style scoped>\n",
              "    .dataframe tbody tr th:only-of-type {\n",
              "        vertical-align: middle;\n",
              "    }\n",
              "\n",
              "    .dataframe tbody tr th {\n",
              "        vertical-align: top;\n",
              "    }\n",
              "\n",
              "    .dataframe thead th {\n",
              "        text-align: right;\n",
              "    }\n",
              "</style>\n",
              "<table border=\"1\" class=\"dataframe\">\n",
              "  <thead>\n",
              "    <tr style=\"text-align: right;\">\n",
              "      <th></th>\n",
              "      <th>predicted_crisis</th>\n",
              "      <th>predicted_no_crisis</th>\n",
              "    </tr>\n",
              "  </thead>\n",
              "  <tbody>\n",
              "    <tr>\n",
              "      <th>observed_crisis</th>\n",
              "      <td>46</td>\n",
              "      <td>86</td>\n",
              "    </tr>\n",
              "    <tr>\n",
              "      <th>observed_no_crisis</th>\n",
              "      <td>628</td>\n",
              "      <td>295</td>\n",
              "    </tr>\n",
              "  </tbody>\n",
              "</table>\n",
              "</div>"
            ],
            "text/plain": [
              "                    predicted_crisis  predicted_no_crisis\n",
              "observed_crisis                   46                   86\n",
              "observed_no_crisis               628                  295"
            ]
          },
          "metadata": {
            "tags": []
          },
          "execution_count": 35
        }
      ]
    },
    {
      "cell_type": "markdown",
      "metadata": {
        "colab_type": "text",
        "id": "FOuc88D2TcrO"
      },
      "source": [
        "Acurácia:"
      ]
    },
    {
      "cell_type": "code",
      "metadata": {
        "colab_type": "code",
        "id": "UypaFf4YTcrP",
        "colab": {
          "base_uri": "https://localhost:8080/",
          "height": 34
        },
        "outputId": "30650ed1-12db-4060-d755-0d0ff0dcc34d"
      },
      "source": [
        "from sklearn.metrics import accuracy_score\n",
        "acuracia = accuracy_score(y, y_pred)\n",
        "acuracia"
      ],
      "execution_count": 36,
      "outputs": [
        {
          "output_type": "execute_result",
          "data": {
            "text/plain": [
              "0.3232227488151659"
            ]
          },
          "metadata": {
            "tags": []
          },
          "execution_count": 36
        }
      ]
    },
    {
      "cell_type": "markdown",
      "metadata": {
        "colab_type": "text",
        "id": "PVpIcO5wSKGZ"
      },
      "source": [
        "-  Configuração 3:"
      ]
    },
    {
      "cell_type": "code",
      "metadata": {
        "colab_type": "code",
        "id": "M5ekg9_rSKGa",
        "colab": {
          "base_uri": "https://localhost:8080/",
          "height": 111
        },
        "outputId": "2562fb13-6012-44e8-d63d-8e588fd1c4c2"
      },
      "source": [
        "y_pred = cross_val_predict(model_tree3, X, y, cv=10)\n",
        "pd.DataFrame( \n",
        "    confusion_matrix(y, y_pred),\n",
        "    index = ['observed_crisis','observed_no_crisis'],\n",
        "    columns = ['predicted_crisis','predicted_no_crisis']\n",
        "    )"
      ],
      "execution_count": 37,
      "outputs": [
        {
          "output_type": "execute_result",
          "data": {
            "text/html": [
              "<div>\n",
              "<style scoped>\n",
              "    .dataframe tbody tr th:only-of-type {\n",
              "        vertical-align: middle;\n",
              "    }\n",
              "\n",
              "    .dataframe tbody tr th {\n",
              "        vertical-align: top;\n",
              "    }\n",
              "\n",
              "    .dataframe thead th {\n",
              "        text-align: right;\n",
              "    }\n",
              "</style>\n",
              "<table border=\"1\" class=\"dataframe\">\n",
              "  <thead>\n",
              "    <tr style=\"text-align: right;\">\n",
              "      <th></th>\n",
              "      <th>predicted_crisis</th>\n",
              "      <th>predicted_no_crisis</th>\n",
              "    </tr>\n",
              "  </thead>\n",
              "  <tbody>\n",
              "    <tr>\n",
              "      <th>observed_crisis</th>\n",
              "      <td>37</td>\n",
              "      <td>95</td>\n",
              "    </tr>\n",
              "    <tr>\n",
              "      <th>observed_no_crisis</th>\n",
              "      <td>587</td>\n",
              "      <td>336</td>\n",
              "    </tr>\n",
              "  </tbody>\n",
              "</table>\n",
              "</div>"
            ],
            "text/plain": [
              "                    predicted_crisis  predicted_no_crisis\n",
              "observed_crisis                   37                   95\n",
              "observed_no_crisis               587                  336"
            ]
          },
          "metadata": {
            "tags": []
          },
          "execution_count": 37
        }
      ]
    },
    {
      "cell_type": "markdown",
      "metadata": {
        "colab_type": "text",
        "id": "DyQwoDLOTijI"
      },
      "source": [
        "Acurácia:"
      ]
    },
    {
      "cell_type": "code",
      "metadata": {
        "colab_type": "code",
        "id": "gR_J1FeoTijJ",
        "colab": {
          "base_uri": "https://localhost:8080/",
          "height": 34
        },
        "outputId": "8f378311-b368-465e-f8f2-c977a12a1c20"
      },
      "source": [
        "from sklearn.metrics import accuracy_score\n",
        "acuracia = accuracy_score(y, y_pred)\n",
        "acuracia"
      ],
      "execution_count": 38,
      "outputs": [
        {
          "output_type": "execute_result",
          "data": {
            "text/plain": [
              "0.35355450236966823"
            ]
          },
          "metadata": {
            "tags": []
          },
          "execution_count": 38
        }
      ]
    },
    {
      "cell_type": "markdown",
      "metadata": {
        "colab_type": "text",
        "id": "CDHiM9lvSKGd"
      },
      "source": [
        "-  Configuração 4:"
      ]
    },
    {
      "cell_type": "code",
      "metadata": {
        "colab_type": "code",
        "id": "Aqi3cccXSKGe",
        "colab": {
          "base_uri": "https://localhost:8080/",
          "height": 111
        },
        "outputId": "3fc442a3-804f-4bfd-b58f-2476145be6e1"
      },
      "source": [
        "y_pred = cross_val_predict(model_tree4, X, y, cv=10)\n",
        "pd.DataFrame( \n",
        "    confusion_matrix(y, y_pred),\n",
        "    index = ['observed_crisis','observed_no_crisis'],\n",
        "    columns = ['predicted_crisis','predicted_no_crisis']\n",
        "    )"
      ],
      "execution_count": 39,
      "outputs": [
        {
          "output_type": "execute_result",
          "data": {
            "text/html": [
              "<div>\n",
              "<style scoped>\n",
              "    .dataframe tbody tr th:only-of-type {\n",
              "        vertical-align: middle;\n",
              "    }\n",
              "\n",
              "    .dataframe tbody tr th {\n",
              "        vertical-align: top;\n",
              "    }\n",
              "\n",
              "    .dataframe thead th {\n",
              "        text-align: right;\n",
              "    }\n",
              "</style>\n",
              "<table border=\"1\" class=\"dataframe\">\n",
              "  <thead>\n",
              "    <tr style=\"text-align: right;\">\n",
              "      <th></th>\n",
              "      <th>predicted_crisis</th>\n",
              "      <th>predicted_no_crisis</th>\n",
              "    </tr>\n",
              "  </thead>\n",
              "  <tbody>\n",
              "    <tr>\n",
              "      <th>observed_crisis</th>\n",
              "      <td>47</td>\n",
              "      <td>85</td>\n",
              "    </tr>\n",
              "    <tr>\n",
              "      <th>observed_no_crisis</th>\n",
              "      <td>605</td>\n",
              "      <td>318</td>\n",
              "    </tr>\n",
              "  </tbody>\n",
              "</table>\n",
              "</div>"
            ],
            "text/plain": [
              "                    predicted_crisis  predicted_no_crisis\n",
              "observed_crisis                   47                   85\n",
              "observed_no_crisis               605                  318"
            ]
          },
          "metadata": {
            "tags": []
          },
          "execution_count": 39
        }
      ]
    },
    {
      "cell_type": "markdown",
      "metadata": {
        "colab_type": "text",
        "id": "dm37bOcyT-qk"
      },
      "source": [
        "Acurácia:"
      ]
    },
    {
      "cell_type": "code",
      "metadata": {
        "colab_type": "code",
        "id": "scHkRAOWT-ql",
        "colab": {
          "base_uri": "https://localhost:8080/",
          "height": 34
        },
        "outputId": "72d03cba-cd78-4cad-85c3-c0b9ab52eca1"
      },
      "source": [
        "from sklearn.metrics import accuracy_score\n",
        "acuracia = accuracy_score(y, y_pred)\n",
        "acuracia"
      ],
      "execution_count": 40,
      "outputs": [
        {
          "output_type": "execute_result",
          "data": {
            "text/plain": [
              "0.3459715639810427"
            ]
          },
          "metadata": {
            "tags": []
          },
          "execution_count": 40
        }
      ]
    },
    {
      "cell_type": "markdown",
      "metadata": {
        "colab_type": "text",
        "id": "rbqcrg8nSKGi"
      },
      "source": [
        "-  Configuração 5:"
      ]
    },
    {
      "cell_type": "code",
      "metadata": {
        "colab_type": "code",
        "id": "JlWs5J1FSKGj",
        "colab": {
          "base_uri": "https://localhost:8080/",
          "height": 111
        },
        "outputId": "302e1e9b-1b84-4c08-9179-e9bccadd0d4f"
      },
      "source": [
        "y_pred = cross_val_predict(model_tree5, X, y, cv=10)\n",
        "pd.DataFrame( \n",
        "    confusion_matrix(y, y_pred),\n",
        "    index = ['observed_crisis','observed_no_crisis'],\n",
        "    columns = ['predicted_crisis','predicted_no_crisis']\n",
        "    )"
      ],
      "execution_count": 41,
      "outputs": [
        {
          "output_type": "execute_result",
          "data": {
            "text/html": [
              "<div>\n",
              "<style scoped>\n",
              "    .dataframe tbody tr th:only-of-type {\n",
              "        vertical-align: middle;\n",
              "    }\n",
              "\n",
              "    .dataframe tbody tr th {\n",
              "        vertical-align: top;\n",
              "    }\n",
              "\n",
              "    .dataframe thead th {\n",
              "        text-align: right;\n",
              "    }\n",
              "</style>\n",
              "<table border=\"1\" class=\"dataframe\">\n",
              "  <thead>\n",
              "    <tr style=\"text-align: right;\">\n",
              "      <th></th>\n",
              "      <th>predicted_crisis</th>\n",
              "      <th>predicted_no_crisis</th>\n",
              "    </tr>\n",
              "  </thead>\n",
              "  <tbody>\n",
              "    <tr>\n",
              "      <th>observed_crisis</th>\n",
              "      <td>45</td>\n",
              "      <td>87</td>\n",
              "    </tr>\n",
              "    <tr>\n",
              "      <th>observed_no_crisis</th>\n",
              "      <td>495</td>\n",
              "      <td>428</td>\n",
              "    </tr>\n",
              "  </tbody>\n",
              "</table>\n",
              "</div>"
            ],
            "text/plain": [
              "                    predicted_crisis  predicted_no_crisis\n",
              "observed_crisis                   45                   87\n",
              "observed_no_crisis               495                  428"
            ]
          },
          "metadata": {
            "tags": []
          },
          "execution_count": 41
        }
      ]
    },
    {
      "cell_type": "markdown",
      "metadata": {
        "colab_type": "text",
        "id": "TUZqdtjsSKGn"
      },
      "source": [
        "Acurácia:"
      ]
    },
    {
      "cell_type": "code",
      "metadata": {
        "colab_type": "code",
        "id": "hLvZvOQhSKGo",
        "colab": {
          "base_uri": "https://localhost:8080/",
          "height": 34
        },
        "outputId": "93427f16-0868-4b50-d5ca-c79f0128ec53"
      },
      "source": [
        "from sklearn.metrics import accuracy_score\n",
        "acuracia = accuracy_score(y, y_pred)\n",
        "acuracia"
      ],
      "execution_count": 42,
      "outputs": [
        {
          "output_type": "execute_result",
          "data": {
            "text/plain": [
              "0.4483412322274882"
            ]
          },
          "metadata": {
            "tags": []
          },
          "execution_count": 42
        }
      ]
    },
    {
      "cell_type": "markdown",
      "metadata": {
        "colab_type": "text",
        "id": "qIuB8FlrWeFK"
      },
      "source": [
        "---\n",
        "## *KNN*"
      ]
    },
    {
      "cell_type": "markdown",
      "metadata": {
        "colab_type": "text",
        "id": "7KhZxs4WWeFM"
      },
      "source": [
        "### **Avaliação por Holdout**"
      ]
    },
    {
      "cell_type": "markdown",
      "metadata": {
        "colab_type": "text",
        "id": "cL1fkcOmWeFR"
      },
      "source": [
        "**Conjunto de Treino**"
      ]
    },
    {
      "cell_type": "markdown",
      "metadata": {
        "colab_type": "text",
        "id": "DBAxs40mWeFS"
      },
      "source": [
        "-  Configuração 1:"
      ]
    },
    {
      "cell_type": "code",
      "metadata": {
        "colab_type": "code",
        "id": "WPuLuy9KWeFT",
        "colab": {
          "base_uri": "https://localhost:8080/",
          "height": 111
        },
        "outputId": "1e13617c-f850-4ed0-f271-1d57ecf826cf"
      },
      "source": [
        "y_train_pred = model_knn1.predict(X_train)\n",
        "pd.DataFrame( \n",
        "    confusion_matrix(y_train, y_train_pred),\n",
        "    index = ['observed_crisis','observed_no_crisis'],\n",
        "    columns = ['predicted_crisis','predicted_no_crisis']\n",
        "    )"
      ],
      "execution_count": 43,
      "outputs": [
        {
          "output_type": "execute_result",
          "data": {
            "text/html": [
              "<div>\n",
              "<style scoped>\n",
              "    .dataframe tbody tr th:only-of-type {\n",
              "        vertical-align: middle;\n",
              "    }\n",
              "\n",
              "    .dataframe tbody tr th {\n",
              "        vertical-align: top;\n",
              "    }\n",
              "\n",
              "    .dataframe thead th {\n",
              "        text-align: right;\n",
              "    }\n",
              "</style>\n",
              "<table border=\"1\" class=\"dataframe\">\n",
              "  <thead>\n",
              "    <tr style=\"text-align: right;\">\n",
              "      <th></th>\n",
              "      <th>predicted_crisis</th>\n",
              "      <th>predicted_no_crisis</th>\n",
              "    </tr>\n",
              "  </thead>\n",
              "  <tbody>\n",
              "    <tr>\n",
              "      <th>observed_crisis</th>\n",
              "      <td>30</td>\n",
              "      <td>52</td>\n",
              "    </tr>\n",
              "    <tr>\n",
              "      <th>observed_no_crisis</th>\n",
              "      <td>6</td>\n",
              "      <td>545</td>\n",
              "    </tr>\n",
              "  </tbody>\n",
              "</table>\n",
              "</div>"
            ],
            "text/plain": [
              "                    predicted_crisis  predicted_no_crisis\n",
              "observed_crisis                   30                   52\n",
              "observed_no_crisis                 6                  545"
            ]
          },
          "metadata": {
            "tags": []
          },
          "execution_count": 43
        }
      ]
    },
    {
      "cell_type": "markdown",
      "metadata": {
        "colab_type": "text",
        "id": "eGZm7vKRWeFZ"
      },
      "source": [
        "-  Configuração 2:"
      ]
    },
    {
      "cell_type": "code",
      "metadata": {
        "colab_type": "code",
        "id": "PKQKakAqWeFa",
        "colab": {
          "base_uri": "https://localhost:8080/",
          "height": 111
        },
        "outputId": "91621e07-d61f-4913-db31-cb7b8a5aed88"
      },
      "source": [
        "y_train_pred = model_knn2.predict(X_train)\n",
        "pd.DataFrame( \n",
        "    confusion_matrix(y_train, y_train_pred),\n",
        "    index = ['observed_crisis','observed_no_crisis'],\n",
        "    columns = ['predicted_crisis','predicted_no_crisis']\n",
        "    )"
      ],
      "execution_count": 44,
      "outputs": [
        {
          "output_type": "execute_result",
          "data": {
            "text/html": [
              "<div>\n",
              "<style scoped>\n",
              "    .dataframe tbody tr th:only-of-type {\n",
              "        vertical-align: middle;\n",
              "    }\n",
              "\n",
              "    .dataframe tbody tr th {\n",
              "        vertical-align: top;\n",
              "    }\n",
              "\n",
              "    .dataframe thead th {\n",
              "        text-align: right;\n",
              "    }\n",
              "</style>\n",
              "<table border=\"1\" class=\"dataframe\">\n",
              "  <thead>\n",
              "    <tr style=\"text-align: right;\">\n",
              "      <th></th>\n",
              "      <th>predicted_crisis</th>\n",
              "      <th>predicted_no_crisis</th>\n",
              "    </tr>\n",
              "  </thead>\n",
              "  <tbody>\n",
              "    <tr>\n",
              "      <th>observed_crisis</th>\n",
              "      <td>82</td>\n",
              "      <td>0</td>\n",
              "    </tr>\n",
              "    <tr>\n",
              "      <th>observed_no_crisis</th>\n",
              "      <td>0</td>\n",
              "      <td>551</td>\n",
              "    </tr>\n",
              "  </tbody>\n",
              "</table>\n",
              "</div>"
            ],
            "text/plain": [
              "                    predicted_crisis  predicted_no_crisis\n",
              "observed_crisis                   82                    0\n",
              "observed_no_crisis                 0                  551"
            ]
          },
          "metadata": {
            "tags": []
          },
          "execution_count": 44
        }
      ]
    },
    {
      "cell_type": "markdown",
      "metadata": {
        "colab_type": "text",
        "id": "-HCQliG7WeFc"
      },
      "source": [
        "-  Configuração 3:"
      ]
    },
    {
      "cell_type": "code",
      "metadata": {
        "colab_type": "code",
        "id": "C_SoERHpWeFd",
        "colab": {
          "base_uri": "https://localhost:8080/",
          "height": 111
        },
        "outputId": "a9d3e2cf-8cfd-401d-cd9b-ac166e696c48"
      },
      "source": [
        "y_train_pred = model_knn3.predict(X_train)\n",
        "pd.DataFrame( \n",
        "    confusion_matrix(y_train, y_train_pred),\n",
        "    index = ['observed_crisis','observed_no_crisis'],\n",
        "    columns = ['predicted_crisis','predicted_no_crisis']\n",
        "    )"
      ],
      "execution_count": 45,
      "outputs": [
        {
          "output_type": "execute_result",
          "data": {
            "text/html": [
              "<div>\n",
              "<style scoped>\n",
              "    .dataframe tbody tr th:only-of-type {\n",
              "        vertical-align: middle;\n",
              "    }\n",
              "\n",
              "    .dataframe tbody tr th {\n",
              "        vertical-align: top;\n",
              "    }\n",
              "\n",
              "    .dataframe thead th {\n",
              "        text-align: right;\n",
              "    }\n",
              "</style>\n",
              "<table border=\"1\" class=\"dataframe\">\n",
              "  <thead>\n",
              "    <tr style=\"text-align: right;\">\n",
              "      <th></th>\n",
              "      <th>predicted_crisis</th>\n",
              "      <th>predicted_no_crisis</th>\n",
              "    </tr>\n",
              "  </thead>\n",
              "  <tbody>\n",
              "    <tr>\n",
              "      <th>observed_crisis</th>\n",
              "      <td>33</td>\n",
              "      <td>49</td>\n",
              "    </tr>\n",
              "    <tr>\n",
              "      <th>observed_no_crisis</th>\n",
              "      <td>11</td>\n",
              "      <td>540</td>\n",
              "    </tr>\n",
              "  </tbody>\n",
              "</table>\n",
              "</div>"
            ],
            "text/plain": [
              "                    predicted_crisis  predicted_no_crisis\n",
              "observed_crisis                   33                   49\n",
              "observed_no_crisis                11                  540"
            ]
          },
          "metadata": {
            "tags": []
          },
          "execution_count": 45
        }
      ]
    },
    {
      "cell_type": "markdown",
      "metadata": {
        "colab_type": "text",
        "id": "MqUgLxskWeFf"
      },
      "source": [
        "-  Configuração 4:"
      ]
    },
    {
      "cell_type": "code",
      "metadata": {
        "colab_type": "code",
        "id": "1_bS5JC9WeFk",
        "colab": {
          "base_uri": "https://localhost:8080/",
          "height": 111
        },
        "outputId": "d013ac4a-b29a-47f7-89af-76e61150c9c1"
      },
      "source": [
        "y_train_pred = model_knn4.predict(X_train)\n",
        "pd.DataFrame( \n",
        "    confusion_matrix(y_train, y_train_pred),\n",
        "    index = ['observed_crisis','observed_no_crisis'],\n",
        "    columns = ['predicted_crisis','predicted_no_crisis']\n",
        "    )"
      ],
      "execution_count": 46,
      "outputs": [
        {
          "output_type": "execute_result",
          "data": {
            "text/html": [
              "<div>\n",
              "<style scoped>\n",
              "    .dataframe tbody tr th:only-of-type {\n",
              "        vertical-align: middle;\n",
              "    }\n",
              "\n",
              "    .dataframe tbody tr th {\n",
              "        vertical-align: top;\n",
              "    }\n",
              "\n",
              "    .dataframe thead th {\n",
              "        text-align: right;\n",
              "    }\n",
              "</style>\n",
              "<table border=\"1\" class=\"dataframe\">\n",
              "  <thead>\n",
              "    <tr style=\"text-align: right;\">\n",
              "      <th></th>\n",
              "      <th>predicted_crisis</th>\n",
              "      <th>predicted_no_crisis</th>\n",
              "    </tr>\n",
              "  </thead>\n",
              "  <tbody>\n",
              "    <tr>\n",
              "      <th>observed_crisis</th>\n",
              "      <td>82</td>\n",
              "      <td>0</td>\n",
              "    </tr>\n",
              "    <tr>\n",
              "      <th>observed_no_crisis</th>\n",
              "      <td>0</td>\n",
              "      <td>551</td>\n",
              "    </tr>\n",
              "  </tbody>\n",
              "</table>\n",
              "</div>"
            ],
            "text/plain": [
              "                    predicted_crisis  predicted_no_crisis\n",
              "observed_crisis                   82                    0\n",
              "observed_no_crisis                 0                  551"
            ]
          },
          "metadata": {
            "tags": []
          },
          "execution_count": 46
        }
      ]
    },
    {
      "cell_type": "markdown",
      "metadata": {
        "colab_type": "text",
        "id": "sEkkvo9KWeFo"
      },
      "source": [
        "-  Configuração 5:"
      ]
    },
    {
      "cell_type": "code",
      "metadata": {
        "colab_type": "code",
        "id": "EdLkpUSzWeFp",
        "colab": {
          "base_uri": "https://localhost:8080/",
          "height": 111
        },
        "outputId": "b7f92044-173d-47cd-89ba-42fa2b6764e7"
      },
      "source": [
        "y_train_pred = model_knn5.predict(X_train)\n",
        "pd.DataFrame( \n",
        "    confusion_matrix(y_train, y_train_pred),\n",
        "    index = ['observed_crisis','observed_no_crisis'],\n",
        "    columns = ['predicted_crisis','predicted_no_crisis']\n",
        "    )"
      ],
      "execution_count": 47,
      "outputs": [
        {
          "output_type": "execute_result",
          "data": {
            "text/html": [
              "<div>\n",
              "<style scoped>\n",
              "    .dataframe tbody tr th:only-of-type {\n",
              "        vertical-align: middle;\n",
              "    }\n",
              "\n",
              "    .dataframe tbody tr th {\n",
              "        vertical-align: top;\n",
              "    }\n",
              "\n",
              "    .dataframe thead th {\n",
              "        text-align: right;\n",
              "    }\n",
              "</style>\n",
              "<table border=\"1\" class=\"dataframe\">\n",
              "  <thead>\n",
              "    <tr style=\"text-align: right;\">\n",
              "      <th></th>\n",
              "      <th>predicted_crisis</th>\n",
              "      <th>predicted_no_crisis</th>\n",
              "    </tr>\n",
              "  </thead>\n",
              "  <tbody>\n",
              "    <tr>\n",
              "      <th>observed_crisis</th>\n",
              "      <td>82</td>\n",
              "      <td>0</td>\n",
              "    </tr>\n",
              "    <tr>\n",
              "      <th>observed_no_crisis</th>\n",
              "      <td>0</td>\n",
              "      <td>551</td>\n",
              "    </tr>\n",
              "  </tbody>\n",
              "</table>\n",
              "</div>"
            ],
            "text/plain": [
              "                    predicted_crisis  predicted_no_crisis\n",
              "observed_crisis                   82                    0\n",
              "observed_no_crisis                 0                  551"
            ]
          },
          "metadata": {
            "tags": []
          },
          "execution_count": 47
        }
      ]
    },
    {
      "cell_type": "markdown",
      "metadata": {
        "colab_type": "text",
        "id": "aRv2lS8dWeFs"
      },
      "source": [
        "Acurácia:"
      ]
    },
    {
      "cell_type": "code",
      "metadata": {
        "colab_type": "code",
        "id": "1COy2a3CWeFt",
        "colab": {
          "base_uri": "https://localhost:8080/",
          "height": 34
        },
        "outputId": "afecf3c6-46c5-4638-f96b-1df5c8c28930"
      },
      "source": [
        "from sklearn.metrics import accuracy_score\n",
        "acuracia = accuracy_score(y_train, y_train_pred)\n",
        "acuracia"
      ],
      "execution_count": 48,
      "outputs": [
        {
          "output_type": "execute_result",
          "data": {
            "text/plain": [
              "1.0"
            ]
          },
          "metadata": {
            "tags": []
          },
          "execution_count": 48
        }
      ]
    },
    {
      "cell_type": "markdown",
      "metadata": {
        "colab_type": "text",
        "id": "jwKNTOc6WeFw"
      },
      "source": [
        "**Conjunto de Teste**"
      ]
    },
    {
      "cell_type": "markdown",
      "metadata": {
        "colab_type": "text",
        "id": "qAZ9TOoeWeFx"
      },
      "source": [
        "-  Configuração 1:"
      ]
    },
    {
      "cell_type": "code",
      "metadata": {
        "colab_type": "code",
        "id": "5CS-hZbYWeFy",
        "colab": {
          "base_uri": "https://localhost:8080/",
          "height": 111
        },
        "outputId": "7ef6744b-9f4e-4a65-f2d1-0c59075e6f7a"
      },
      "source": [
        "y_test_pred = model_knn1.predict(X_test)\n",
        "pd.DataFrame( \n",
        "    confusion_matrix(y_test, y_test_pred),\n",
        "    index = ['observed_crisis','observed_no_crisis'],\n",
        "    columns = ['predicted_crisis','predicted_no_crisis']\n",
        "    )"
      ],
      "execution_count": 49,
      "outputs": [
        {
          "output_type": "execute_result",
          "data": {
            "text/html": [
              "<div>\n",
              "<style scoped>\n",
              "    .dataframe tbody tr th:only-of-type {\n",
              "        vertical-align: middle;\n",
              "    }\n",
              "\n",
              "    .dataframe tbody tr th {\n",
              "        vertical-align: top;\n",
              "    }\n",
              "\n",
              "    .dataframe thead th {\n",
              "        text-align: right;\n",
              "    }\n",
              "</style>\n",
              "<table border=\"1\" class=\"dataframe\">\n",
              "  <thead>\n",
              "    <tr style=\"text-align: right;\">\n",
              "      <th></th>\n",
              "      <th>predicted_crisis</th>\n",
              "      <th>predicted_no_crisis</th>\n",
              "    </tr>\n",
              "  </thead>\n",
              "  <tbody>\n",
              "    <tr>\n",
              "      <th>observed_crisis</th>\n",
              "      <td>23</td>\n",
              "      <td>27</td>\n",
              "    </tr>\n",
              "    <tr>\n",
              "      <th>observed_no_crisis</th>\n",
              "      <td>3</td>\n",
              "      <td>369</td>\n",
              "    </tr>\n",
              "  </tbody>\n",
              "</table>\n",
              "</div>"
            ],
            "text/plain": [
              "                    predicted_crisis  predicted_no_crisis\n",
              "observed_crisis                   23                   27\n",
              "observed_no_crisis                 3                  369"
            ]
          },
          "metadata": {
            "tags": []
          },
          "execution_count": 49
        }
      ]
    },
    {
      "cell_type": "markdown",
      "metadata": {
        "colab_type": "text",
        "id": "BGjO6C8oWeF1"
      },
      "source": [
        "-  Configuração 2:"
      ]
    },
    {
      "cell_type": "code",
      "metadata": {
        "colab_type": "code",
        "id": "14K1E3dzWeF3",
        "colab": {
          "base_uri": "https://localhost:8080/",
          "height": 111
        },
        "outputId": "eaf85675-ac0c-45ee-960b-e9073617373f"
      },
      "source": [
        "y_test_pred = model_knn2.predict(X_test)\n",
        "pd.DataFrame( \n",
        "    confusion_matrix(y_test, y_test_pred),\n",
        "    index = ['observed_crisis','observed_no_crisis'],\n",
        "    columns = ['predicted_crisis','predicted_no_crisis']\n",
        "    )"
      ],
      "execution_count": 50,
      "outputs": [
        {
          "output_type": "execute_result",
          "data": {
            "text/html": [
              "<div>\n",
              "<style scoped>\n",
              "    .dataframe tbody tr th:only-of-type {\n",
              "        vertical-align: middle;\n",
              "    }\n",
              "\n",
              "    .dataframe tbody tr th {\n",
              "        vertical-align: top;\n",
              "    }\n",
              "\n",
              "    .dataframe thead th {\n",
              "        text-align: right;\n",
              "    }\n",
              "</style>\n",
              "<table border=\"1\" class=\"dataframe\">\n",
              "  <thead>\n",
              "    <tr style=\"text-align: right;\">\n",
              "      <th></th>\n",
              "      <th>predicted_crisis</th>\n",
              "      <th>predicted_no_crisis</th>\n",
              "    </tr>\n",
              "  </thead>\n",
              "  <tbody>\n",
              "    <tr>\n",
              "      <th>observed_crisis</th>\n",
              "      <td>50</td>\n",
              "      <td>0</td>\n",
              "    </tr>\n",
              "    <tr>\n",
              "      <th>observed_no_crisis</th>\n",
              "      <td>0</td>\n",
              "      <td>372</td>\n",
              "    </tr>\n",
              "  </tbody>\n",
              "</table>\n",
              "</div>"
            ],
            "text/plain": [
              "                    predicted_crisis  predicted_no_crisis\n",
              "observed_crisis                   50                    0\n",
              "observed_no_crisis                 0                  372"
            ]
          },
          "metadata": {
            "tags": []
          },
          "execution_count": 50
        }
      ]
    },
    {
      "cell_type": "markdown",
      "metadata": {
        "colab_type": "text",
        "id": "1xaRoqAgWeF5"
      },
      "source": [
        "-  Configuração 3:"
      ]
    },
    {
      "cell_type": "code",
      "metadata": {
        "colab_type": "code",
        "id": "BYMCDMD7WeF6",
        "colab": {
          "base_uri": "https://localhost:8080/",
          "height": 111
        },
        "outputId": "63908536-4bb8-4873-d25b-0d63a3914c44"
      },
      "source": [
        "y_test_pred = model_knn3.predict(X_test)\n",
        "pd.DataFrame( \n",
        "    confusion_matrix(y_test, y_test_pred),\n",
        "    index = ['observed_crisis','observed_no_crisis'],\n",
        "    columns = ['predicted_crisis','predicted_no_crisis']\n",
        "    )"
      ],
      "execution_count": 51,
      "outputs": [
        {
          "output_type": "execute_result",
          "data": {
            "text/html": [
              "<div>\n",
              "<style scoped>\n",
              "    .dataframe tbody tr th:only-of-type {\n",
              "        vertical-align: middle;\n",
              "    }\n",
              "\n",
              "    .dataframe tbody tr th {\n",
              "        vertical-align: top;\n",
              "    }\n",
              "\n",
              "    .dataframe thead th {\n",
              "        text-align: right;\n",
              "    }\n",
              "</style>\n",
              "<table border=\"1\" class=\"dataframe\">\n",
              "  <thead>\n",
              "    <tr style=\"text-align: right;\">\n",
              "      <th></th>\n",
              "      <th>predicted_crisis</th>\n",
              "      <th>predicted_no_crisis</th>\n",
              "    </tr>\n",
              "  </thead>\n",
              "  <tbody>\n",
              "    <tr>\n",
              "      <th>observed_crisis</th>\n",
              "      <td>28</td>\n",
              "      <td>22</td>\n",
              "    </tr>\n",
              "    <tr>\n",
              "      <th>observed_no_crisis</th>\n",
              "      <td>3</td>\n",
              "      <td>369</td>\n",
              "    </tr>\n",
              "  </tbody>\n",
              "</table>\n",
              "</div>"
            ],
            "text/plain": [
              "                    predicted_crisis  predicted_no_crisis\n",
              "observed_crisis                   28                   22\n",
              "observed_no_crisis                 3                  369"
            ]
          },
          "metadata": {
            "tags": []
          },
          "execution_count": 51
        }
      ]
    },
    {
      "cell_type": "markdown",
      "metadata": {
        "colab_type": "text",
        "id": "-TFBwWC1WeF9"
      },
      "source": [
        "-  Configuração 4:"
      ]
    },
    {
      "cell_type": "code",
      "metadata": {
        "colab_type": "code",
        "id": "gZZ0of6HWeGC",
        "colab": {
          "base_uri": "https://localhost:8080/",
          "height": 111
        },
        "outputId": "e328ecc1-206e-4ab4-dab8-f1d50a3e8347"
      },
      "source": [
        "y_test_pred = model_knn4.predict(X_test)\n",
        "pd.DataFrame( \n",
        "    confusion_matrix(y_test, y_test_pred),\n",
        "    index = ['observed_crisis','observed_no_crisis'],\n",
        "    columns = ['predicted_crisis','predicted_no_crisis']\n",
        "    )"
      ],
      "execution_count": 52,
      "outputs": [
        {
          "output_type": "execute_result",
          "data": {
            "text/html": [
              "<div>\n",
              "<style scoped>\n",
              "    .dataframe tbody tr th:only-of-type {\n",
              "        vertical-align: middle;\n",
              "    }\n",
              "\n",
              "    .dataframe tbody tr th {\n",
              "        vertical-align: top;\n",
              "    }\n",
              "\n",
              "    .dataframe thead th {\n",
              "        text-align: right;\n",
              "    }\n",
              "</style>\n",
              "<table border=\"1\" class=\"dataframe\">\n",
              "  <thead>\n",
              "    <tr style=\"text-align: right;\">\n",
              "      <th></th>\n",
              "      <th>predicted_crisis</th>\n",
              "      <th>predicted_no_crisis</th>\n",
              "    </tr>\n",
              "  </thead>\n",
              "  <tbody>\n",
              "    <tr>\n",
              "      <th>observed_crisis</th>\n",
              "      <td>50</td>\n",
              "      <td>0</td>\n",
              "    </tr>\n",
              "    <tr>\n",
              "      <th>observed_no_crisis</th>\n",
              "      <td>0</td>\n",
              "      <td>372</td>\n",
              "    </tr>\n",
              "  </tbody>\n",
              "</table>\n",
              "</div>"
            ],
            "text/plain": [
              "                    predicted_crisis  predicted_no_crisis\n",
              "observed_crisis                   50                    0\n",
              "observed_no_crisis                 0                  372"
            ]
          },
          "metadata": {
            "tags": []
          },
          "execution_count": 52
        }
      ]
    },
    {
      "cell_type": "markdown",
      "metadata": {
        "colab_type": "text",
        "id": "lGOWyq_xWeGF"
      },
      "source": [
        "-  Configuração 5:"
      ]
    },
    {
      "cell_type": "code",
      "metadata": {
        "colab_type": "code",
        "id": "YO_1aR5OWeGG",
        "colab": {
          "base_uri": "https://localhost:8080/",
          "height": 111
        },
        "outputId": "36c87f78-92b9-405b-cabe-b61d4e9646e5"
      },
      "source": [
        "y_test_pred = model_knn5.predict(X_test)\n",
        "pd.DataFrame( \n",
        "    confusion_matrix(y_test, y_test_pred),\n",
        "    index = ['observed_crisis','observed_no_crisis'],\n",
        "    columns = ['predicted_crisis','predicted_no_crisis']\n",
        "    )"
      ],
      "execution_count": 53,
      "outputs": [
        {
          "output_type": "execute_result",
          "data": {
            "text/html": [
              "<div>\n",
              "<style scoped>\n",
              "    .dataframe tbody tr th:only-of-type {\n",
              "        vertical-align: middle;\n",
              "    }\n",
              "\n",
              "    .dataframe tbody tr th {\n",
              "        vertical-align: top;\n",
              "    }\n",
              "\n",
              "    .dataframe thead th {\n",
              "        text-align: right;\n",
              "    }\n",
              "</style>\n",
              "<table border=\"1\" class=\"dataframe\">\n",
              "  <thead>\n",
              "    <tr style=\"text-align: right;\">\n",
              "      <th></th>\n",
              "      <th>predicted_crisis</th>\n",
              "      <th>predicted_no_crisis</th>\n",
              "    </tr>\n",
              "  </thead>\n",
              "  <tbody>\n",
              "    <tr>\n",
              "      <th>observed_crisis</th>\n",
              "      <td>50</td>\n",
              "      <td>0</td>\n",
              "    </tr>\n",
              "    <tr>\n",
              "      <th>observed_no_crisis</th>\n",
              "      <td>0</td>\n",
              "      <td>372</td>\n",
              "    </tr>\n",
              "  </tbody>\n",
              "</table>\n",
              "</div>"
            ],
            "text/plain": [
              "                    predicted_crisis  predicted_no_crisis\n",
              "observed_crisis                   50                    0\n",
              "observed_no_crisis                 0                  372"
            ]
          },
          "metadata": {
            "tags": []
          },
          "execution_count": 53
        }
      ]
    },
    {
      "cell_type": "markdown",
      "metadata": {
        "colab_type": "text",
        "id": "OSgBYuHLWeGJ"
      },
      "source": [
        "Acurácia:"
      ]
    },
    {
      "cell_type": "code",
      "metadata": {
        "colab_type": "code",
        "id": "ymoIxGJiWeGJ",
        "colab": {
          "base_uri": "https://localhost:8080/",
          "height": 34
        },
        "outputId": "93be7463-7791-4a1a-a380-c3c559432944"
      },
      "source": [
        "from sklearn.metrics import accuracy_score\n",
        "acuracia = accuracy_score(y_test, y_test_pred)\n",
        "acuracia"
      ],
      "execution_count": 54,
      "outputs": [
        {
          "output_type": "execute_result",
          "data": {
            "text/plain": [
              "1.0"
            ]
          },
          "metadata": {
            "tags": []
          },
          "execution_count": 54
        }
      ]
    },
    {
      "cell_type": "markdown",
      "metadata": {
        "colab_type": "text",
        "id": "RJyuMhRVWeGM"
      },
      "source": [
        "### **Avaliação por 10-folds cross validation**"
      ]
    },
    {
      "cell_type": "markdown",
      "metadata": {
        "colab_type": "text",
        "id": "yRttnB1RWeGM"
      },
      "source": [
        "-  Configuração 1:"
      ]
    },
    {
      "cell_type": "code",
      "metadata": {
        "colab_type": "code",
        "id": "Q2DeznEYWeGN",
        "colab": {
          "base_uri": "https://localhost:8080/",
          "height": 111
        },
        "outputId": "50f4de8e-6062-46fe-922f-10008dc3c121"
      },
      "source": [
        "from sklearn.model_selection import cross_val_predict\n",
        "y_pred = cross_val_predict(model_knn1, X, y, cv=10)\n",
        "pd.DataFrame( \n",
        "    confusion_matrix(y, y_pred),\n",
        "    index = ['observed_crisis','observed_no_crisis'],\n",
        "    columns = ['predicted_crisis','predicted_no_crisis']\n",
        "    )"
      ],
      "execution_count": 55,
      "outputs": [
        {
          "output_type": "execute_result",
          "data": {
            "text/html": [
              "<div>\n",
              "<style scoped>\n",
              "    .dataframe tbody tr th:only-of-type {\n",
              "        vertical-align: middle;\n",
              "    }\n",
              "\n",
              "    .dataframe tbody tr th {\n",
              "        vertical-align: top;\n",
              "    }\n",
              "\n",
              "    .dataframe thead th {\n",
              "        text-align: right;\n",
              "    }\n",
              "</style>\n",
              "<table border=\"1\" class=\"dataframe\">\n",
              "  <thead>\n",
              "    <tr style=\"text-align: right;\">\n",
              "      <th></th>\n",
              "      <th>predicted_crisis</th>\n",
              "      <th>predicted_no_crisis</th>\n",
              "    </tr>\n",
              "  </thead>\n",
              "  <tbody>\n",
              "    <tr>\n",
              "      <th>observed_crisis</th>\n",
              "      <td>21</td>\n",
              "      <td>111</td>\n",
              "    </tr>\n",
              "    <tr>\n",
              "      <th>observed_no_crisis</th>\n",
              "      <td>36</td>\n",
              "      <td>887</td>\n",
              "    </tr>\n",
              "  </tbody>\n",
              "</table>\n",
              "</div>"
            ],
            "text/plain": [
              "                    predicted_crisis  predicted_no_crisis\n",
              "observed_crisis                   21                  111\n",
              "observed_no_crisis                36                  887"
            ]
          },
          "metadata": {
            "tags": []
          },
          "execution_count": 55
        }
      ]
    },
    {
      "cell_type": "markdown",
      "metadata": {
        "colab_type": "text",
        "id": "soPj_OPXWeGX"
      },
      "source": [
        "Acurácia:"
      ]
    },
    {
      "cell_type": "code",
      "metadata": {
        "colab_type": "code",
        "id": "cWZtCqroWeGY",
        "colab": {
          "base_uri": "https://localhost:8080/",
          "height": 34
        },
        "outputId": "9fddf6b6-de68-4022-86fa-0bde5a9f9b9c"
      },
      "source": [
        "from sklearn.metrics import accuracy_score\n",
        "acuracia = accuracy_score(y, y_pred)\n",
        "acuracia"
      ],
      "execution_count": 56,
      "outputs": [
        {
          "output_type": "execute_result",
          "data": {
            "text/plain": [
              "0.8606635071090047"
            ]
          },
          "metadata": {
            "tags": []
          },
          "execution_count": 56
        }
      ]
    },
    {
      "cell_type": "markdown",
      "metadata": {
        "colab_type": "text",
        "id": "8gEd_JgHWeGc"
      },
      "source": [
        "-  Configuração 2:"
      ]
    },
    {
      "cell_type": "code",
      "metadata": {
        "colab_type": "code",
        "id": "JMAW1YUiWeGd",
        "colab": {
          "base_uri": "https://localhost:8080/",
          "height": 111
        },
        "outputId": "b8b3b3aa-4b68-458d-9ae2-55a9a7c55667"
      },
      "source": [
        "y_pred = cross_val_predict(model_knn2, X, y, cv=10)\n",
        "pd.DataFrame( \n",
        "    confusion_matrix(y, y_pred),\n",
        "    index = ['observed_crisis','observed_no_crisis'],\n",
        "    columns = ['predicted_crisis','predicted_no_crisis']\n",
        "    )"
      ],
      "execution_count": 57,
      "outputs": [
        {
          "output_type": "execute_result",
          "data": {
            "text/html": [
              "<div>\n",
              "<style scoped>\n",
              "    .dataframe tbody tr th:only-of-type {\n",
              "        vertical-align: middle;\n",
              "    }\n",
              "\n",
              "    .dataframe tbody tr th {\n",
              "        vertical-align: top;\n",
              "    }\n",
              "\n",
              "    .dataframe thead th {\n",
              "        text-align: right;\n",
              "    }\n",
              "</style>\n",
              "<table border=\"1\" class=\"dataframe\">\n",
              "  <thead>\n",
              "    <tr style=\"text-align: right;\">\n",
              "      <th></th>\n",
              "      <th>predicted_crisis</th>\n",
              "      <th>predicted_no_crisis</th>\n",
              "    </tr>\n",
              "  </thead>\n",
              "  <tbody>\n",
              "    <tr>\n",
              "      <th>observed_crisis</th>\n",
              "      <td>31</td>\n",
              "      <td>101</td>\n",
              "    </tr>\n",
              "    <tr>\n",
              "      <th>observed_no_crisis</th>\n",
              "      <td>84</td>\n",
              "      <td>839</td>\n",
              "    </tr>\n",
              "  </tbody>\n",
              "</table>\n",
              "</div>"
            ],
            "text/plain": [
              "                    predicted_crisis  predicted_no_crisis\n",
              "observed_crisis                   31                  101\n",
              "observed_no_crisis                84                  839"
            ]
          },
          "metadata": {
            "tags": []
          },
          "execution_count": 57
        }
      ]
    },
    {
      "cell_type": "markdown",
      "metadata": {
        "colab_type": "text",
        "id": "vKjyE27SWeGi"
      },
      "source": [
        "Acurácia:"
      ]
    },
    {
      "cell_type": "code",
      "metadata": {
        "colab_type": "code",
        "id": "nFMveIqPWeGj",
        "colab": {
          "base_uri": "https://localhost:8080/",
          "height": 34
        },
        "outputId": "5b5c7fce-8bf2-46c3-942a-fc727d4386da"
      },
      "source": [
        "from sklearn.metrics import accuracy_score\n",
        "acuracia = accuracy_score(y, y_pred)\n",
        "acuracia"
      ],
      "execution_count": 58,
      "outputs": [
        {
          "output_type": "execute_result",
          "data": {
            "text/plain": [
              "0.8246445497630331"
            ]
          },
          "metadata": {
            "tags": []
          },
          "execution_count": 58
        }
      ]
    },
    {
      "cell_type": "markdown",
      "metadata": {
        "colab_type": "text",
        "id": "buPgRp21WeGr"
      },
      "source": [
        "-  Configuração 3:"
      ]
    },
    {
      "cell_type": "code",
      "metadata": {
        "colab_type": "code",
        "id": "RXvESLlCWeGs",
        "colab": {
          "base_uri": "https://localhost:8080/",
          "height": 111
        },
        "outputId": "b657e5a9-a896-4903-9836-79dd2352d61a"
      },
      "source": [
        "y_pred = cross_val_predict(model_knn3, X, y, cv=10)\n",
        "pd.DataFrame( \n",
        "    confusion_matrix(y, y_pred),\n",
        "    index = ['observed_crisis','observed_no_crisis'],\n",
        "    columns = ['predicted_crisis','predicted_no_crisis']\n",
        "    )"
      ],
      "execution_count": 59,
      "outputs": [
        {
          "output_type": "execute_result",
          "data": {
            "text/html": [
              "<div>\n",
              "<style scoped>\n",
              "    .dataframe tbody tr th:only-of-type {\n",
              "        vertical-align: middle;\n",
              "    }\n",
              "\n",
              "    .dataframe tbody tr th {\n",
              "        vertical-align: top;\n",
              "    }\n",
              "\n",
              "    .dataframe thead th {\n",
              "        text-align: right;\n",
              "    }\n",
              "</style>\n",
              "<table border=\"1\" class=\"dataframe\">\n",
              "  <thead>\n",
              "    <tr style=\"text-align: right;\">\n",
              "      <th></th>\n",
              "      <th>predicted_crisis</th>\n",
              "      <th>predicted_no_crisis</th>\n",
              "    </tr>\n",
              "  </thead>\n",
              "  <tbody>\n",
              "    <tr>\n",
              "      <th>observed_crisis</th>\n",
              "      <td>21</td>\n",
              "      <td>111</td>\n",
              "    </tr>\n",
              "    <tr>\n",
              "      <th>observed_no_crisis</th>\n",
              "      <td>71</td>\n",
              "      <td>852</td>\n",
              "    </tr>\n",
              "  </tbody>\n",
              "</table>\n",
              "</div>"
            ],
            "text/plain": [
              "                    predicted_crisis  predicted_no_crisis\n",
              "observed_crisis                   21                  111\n",
              "observed_no_crisis                71                  852"
            ]
          },
          "metadata": {
            "tags": []
          },
          "execution_count": 59
        }
      ]
    },
    {
      "cell_type": "markdown",
      "metadata": {
        "colab_type": "text",
        "id": "7hNkXVf8WeGw"
      },
      "source": [
        "Acurácia:"
      ]
    },
    {
      "cell_type": "code",
      "metadata": {
        "colab_type": "code",
        "id": "skLkTgAYWeGy",
        "colab": {
          "base_uri": "https://localhost:8080/",
          "height": 34
        },
        "outputId": "8bb7b815-f83a-4de9-c425-8eec219405d7"
      },
      "source": [
        "from sklearn.metrics import accuracy_score\n",
        "acuracia = accuracy_score(y, y_pred)\n",
        "acuracia"
      ],
      "execution_count": 60,
      "outputs": [
        {
          "output_type": "execute_result",
          "data": {
            "text/plain": [
              "0.8274881516587678"
            ]
          },
          "metadata": {
            "tags": []
          },
          "execution_count": 60
        }
      ]
    },
    {
      "cell_type": "markdown",
      "metadata": {
        "colab_type": "text",
        "id": "Lac92WgFWeG2"
      },
      "source": [
        "-  Configuração 4:"
      ]
    },
    {
      "cell_type": "code",
      "metadata": {
        "colab_type": "code",
        "id": "IhEcqeXYWeG3",
        "colab": {
          "base_uri": "https://localhost:8080/",
          "height": 111
        },
        "outputId": "e57bfafb-7618-4b45-ebf3-46a8d6be8ad3"
      },
      "source": [
        "y_pred = cross_val_predict(model_knn4, X, y, cv=10)\n",
        "pd.DataFrame( \n",
        "    confusion_matrix(y, y_pred),\n",
        "    index = ['observed_crisis','observed_no_crisis'],\n",
        "    columns = ['predicted_crisis','predicted_no_crisis']\n",
        "    )"
      ],
      "execution_count": 61,
      "outputs": [
        {
          "output_type": "execute_result",
          "data": {
            "text/html": [
              "<div>\n",
              "<style scoped>\n",
              "    .dataframe tbody tr th:only-of-type {\n",
              "        vertical-align: middle;\n",
              "    }\n",
              "\n",
              "    .dataframe tbody tr th {\n",
              "        vertical-align: top;\n",
              "    }\n",
              "\n",
              "    .dataframe thead th {\n",
              "        text-align: right;\n",
              "    }\n",
              "</style>\n",
              "<table border=\"1\" class=\"dataframe\">\n",
              "  <thead>\n",
              "    <tr style=\"text-align: right;\">\n",
              "      <th></th>\n",
              "      <th>predicted_crisis</th>\n",
              "      <th>predicted_no_crisis</th>\n",
              "    </tr>\n",
              "  </thead>\n",
              "  <tbody>\n",
              "    <tr>\n",
              "      <th>observed_crisis</th>\n",
              "      <td>19</td>\n",
              "      <td>113</td>\n",
              "    </tr>\n",
              "    <tr>\n",
              "      <th>observed_no_crisis</th>\n",
              "      <td>29</td>\n",
              "      <td>894</td>\n",
              "    </tr>\n",
              "  </tbody>\n",
              "</table>\n",
              "</div>"
            ],
            "text/plain": [
              "                    predicted_crisis  predicted_no_crisis\n",
              "observed_crisis                   19                  113\n",
              "observed_no_crisis                29                  894"
            ]
          },
          "metadata": {
            "tags": []
          },
          "execution_count": 61
        }
      ]
    },
    {
      "cell_type": "markdown",
      "metadata": {
        "colab_type": "text",
        "id": "X2vPhoM2WeG7"
      },
      "source": [
        "Acurácia:"
      ]
    },
    {
      "cell_type": "code",
      "metadata": {
        "colab_type": "code",
        "id": "SKbQ_cYaWeG8",
        "colab": {
          "base_uri": "https://localhost:8080/",
          "height": 34
        },
        "outputId": "c80ec94c-fe52-4b1f-b5ca-9935e1ed247b"
      },
      "source": [
        "from sklearn.metrics import accuracy_score\n",
        "acuracia = accuracy_score(y, y_pred)\n",
        "acuracia"
      ],
      "execution_count": 62,
      "outputs": [
        {
          "output_type": "execute_result",
          "data": {
            "text/plain": [
              "0.8654028436018958"
            ]
          },
          "metadata": {
            "tags": []
          },
          "execution_count": 62
        }
      ]
    },
    {
      "cell_type": "markdown",
      "metadata": {
        "colab_type": "text",
        "id": "d3mkuvXRWeG-"
      },
      "source": [
        "-  Configuração 5:"
      ]
    },
    {
      "cell_type": "code",
      "metadata": {
        "colab_type": "code",
        "id": "5zY-I5SaWeG_",
        "colab": {
          "base_uri": "https://localhost:8080/",
          "height": 111
        },
        "outputId": "b84b4a19-a1c4-4533-f484-63353459676f"
      },
      "source": [
        "y_pred = cross_val_predict(model_knn5, X, y, cv=10)\n",
        "pd.DataFrame( \n",
        "    confusion_matrix(y, y_pred),\n",
        "    index = ['observed_crisis','observed_no_crisis'],\n",
        "    columns = ['predicted_crisis','predicted_no_crisis']\n",
        "    )"
      ],
      "execution_count": 63,
      "outputs": [
        {
          "output_type": "execute_result",
          "data": {
            "text/html": [
              "<div>\n",
              "<style scoped>\n",
              "    .dataframe tbody tr th:only-of-type {\n",
              "        vertical-align: middle;\n",
              "    }\n",
              "\n",
              "    .dataframe tbody tr th {\n",
              "        vertical-align: top;\n",
              "    }\n",
              "\n",
              "    .dataframe thead th {\n",
              "        text-align: right;\n",
              "    }\n",
              "</style>\n",
              "<table border=\"1\" class=\"dataframe\">\n",
              "  <thead>\n",
              "    <tr style=\"text-align: right;\">\n",
              "      <th></th>\n",
              "      <th>predicted_crisis</th>\n",
              "      <th>predicted_no_crisis</th>\n",
              "    </tr>\n",
              "  </thead>\n",
              "  <tbody>\n",
              "    <tr>\n",
              "      <th>observed_crisis</th>\n",
              "      <td>20</td>\n",
              "      <td>112</td>\n",
              "    </tr>\n",
              "    <tr>\n",
              "      <th>observed_no_crisis</th>\n",
              "      <td>38</td>\n",
              "      <td>885</td>\n",
              "    </tr>\n",
              "  </tbody>\n",
              "</table>\n",
              "</div>"
            ],
            "text/plain": [
              "                    predicted_crisis  predicted_no_crisis\n",
              "observed_crisis                   20                  112\n",
              "observed_no_crisis                38                  885"
            ]
          },
          "metadata": {
            "tags": []
          },
          "execution_count": 63
        }
      ]
    },
    {
      "cell_type": "markdown",
      "metadata": {
        "colab_type": "text",
        "id": "uxqvjIXiWeHB"
      },
      "source": [
        "Acurácia:"
      ]
    },
    {
      "cell_type": "code",
      "metadata": {
        "colab_type": "code",
        "id": "oCnz3UxOWeHB",
        "colab": {
          "base_uri": "https://localhost:8080/",
          "height": 34
        },
        "outputId": "26757afa-0b1c-480e-81aa-c50212cb67d8"
      },
      "source": [
        "from sklearn.metrics import accuracy_score\n",
        "acuracia = accuracy_score(y, y_pred)\n",
        "acuracia"
      ],
      "execution_count": 64,
      "outputs": [
        {
          "output_type": "execute_result",
          "data": {
            "text/plain": [
              "0.8578199052132701"
            ]
          },
          "metadata": {
            "tags": []
          },
          "execution_count": 64
        }
      ]
    },
    {
      "cell_type": "markdown",
      "metadata": {
        "colab_type": "text",
        "id": "MF2NPp5wYUpa"
      },
      "source": [
        "---\n",
        "## *SVM*"
      ]
    },
    {
      "cell_type": "markdown",
      "metadata": {
        "colab_type": "text",
        "id": "Tlg6K88VYUpd"
      },
      "source": [
        "### **Avaliação por Holdout**"
      ]
    },
    {
      "cell_type": "markdown",
      "metadata": {
        "colab_type": "text",
        "id": "wjFyRkHNYUpi"
      },
      "source": [
        "**Conjunto de Treino**"
      ]
    },
    {
      "cell_type": "markdown",
      "metadata": {
        "colab_type": "text",
        "id": "6QalTEyaYUpj"
      },
      "source": [
        "-  Configuração 1:"
      ]
    },
    {
      "cell_type": "code",
      "metadata": {
        "colab_type": "code",
        "id": "mjxAHo5FYUpk",
        "colab": {
          "base_uri": "https://localhost:8080/",
          "height": 111
        },
        "outputId": "90f856f2-6b7c-4ff7-e327-0d6815cd66dd"
      },
      "source": [
        "y_train_pred = model_svm1.predict(X_train)\n",
        "pd.DataFrame( \n",
        "    confusion_matrix(y_train, y_train_pred),\n",
        "    index = ['observed_crisis','observed_no_crisis'],\n",
        "    columns = ['predicted_crisis','predicted_no_crisis']\n",
        "    )"
      ],
      "execution_count": 65,
      "outputs": [
        {
          "output_type": "execute_result",
          "data": {
            "text/html": [
              "<div>\n",
              "<style scoped>\n",
              "    .dataframe tbody tr th:only-of-type {\n",
              "        vertical-align: middle;\n",
              "    }\n",
              "\n",
              "    .dataframe tbody tr th {\n",
              "        vertical-align: top;\n",
              "    }\n",
              "\n",
              "    .dataframe thead th {\n",
              "        text-align: right;\n",
              "    }\n",
              "</style>\n",
              "<table border=\"1\" class=\"dataframe\">\n",
              "  <thead>\n",
              "    <tr style=\"text-align: right;\">\n",
              "      <th></th>\n",
              "      <th>predicted_crisis</th>\n",
              "      <th>predicted_no_crisis</th>\n",
              "    </tr>\n",
              "  </thead>\n",
              "  <tbody>\n",
              "    <tr>\n",
              "      <th>observed_crisis</th>\n",
              "      <td>0</td>\n",
              "      <td>82</td>\n",
              "    </tr>\n",
              "    <tr>\n",
              "      <th>observed_no_crisis</th>\n",
              "      <td>0</td>\n",
              "      <td>551</td>\n",
              "    </tr>\n",
              "  </tbody>\n",
              "</table>\n",
              "</div>"
            ],
            "text/plain": [
              "                    predicted_crisis  predicted_no_crisis\n",
              "observed_crisis                    0                   82\n",
              "observed_no_crisis                 0                  551"
            ]
          },
          "metadata": {
            "tags": []
          },
          "execution_count": 65
        }
      ]
    },
    {
      "cell_type": "markdown",
      "metadata": {
        "colab_type": "text",
        "id": "i623JHNCYUpm"
      },
      "source": [
        "-  Configuração 2:"
      ]
    },
    {
      "cell_type": "code",
      "metadata": {
        "colab_type": "code",
        "id": "NRF2RqY-YUpn",
        "colab": {
          "base_uri": "https://localhost:8080/",
          "height": 111
        },
        "outputId": "67058cef-0222-4a3c-c5c5-684a5d0300f7"
      },
      "source": [
        "y_train_pred = model_svm2.predict(X_train)\n",
        "pd.DataFrame( \n",
        "    confusion_matrix(y_train, y_train_pred),\n",
        "    index = ['observed_crisis','observed_no_crisis'],\n",
        "    columns = ['predicted_crisis','predicted_no_crisis']\n",
        "    )"
      ],
      "execution_count": 90,
      "outputs": [
        {
          "output_type": "execute_result",
          "data": {
            "text/html": [
              "<div>\n",
              "<style scoped>\n",
              "    .dataframe tbody tr th:only-of-type {\n",
              "        vertical-align: middle;\n",
              "    }\n",
              "\n",
              "    .dataframe tbody tr th {\n",
              "        vertical-align: top;\n",
              "    }\n",
              "\n",
              "    .dataframe thead th {\n",
              "        text-align: right;\n",
              "    }\n",
              "</style>\n",
              "<table border=\"1\" class=\"dataframe\">\n",
              "  <thead>\n",
              "    <tr style=\"text-align: right;\">\n",
              "      <th></th>\n",
              "      <th>predicted_crisis</th>\n",
              "      <th>predicted_no_crisis</th>\n",
              "    </tr>\n",
              "  </thead>\n",
              "  <tbody>\n",
              "    <tr>\n",
              "      <th>observed_crisis</th>\n",
              "      <td>0</td>\n",
              "      <td>82</td>\n",
              "    </tr>\n",
              "    <tr>\n",
              "      <th>observed_no_crisis</th>\n",
              "      <td>0</td>\n",
              "      <td>551</td>\n",
              "    </tr>\n",
              "  </tbody>\n",
              "</table>\n",
              "</div>"
            ],
            "text/plain": [
              "                    predicted_crisis  predicted_no_crisis\n",
              "observed_crisis                    0                   82\n",
              "observed_no_crisis                 0                  551"
            ]
          },
          "metadata": {
            "tags": []
          },
          "execution_count": 90
        }
      ]
    },
    {
      "cell_type": "markdown",
      "metadata": {
        "colab_type": "text",
        "id": "-KDveykbYUpp"
      },
      "source": [
        "-  Configuração 3:"
      ]
    },
    {
      "cell_type": "code",
      "metadata": {
        "colab_type": "code",
        "id": "_y7Dd7qaYUpq",
        "colab": {
          "base_uri": "https://localhost:8080/",
          "height": 111
        },
        "outputId": "a452011e-da88-4b12-a94b-fbf2f747d5f7"
      },
      "source": [
        "y_train_pred = model_svm3.predict(X_train)\n",
        "pd.DataFrame( \n",
        "    confusion_matrix(y_train, y_train_pred),\n",
        "    index = ['observed_crisis','observed_no_crisis'],\n",
        "    columns = ['predicted_crisis','predicted_no_crisis']\n",
        "    )"
      ],
      "execution_count": 91,
      "outputs": [
        {
          "output_type": "execute_result",
          "data": {
            "text/html": [
              "<div>\n",
              "<style scoped>\n",
              "    .dataframe tbody tr th:only-of-type {\n",
              "        vertical-align: middle;\n",
              "    }\n",
              "\n",
              "    .dataframe tbody tr th {\n",
              "        vertical-align: top;\n",
              "    }\n",
              "\n",
              "    .dataframe thead th {\n",
              "        text-align: right;\n",
              "    }\n",
              "</style>\n",
              "<table border=\"1\" class=\"dataframe\">\n",
              "  <thead>\n",
              "    <tr style=\"text-align: right;\">\n",
              "      <th></th>\n",
              "      <th>predicted_crisis</th>\n",
              "      <th>predicted_no_crisis</th>\n",
              "    </tr>\n",
              "  </thead>\n",
              "  <tbody>\n",
              "    <tr>\n",
              "      <th>observed_crisis</th>\n",
              "      <td>24</td>\n",
              "      <td>58</td>\n",
              "    </tr>\n",
              "    <tr>\n",
              "      <th>observed_no_crisis</th>\n",
              "      <td>11</td>\n",
              "      <td>540</td>\n",
              "    </tr>\n",
              "  </tbody>\n",
              "</table>\n",
              "</div>"
            ],
            "text/plain": [
              "                    predicted_crisis  predicted_no_crisis\n",
              "observed_crisis                   24                   58\n",
              "observed_no_crisis                11                  540"
            ]
          },
          "metadata": {
            "tags": []
          },
          "execution_count": 91
        }
      ]
    },
    {
      "cell_type": "markdown",
      "metadata": {
        "colab_type": "text",
        "id": "LagdO9dZYUps"
      },
      "source": [
        "-  Configuração 4:"
      ]
    },
    {
      "cell_type": "code",
      "metadata": {
        "colab_type": "code",
        "id": "o_cbn9cEYUpt",
        "colab": {
          "base_uri": "https://localhost:8080/",
          "height": 111
        },
        "outputId": "5d45f46a-10ea-4c66-89d3-10560e384ae4"
      },
      "source": [
        "y_train_pred = model_svm4.predict(X_train)\n",
        "pd.DataFrame( \n",
        "    confusion_matrix(y_train, y_train_pred),\n",
        "    index = ['observed_crisis','observed_no_crisis'],\n",
        "    columns = ['predicted_crisis','predicted_no_crisis']\n",
        "    )"
      ],
      "execution_count": 92,
      "outputs": [
        {
          "output_type": "execute_result",
          "data": {
            "text/html": [
              "<div>\n",
              "<style scoped>\n",
              "    .dataframe tbody tr th:only-of-type {\n",
              "        vertical-align: middle;\n",
              "    }\n",
              "\n",
              "    .dataframe tbody tr th {\n",
              "        vertical-align: top;\n",
              "    }\n",
              "\n",
              "    .dataframe thead th {\n",
              "        text-align: right;\n",
              "    }\n",
              "</style>\n",
              "<table border=\"1\" class=\"dataframe\">\n",
              "  <thead>\n",
              "    <tr style=\"text-align: right;\">\n",
              "      <th></th>\n",
              "      <th>predicted_crisis</th>\n",
              "      <th>predicted_no_crisis</th>\n",
              "    </tr>\n",
              "  </thead>\n",
              "  <tbody>\n",
              "    <tr>\n",
              "      <th>observed_crisis</th>\n",
              "      <td>0</td>\n",
              "      <td>82</td>\n",
              "    </tr>\n",
              "    <tr>\n",
              "      <th>observed_no_crisis</th>\n",
              "      <td>0</td>\n",
              "      <td>551</td>\n",
              "    </tr>\n",
              "  </tbody>\n",
              "</table>\n",
              "</div>"
            ],
            "text/plain": [
              "                    predicted_crisis  predicted_no_crisis\n",
              "observed_crisis                    0                   82\n",
              "observed_no_crisis                 0                  551"
            ]
          },
          "metadata": {
            "tags": []
          },
          "execution_count": 92
        }
      ]
    },
    {
      "cell_type": "markdown",
      "metadata": {
        "colab_type": "text",
        "id": "fxoL9atSYUpx"
      },
      "source": [
        "-  Configuração 5:"
      ]
    },
    {
      "cell_type": "code",
      "metadata": {
        "colab_type": "code",
        "id": "XyLoZCd3YUpy",
        "colab": {
          "base_uri": "https://localhost:8080/",
          "height": 111
        },
        "outputId": "052e4233-4ad6-4272-c6d4-1c3dd3e2965a"
      },
      "source": [
        "y_train_pred = model_svm5.predict(X_train)\n",
        "pd.DataFrame( \n",
        "    confusion_matrix(y_train, y_train_pred),\n",
        "    index = ['observed_crisis','observed_no_crisis'],\n",
        "    columns = ['predicted_crisis','predicted_no_crisis']\n",
        "    )"
      ],
      "execution_count": 93,
      "outputs": [
        {
          "output_type": "execute_result",
          "data": {
            "text/html": [
              "<div>\n",
              "<style scoped>\n",
              "    .dataframe tbody tr th:only-of-type {\n",
              "        vertical-align: middle;\n",
              "    }\n",
              "\n",
              "    .dataframe tbody tr th {\n",
              "        vertical-align: top;\n",
              "    }\n",
              "\n",
              "    .dataframe thead th {\n",
              "        text-align: right;\n",
              "    }\n",
              "</style>\n",
              "<table border=\"1\" class=\"dataframe\">\n",
              "  <thead>\n",
              "    <tr style=\"text-align: right;\">\n",
              "      <th></th>\n",
              "      <th>predicted_crisis</th>\n",
              "      <th>predicted_no_crisis</th>\n",
              "    </tr>\n",
              "  </thead>\n",
              "  <tbody>\n",
              "    <tr>\n",
              "      <th>observed_crisis</th>\n",
              "      <td>73</td>\n",
              "      <td>9</td>\n",
              "    </tr>\n",
              "    <tr>\n",
              "      <th>observed_no_crisis</th>\n",
              "      <td>397</td>\n",
              "      <td>154</td>\n",
              "    </tr>\n",
              "  </tbody>\n",
              "</table>\n",
              "</div>"
            ],
            "text/plain": [
              "                    predicted_crisis  predicted_no_crisis\n",
              "observed_crisis                   73                    9\n",
              "observed_no_crisis               397                  154"
            ]
          },
          "metadata": {
            "tags": []
          },
          "execution_count": 93
        }
      ]
    },
    {
      "cell_type": "markdown",
      "metadata": {
        "colab_type": "text",
        "id": "zuXnJJ4FYUp0"
      },
      "source": [
        "Acurácia:"
      ]
    },
    {
      "cell_type": "code",
      "metadata": {
        "colab_type": "code",
        "id": "xbay-_N5YUp1",
        "colab": {
          "base_uri": "https://localhost:8080/",
          "height": 34
        },
        "outputId": "a02ba0fb-531d-4438-b6e5-2ff5244957af"
      },
      "source": [
        "from sklearn.metrics import accuracy_score\n",
        "acuracia = accuracy_score(y_train, y_train_pred)\n",
        "acuracia"
      ],
      "execution_count": 94,
      "outputs": [
        {
          "output_type": "execute_result",
          "data": {
            "text/plain": [
              "0.358609794628752"
            ]
          },
          "metadata": {
            "tags": []
          },
          "execution_count": 94
        }
      ]
    },
    {
      "cell_type": "markdown",
      "metadata": {
        "colab_type": "text",
        "id": "_Rxq5ylTYUp3"
      },
      "source": [
        "**Conjunto de Teste**"
      ]
    },
    {
      "cell_type": "markdown",
      "metadata": {
        "colab_type": "text",
        "id": "LKGCX7nFYUp4"
      },
      "source": [
        "-  Configuração 1:"
      ]
    },
    {
      "cell_type": "code",
      "metadata": {
        "colab_type": "code",
        "id": "zYT8Ty6kYUp5",
        "colab": {
          "base_uri": "https://localhost:8080/",
          "height": 111
        },
        "outputId": "4f91d062-3035-4847-8abd-c901350320f0"
      },
      "source": [
        "y_test_pred = model_svm1.predict(X_test)\n",
        "pd.DataFrame( \n",
        "    confusion_matrix(y_test, y_test_pred),\n",
        "    index = ['observed_crisis','observed_no_crisis'],\n",
        "    columns = ['predicted_crisis','predicted_no_crisis']\n",
        "    )"
      ],
      "execution_count": 95,
      "outputs": [
        {
          "output_type": "execute_result",
          "data": {
            "text/html": [
              "<div>\n",
              "<style scoped>\n",
              "    .dataframe tbody tr th:only-of-type {\n",
              "        vertical-align: middle;\n",
              "    }\n",
              "\n",
              "    .dataframe tbody tr th {\n",
              "        vertical-align: top;\n",
              "    }\n",
              "\n",
              "    .dataframe thead th {\n",
              "        text-align: right;\n",
              "    }\n",
              "</style>\n",
              "<table border=\"1\" class=\"dataframe\">\n",
              "  <thead>\n",
              "    <tr style=\"text-align: right;\">\n",
              "      <th></th>\n",
              "      <th>predicted_crisis</th>\n",
              "      <th>predicted_no_crisis</th>\n",
              "    </tr>\n",
              "  </thead>\n",
              "  <tbody>\n",
              "    <tr>\n",
              "      <th>observed_crisis</th>\n",
              "      <td>0</td>\n",
              "      <td>50</td>\n",
              "    </tr>\n",
              "    <tr>\n",
              "      <th>observed_no_crisis</th>\n",
              "      <td>0</td>\n",
              "      <td>372</td>\n",
              "    </tr>\n",
              "  </tbody>\n",
              "</table>\n",
              "</div>"
            ],
            "text/plain": [
              "                    predicted_crisis  predicted_no_crisis\n",
              "observed_crisis                    0                   50\n",
              "observed_no_crisis                 0                  372"
            ]
          },
          "metadata": {
            "tags": []
          },
          "execution_count": 95
        }
      ]
    },
    {
      "cell_type": "markdown",
      "metadata": {
        "colab_type": "text",
        "id": "cWKxSZ0tYUp7"
      },
      "source": [
        "-  Configuração 2:"
      ]
    },
    {
      "cell_type": "code",
      "metadata": {
        "colab_type": "code",
        "id": "pbPPIarxYUp8",
        "colab": {
          "base_uri": "https://localhost:8080/",
          "height": 111
        },
        "outputId": "005fea23-65a8-4d10-f415-ea04ed8a76ef"
      },
      "source": [
        "y_test_pred = model_svm2.predict(X_test)\n",
        "pd.DataFrame( \n",
        "    confusion_matrix(y_test, y_test_pred),\n",
        "    index = ['observed_crisis','observed_no_crisis'],\n",
        "    columns = ['predicted_crisis','predicted_no_crisis']\n",
        "    )"
      ],
      "execution_count": 96,
      "outputs": [
        {
          "output_type": "execute_result",
          "data": {
            "text/html": [
              "<div>\n",
              "<style scoped>\n",
              "    .dataframe tbody tr th:only-of-type {\n",
              "        vertical-align: middle;\n",
              "    }\n",
              "\n",
              "    .dataframe tbody tr th {\n",
              "        vertical-align: top;\n",
              "    }\n",
              "\n",
              "    .dataframe thead th {\n",
              "        text-align: right;\n",
              "    }\n",
              "</style>\n",
              "<table border=\"1\" class=\"dataframe\">\n",
              "  <thead>\n",
              "    <tr style=\"text-align: right;\">\n",
              "      <th></th>\n",
              "      <th>predicted_crisis</th>\n",
              "      <th>predicted_no_crisis</th>\n",
              "    </tr>\n",
              "  </thead>\n",
              "  <tbody>\n",
              "    <tr>\n",
              "      <th>observed_crisis</th>\n",
              "      <td>0</td>\n",
              "      <td>50</td>\n",
              "    </tr>\n",
              "    <tr>\n",
              "      <th>observed_no_crisis</th>\n",
              "      <td>0</td>\n",
              "      <td>372</td>\n",
              "    </tr>\n",
              "  </tbody>\n",
              "</table>\n",
              "</div>"
            ],
            "text/plain": [
              "                    predicted_crisis  predicted_no_crisis\n",
              "observed_crisis                    0                   50\n",
              "observed_no_crisis                 0                  372"
            ]
          },
          "metadata": {
            "tags": []
          },
          "execution_count": 96
        }
      ]
    },
    {
      "cell_type": "markdown",
      "metadata": {
        "colab_type": "text",
        "id": "E0BbYRTvYUp-"
      },
      "source": [
        "-  Configuração 3:"
      ]
    },
    {
      "cell_type": "code",
      "metadata": {
        "colab_type": "code",
        "id": "is5Gg0UjYUp_",
        "colab": {
          "base_uri": "https://localhost:8080/",
          "height": 111
        },
        "outputId": "a10ce45b-0111-4344-fa3a-9002c5cab1b3"
      },
      "source": [
        "y_test_pred = model_svm3.predict(X_test)\n",
        "pd.DataFrame( \n",
        "    confusion_matrix(y_test, y_test_pred),\n",
        "    index = ['observed_crisis','observed_no_crisis'],\n",
        "    columns = ['predicted_crisis','predicted_no_crisis']\n",
        "    )"
      ],
      "execution_count": 97,
      "outputs": [
        {
          "output_type": "execute_result",
          "data": {
            "text/html": [
              "<div>\n",
              "<style scoped>\n",
              "    .dataframe tbody tr th:only-of-type {\n",
              "        vertical-align: middle;\n",
              "    }\n",
              "\n",
              "    .dataframe tbody tr th {\n",
              "        vertical-align: top;\n",
              "    }\n",
              "\n",
              "    .dataframe thead th {\n",
              "        text-align: right;\n",
              "    }\n",
              "</style>\n",
              "<table border=\"1\" class=\"dataframe\">\n",
              "  <thead>\n",
              "    <tr style=\"text-align: right;\">\n",
              "      <th></th>\n",
              "      <th>predicted_crisis</th>\n",
              "      <th>predicted_no_crisis</th>\n",
              "    </tr>\n",
              "  </thead>\n",
              "  <tbody>\n",
              "    <tr>\n",
              "      <th>observed_crisis</th>\n",
              "      <td>20</td>\n",
              "      <td>30</td>\n",
              "    </tr>\n",
              "    <tr>\n",
              "      <th>observed_no_crisis</th>\n",
              "      <td>6</td>\n",
              "      <td>366</td>\n",
              "    </tr>\n",
              "  </tbody>\n",
              "</table>\n",
              "</div>"
            ],
            "text/plain": [
              "                    predicted_crisis  predicted_no_crisis\n",
              "observed_crisis                   20                   30\n",
              "observed_no_crisis                 6                  366"
            ]
          },
          "metadata": {
            "tags": []
          },
          "execution_count": 97
        }
      ]
    },
    {
      "cell_type": "markdown",
      "metadata": {
        "colab_type": "text",
        "id": "7pJZ9_qHYUqC"
      },
      "source": [
        "-  Configuração 4:"
      ]
    },
    {
      "cell_type": "code",
      "metadata": {
        "colab_type": "code",
        "id": "WNGyGzNoYUqD",
        "colab": {
          "base_uri": "https://localhost:8080/",
          "height": 111
        },
        "outputId": "6ce53119-0ce3-4a8b-ca08-16904248898c"
      },
      "source": [
        "y_test_pred = model_svm4.predict(X_test)\n",
        "pd.DataFrame( \n",
        "    confusion_matrix(y_test, y_test_pred),\n",
        "    index = ['observed_crisis','observed_no_crisis'],\n",
        "    columns = ['predicted_crisis','predicted_no_crisis']\n",
        "    )"
      ],
      "execution_count": 98,
      "outputs": [
        {
          "output_type": "execute_result",
          "data": {
            "text/html": [
              "<div>\n",
              "<style scoped>\n",
              "    .dataframe tbody tr th:only-of-type {\n",
              "        vertical-align: middle;\n",
              "    }\n",
              "\n",
              "    .dataframe tbody tr th {\n",
              "        vertical-align: top;\n",
              "    }\n",
              "\n",
              "    .dataframe thead th {\n",
              "        text-align: right;\n",
              "    }\n",
              "</style>\n",
              "<table border=\"1\" class=\"dataframe\">\n",
              "  <thead>\n",
              "    <tr style=\"text-align: right;\">\n",
              "      <th></th>\n",
              "      <th>predicted_crisis</th>\n",
              "      <th>predicted_no_crisis</th>\n",
              "    </tr>\n",
              "  </thead>\n",
              "  <tbody>\n",
              "    <tr>\n",
              "      <th>observed_crisis</th>\n",
              "      <td>0</td>\n",
              "      <td>50</td>\n",
              "    </tr>\n",
              "    <tr>\n",
              "      <th>observed_no_crisis</th>\n",
              "      <td>0</td>\n",
              "      <td>372</td>\n",
              "    </tr>\n",
              "  </tbody>\n",
              "</table>\n",
              "</div>"
            ],
            "text/plain": [
              "                    predicted_crisis  predicted_no_crisis\n",
              "observed_crisis                    0                   50\n",
              "observed_no_crisis                 0                  372"
            ]
          },
          "metadata": {
            "tags": []
          },
          "execution_count": 98
        }
      ]
    },
    {
      "cell_type": "markdown",
      "metadata": {
        "colab_type": "text",
        "id": "CAjmU9xTYUqG"
      },
      "source": [
        "-  Configuração 5:"
      ]
    },
    {
      "cell_type": "code",
      "metadata": {
        "colab_type": "code",
        "id": "WkZWhxIHYUqJ",
        "colab": {
          "base_uri": "https://localhost:8080/",
          "height": 111
        },
        "outputId": "04d6480f-0e83-4de7-ce0b-d01f1bbf1eb3"
      },
      "source": [
        "y_test_pred = model_svm5.predict(X_test)\n",
        "pd.DataFrame( \n",
        "    confusion_matrix(y_test, y_test_pred),\n",
        "    index = ['observed_crisis','observed_no_crisis'],\n",
        "    columns = ['predicted_crisis','predicted_no_crisis']\n",
        "    )"
      ],
      "execution_count": 99,
      "outputs": [
        {
          "output_type": "execute_result",
          "data": {
            "text/html": [
              "<div>\n",
              "<style scoped>\n",
              "    .dataframe tbody tr th:only-of-type {\n",
              "        vertical-align: middle;\n",
              "    }\n",
              "\n",
              "    .dataframe tbody tr th {\n",
              "        vertical-align: top;\n",
              "    }\n",
              "\n",
              "    .dataframe thead th {\n",
              "        text-align: right;\n",
              "    }\n",
              "</style>\n",
              "<table border=\"1\" class=\"dataframe\">\n",
              "  <thead>\n",
              "    <tr style=\"text-align: right;\">\n",
              "      <th></th>\n",
              "      <th>predicted_crisis</th>\n",
              "      <th>predicted_no_crisis</th>\n",
              "    </tr>\n",
              "  </thead>\n",
              "  <tbody>\n",
              "    <tr>\n",
              "      <th>observed_crisis</th>\n",
              "      <td>43</td>\n",
              "      <td>7</td>\n",
              "    </tr>\n",
              "    <tr>\n",
              "      <th>observed_no_crisis</th>\n",
              "      <td>269</td>\n",
              "      <td>103</td>\n",
              "    </tr>\n",
              "  </tbody>\n",
              "</table>\n",
              "</div>"
            ],
            "text/plain": [
              "                    predicted_crisis  predicted_no_crisis\n",
              "observed_crisis                   43                    7\n",
              "observed_no_crisis               269                  103"
            ]
          },
          "metadata": {
            "tags": []
          },
          "execution_count": 99
        }
      ]
    },
    {
      "cell_type": "markdown",
      "metadata": {
        "colab_type": "text",
        "id": "Sm5OVVNZYUqO"
      },
      "source": [
        "Acurácia:"
      ]
    },
    {
      "cell_type": "code",
      "metadata": {
        "colab_type": "code",
        "id": "JLaHQ0T-YUqO",
        "colab": {
          "base_uri": "https://localhost:8080/",
          "height": 34
        },
        "outputId": "d0c880cd-3624-4cfd-b8de-81e148a03f4e"
      },
      "source": [
        "from sklearn.metrics import accuracy_score\n",
        "acuracia = accuracy_score(y_test, y_test_pred)\n",
        "acuracia"
      ],
      "execution_count": 100,
      "outputs": [
        {
          "output_type": "execute_result",
          "data": {
            "text/plain": [
              "0.3459715639810427"
            ]
          },
          "metadata": {
            "tags": []
          },
          "execution_count": 100
        }
      ]
    },
    {
      "cell_type": "markdown",
      "metadata": {
        "colab_type": "text",
        "id": "Ml8PK63SYUqU"
      },
      "source": [
        "### **Avaliação por 10-folds cross validation**"
      ]
    },
    {
      "cell_type": "markdown",
      "metadata": {
        "colab_type": "text",
        "id": "Y3t5DrOaYUqU"
      },
      "source": [
        "-  Configuração 1:"
      ]
    },
    {
      "cell_type": "code",
      "metadata": {
        "colab_type": "code",
        "id": "ffdOYqbaYUqW",
        "colab": {
          "base_uri": "https://localhost:8080/",
          "height": 111
        },
        "outputId": "2527ba6b-1512-46ac-b5bf-cc2490bac720"
      },
      "source": [
        "from sklearn.model_selection import cross_val_predict\n",
        "y_pred = cross_val_predict(model_svm1, X, y, cv=10)\n",
        "pd.DataFrame( \n",
        "    confusion_matrix(y, y_pred),\n",
        "    index = ['observed_crisis','observed_no_crisis'],\n",
        "    columns = ['predicted_crisis','predicted_no_crisis']\n",
        "    )"
      ],
      "execution_count": 101,
      "outputs": [
        {
          "output_type": "execute_result",
          "data": {
            "text/html": [
              "<div>\n",
              "<style scoped>\n",
              "    .dataframe tbody tr th:only-of-type {\n",
              "        vertical-align: middle;\n",
              "    }\n",
              "\n",
              "    .dataframe tbody tr th {\n",
              "        vertical-align: top;\n",
              "    }\n",
              "\n",
              "    .dataframe thead th {\n",
              "        text-align: right;\n",
              "    }\n",
              "</style>\n",
              "<table border=\"1\" class=\"dataframe\">\n",
              "  <thead>\n",
              "    <tr style=\"text-align: right;\">\n",
              "      <th></th>\n",
              "      <th>predicted_crisis</th>\n",
              "      <th>predicted_no_crisis</th>\n",
              "    </tr>\n",
              "  </thead>\n",
              "  <tbody>\n",
              "    <tr>\n",
              "      <th>observed_crisis</th>\n",
              "      <td>0</td>\n",
              "      <td>132</td>\n",
              "    </tr>\n",
              "    <tr>\n",
              "      <th>observed_no_crisis</th>\n",
              "      <td>0</td>\n",
              "      <td>923</td>\n",
              "    </tr>\n",
              "  </tbody>\n",
              "</table>\n",
              "</div>"
            ],
            "text/plain": [
              "                    predicted_crisis  predicted_no_crisis\n",
              "observed_crisis                    0                  132\n",
              "observed_no_crisis                 0                  923"
            ]
          },
          "metadata": {
            "tags": []
          },
          "execution_count": 101
        }
      ]
    },
    {
      "cell_type": "markdown",
      "metadata": {
        "colab_type": "text",
        "id": "502jfgcNYUqb"
      },
      "source": [
        "Acurácia:"
      ]
    },
    {
      "cell_type": "code",
      "metadata": {
        "colab_type": "code",
        "id": "254y6ix4YUqc",
        "colab": {
          "base_uri": "https://localhost:8080/",
          "height": 34
        },
        "outputId": "41fe0c9f-ce6c-4dd2-c104-9447cd1331bf"
      },
      "source": [
        "from sklearn.metrics import accuracy_score\n",
        "acuracia = accuracy_score(y, y_pred)\n",
        "acuracia"
      ],
      "execution_count": 102,
      "outputs": [
        {
          "output_type": "execute_result",
          "data": {
            "text/plain": [
              "0.8748815165876778"
            ]
          },
          "metadata": {
            "tags": []
          },
          "execution_count": 102
        }
      ]
    },
    {
      "cell_type": "markdown",
      "metadata": {
        "colab_type": "text",
        "id": "4Evrpb5lYUqe"
      },
      "source": [
        "-  Configuração 2:"
      ]
    },
    {
      "cell_type": "code",
      "metadata": {
        "colab_type": "code",
        "id": "MWyRaqMqYUqf",
        "colab": {
          "base_uri": "https://localhost:8080/",
          "height": 111
        },
        "outputId": "d525108e-2e73-438d-98e3-da21f632cb52"
      },
      "source": [
        "y_pred = cross_val_predict(model_svm2, X, y, cv=10)\n",
        "pd.DataFrame( \n",
        "    confusion_matrix(y, y_pred),\n",
        "    index = ['observed_crisis','observed_no_crisis'],\n",
        "    columns = ['predicted_crisis','predicted_no_crisis']\n",
        "    )"
      ],
      "execution_count": 103,
      "outputs": [
        {
          "output_type": "execute_result",
          "data": {
            "text/html": [
              "<div>\n",
              "<style scoped>\n",
              "    .dataframe tbody tr th:only-of-type {\n",
              "        vertical-align: middle;\n",
              "    }\n",
              "\n",
              "    .dataframe tbody tr th {\n",
              "        vertical-align: top;\n",
              "    }\n",
              "\n",
              "    .dataframe thead th {\n",
              "        text-align: right;\n",
              "    }\n",
              "</style>\n",
              "<table border=\"1\" class=\"dataframe\">\n",
              "  <thead>\n",
              "    <tr style=\"text-align: right;\">\n",
              "      <th></th>\n",
              "      <th>predicted_crisis</th>\n",
              "      <th>predicted_no_crisis</th>\n",
              "    </tr>\n",
              "  </thead>\n",
              "  <tbody>\n",
              "    <tr>\n",
              "      <th>observed_crisis</th>\n",
              "      <td>0</td>\n",
              "      <td>132</td>\n",
              "    </tr>\n",
              "    <tr>\n",
              "      <th>observed_no_crisis</th>\n",
              "      <td>0</td>\n",
              "      <td>923</td>\n",
              "    </tr>\n",
              "  </tbody>\n",
              "</table>\n",
              "</div>"
            ],
            "text/plain": [
              "                    predicted_crisis  predicted_no_crisis\n",
              "observed_crisis                    0                  132\n",
              "observed_no_crisis                 0                  923"
            ]
          },
          "metadata": {
            "tags": []
          },
          "execution_count": 103
        }
      ]
    },
    {
      "cell_type": "markdown",
      "metadata": {
        "colab_type": "text",
        "id": "evvywOqFYUqh"
      },
      "source": [
        "Acurácia:"
      ]
    },
    {
      "cell_type": "code",
      "metadata": {
        "colab_type": "code",
        "id": "sI4zsq4tYUqi",
        "colab": {
          "base_uri": "https://localhost:8080/",
          "height": 34
        },
        "outputId": "55b76cee-f7ef-411c-b230-10f4d6f27176"
      },
      "source": [
        "from sklearn.metrics import accuracy_score\n",
        "acuracia = accuracy_score(y, y_pred)\n",
        "acuracia"
      ],
      "execution_count": 104,
      "outputs": [
        {
          "output_type": "execute_result",
          "data": {
            "text/plain": [
              "0.8748815165876778"
            ]
          },
          "metadata": {
            "tags": []
          },
          "execution_count": 104
        }
      ]
    },
    {
      "cell_type": "markdown",
      "metadata": {
        "colab_type": "text",
        "id": "sQA5RkokYUqk"
      },
      "source": [
        "-  Configuração 3:"
      ]
    },
    {
      "cell_type": "code",
      "metadata": {
        "colab_type": "code",
        "id": "7iBwgekKYUql",
        "colab": {
          "base_uri": "https://localhost:8080/",
          "height": 111
        },
        "outputId": "ff4031c5-f204-4244-a987-2daf6c44ad73"
      },
      "source": [
        "y_pred = cross_val_predict(model_svm3, X, y, cv=10)\n",
        "pd.DataFrame( \n",
        "    confusion_matrix(y, y_pred),\n",
        "    index = ['observed_crisis','observed_no_crisis'],\n",
        "    columns = ['predicted_crisis','predicted_no_crisis']\n",
        "    )"
      ],
      "execution_count": 105,
      "outputs": [
        {
          "output_type": "execute_result",
          "data": {
            "text/html": [
              "<div>\n",
              "<style scoped>\n",
              "    .dataframe tbody tr th:only-of-type {\n",
              "        vertical-align: middle;\n",
              "    }\n",
              "\n",
              "    .dataframe tbody tr th {\n",
              "        vertical-align: top;\n",
              "    }\n",
              "\n",
              "    .dataframe thead th {\n",
              "        text-align: right;\n",
              "    }\n",
              "</style>\n",
              "<table border=\"1\" class=\"dataframe\">\n",
              "  <thead>\n",
              "    <tr style=\"text-align: right;\">\n",
              "      <th></th>\n",
              "      <th>predicted_crisis</th>\n",
              "      <th>predicted_no_crisis</th>\n",
              "    </tr>\n",
              "  </thead>\n",
              "  <tbody>\n",
              "    <tr>\n",
              "      <th>observed_crisis</th>\n",
              "      <td>25</td>\n",
              "      <td>107</td>\n",
              "    </tr>\n",
              "    <tr>\n",
              "      <th>observed_no_crisis</th>\n",
              "      <td>314</td>\n",
              "      <td>609</td>\n",
              "    </tr>\n",
              "  </tbody>\n",
              "</table>\n",
              "</div>"
            ],
            "text/plain": [
              "                    predicted_crisis  predicted_no_crisis\n",
              "observed_crisis                   25                  107\n",
              "observed_no_crisis               314                  609"
            ]
          },
          "metadata": {
            "tags": []
          },
          "execution_count": 105
        }
      ]
    },
    {
      "cell_type": "markdown",
      "metadata": {
        "colab_type": "text",
        "id": "pvBdjnIiYUqn"
      },
      "source": [
        "Acurácia:"
      ]
    },
    {
      "cell_type": "code",
      "metadata": {
        "colab_type": "code",
        "id": "v7dW2MB2YUqp",
        "colab": {
          "base_uri": "https://localhost:8080/",
          "height": 34
        },
        "outputId": "81fa9092-d245-4504-b840-b94aa5139885"
      },
      "source": [
        "from sklearn.metrics import accuracy_score\n",
        "acuracia = accuracy_score(y, y_pred)\n",
        "acuracia"
      ],
      "execution_count": 106,
      "outputs": [
        {
          "output_type": "execute_result",
          "data": {
            "text/plain": [
              "0.6009478672985782"
            ]
          },
          "metadata": {
            "tags": []
          },
          "execution_count": 106
        }
      ]
    },
    {
      "cell_type": "markdown",
      "metadata": {
        "colab_type": "text",
        "id": "UH_wPG4gYUqv"
      },
      "source": [
        "-  Configuração 4:"
      ]
    },
    {
      "cell_type": "code",
      "metadata": {
        "colab_type": "code",
        "id": "TxpNSqetYUqy",
        "colab": {
          "base_uri": "https://localhost:8080/",
          "height": 111
        },
        "outputId": "ce2fa89e-0723-4e7d-ee29-b81d0789f7cc"
      },
      "source": [
        "y_pred = cross_val_predict(model_svm4, X, y, cv=10)\n",
        "pd.DataFrame( \n",
        "    confusion_matrix(y, y_pred),\n",
        "    index = ['observed_crisis','observed_no_crisis'],\n",
        "    columns = ['predicted_crisis','predicted_no_crisis']\n",
        "    )"
      ],
      "execution_count": 107,
      "outputs": [
        {
          "output_type": "execute_result",
          "data": {
            "text/html": [
              "<div>\n",
              "<style scoped>\n",
              "    .dataframe tbody tr th:only-of-type {\n",
              "        vertical-align: middle;\n",
              "    }\n",
              "\n",
              "    .dataframe tbody tr th {\n",
              "        vertical-align: top;\n",
              "    }\n",
              "\n",
              "    .dataframe thead th {\n",
              "        text-align: right;\n",
              "    }\n",
              "</style>\n",
              "<table border=\"1\" class=\"dataframe\">\n",
              "  <thead>\n",
              "    <tr style=\"text-align: right;\">\n",
              "      <th></th>\n",
              "      <th>predicted_crisis</th>\n",
              "      <th>predicted_no_crisis</th>\n",
              "    </tr>\n",
              "  </thead>\n",
              "  <tbody>\n",
              "    <tr>\n",
              "      <th>observed_crisis</th>\n",
              "      <td>0</td>\n",
              "      <td>132</td>\n",
              "    </tr>\n",
              "    <tr>\n",
              "      <th>observed_no_crisis</th>\n",
              "      <td>0</td>\n",
              "      <td>923</td>\n",
              "    </tr>\n",
              "  </tbody>\n",
              "</table>\n",
              "</div>"
            ],
            "text/plain": [
              "                    predicted_crisis  predicted_no_crisis\n",
              "observed_crisis                    0                  132\n",
              "observed_no_crisis                 0                  923"
            ]
          },
          "metadata": {
            "tags": []
          },
          "execution_count": 107
        }
      ]
    },
    {
      "cell_type": "markdown",
      "metadata": {
        "colab_type": "text",
        "id": "hS9GbO0QYUq1"
      },
      "source": [
        "Acurácia:"
      ]
    },
    {
      "cell_type": "code",
      "metadata": {
        "colab_type": "code",
        "id": "jWMQzvsnYUq3",
        "colab": {
          "base_uri": "https://localhost:8080/",
          "height": 34
        },
        "outputId": "3fb8f94e-ba96-435a-bffe-d2f813ac8fd3"
      },
      "source": [
        "from sklearn.metrics import accuracy_score\n",
        "acuracia = accuracy_score(y, y_pred)\n",
        "acuracia"
      ],
      "execution_count": 108,
      "outputs": [
        {
          "output_type": "execute_result",
          "data": {
            "text/plain": [
              "0.8748815165876778"
            ]
          },
          "metadata": {
            "tags": []
          },
          "execution_count": 108
        }
      ]
    },
    {
      "cell_type": "markdown",
      "metadata": {
        "colab_type": "text",
        "id": "pzru6RV8YUq8"
      },
      "source": [
        "-  Configuração 5:"
      ]
    },
    {
      "cell_type": "code",
      "metadata": {
        "colab_type": "code",
        "id": "HMNNraW4YUq9",
        "colab": {
          "base_uri": "https://localhost:8080/",
          "height": 111
        },
        "outputId": "eaf83272-856c-4ba7-fdbb-5844ff3f4706"
      },
      "source": [
        "y_pred = cross_val_predict(model_svm5, X, y, cv=10)\n",
        "pd.DataFrame( \n",
        "    confusion_matrix(y, y_pred),\n",
        "    index = ['observed_crisis','observed_no_crisis'],\n",
        "    columns = ['predicted_crisis','predicted_no_crisis']\n",
        "    )"
      ],
      "execution_count": 109,
      "outputs": [
        {
          "output_type": "execute_result",
          "data": {
            "text/html": [
              "<div>\n",
              "<style scoped>\n",
              "    .dataframe tbody tr th:only-of-type {\n",
              "        vertical-align: middle;\n",
              "    }\n",
              "\n",
              "    .dataframe tbody tr th {\n",
              "        vertical-align: top;\n",
              "    }\n",
              "\n",
              "    .dataframe thead th {\n",
              "        text-align: right;\n",
              "    }\n",
              "</style>\n",
              "<table border=\"1\" class=\"dataframe\">\n",
              "  <thead>\n",
              "    <tr style=\"text-align: right;\">\n",
              "      <th></th>\n",
              "      <th>predicted_crisis</th>\n",
              "      <th>predicted_no_crisis</th>\n",
              "    </tr>\n",
              "  </thead>\n",
              "  <tbody>\n",
              "    <tr>\n",
              "      <th>observed_crisis</th>\n",
              "      <td>123</td>\n",
              "      <td>9</td>\n",
              "    </tr>\n",
              "    <tr>\n",
              "      <th>observed_no_crisis</th>\n",
              "      <td>773</td>\n",
              "      <td>150</td>\n",
              "    </tr>\n",
              "  </tbody>\n",
              "</table>\n",
              "</div>"
            ],
            "text/plain": [
              "                    predicted_crisis  predicted_no_crisis\n",
              "observed_crisis                  123                    9\n",
              "observed_no_crisis               773                  150"
            ]
          },
          "metadata": {
            "tags": []
          },
          "execution_count": 109
        }
      ]
    },
    {
      "cell_type": "markdown",
      "metadata": {
        "colab_type": "text",
        "id": "UFY6HirhYUrE"
      },
      "source": [
        "Acurácia:"
      ]
    },
    {
      "cell_type": "code",
      "metadata": {
        "colab_type": "code",
        "id": "TnblDxVzYUrG",
        "colab": {
          "base_uri": "https://localhost:8080/",
          "height": 34
        },
        "outputId": "5758a587-2d1d-491e-bd38-b517b82c18ba"
      },
      "source": [
        "from sklearn.metrics import accuracy_score\n",
        "acuracia = accuracy_score(y, y_pred)\n",
        "acuracia"
      ],
      "execution_count": 110,
      "outputs": [
        {
          "output_type": "execute_result",
          "data": {
            "text/plain": [
              "0.25876777251184835"
            ]
          },
          "metadata": {
            "tags": []
          },
          "execution_count": 110
        }
      ]
    },
    {
      "cell_type": "markdown",
      "metadata": {
        "id": "nOnq3ujLac_k",
        "colab_type": "text"
      },
      "source": [
        "---\n",
        "\n",
        "## Assim, concluí-se que o modelo com o melhor desempenho foi o ***KNN***, com uma acurácia de 85% aproximadamente."
      ]
    }
  ]
}